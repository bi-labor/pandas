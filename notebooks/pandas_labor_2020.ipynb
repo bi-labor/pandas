{
 "cells": [
  {
   "cell_type": "markdown",
   "metadata": {
    "toc": "true"
   },
   "source": [
    "# Table of Contents\n",
    " <p><div class=\"lev1 toc-item\"><a href=\"#YOUR-NAME-(NEPTUN)\" data-toc-modified-id=\"YOUR-NAME-(NEPTUN)-1\"><span class=\"toc-item-num\">1&nbsp;&nbsp;</span>YOUR NAME (NEPTUN)</a></div><div class=\"lev1 toc-item\"><a href=\"#Business-Intelligence---Pandas\" data-toc-modified-id=\"Business-Intelligence---Pandas-2\"><span class=\"toc-item-num\">2&nbsp;&nbsp;</span>Business Intelligence - Pandas</a></div><div class=\"lev3 toc-item\"><a href=\"#Submission\" data-toc-modified-id=\"Submission-201\"><span class=\"toc-item-num\">2.0.1&nbsp;&nbsp;</span>Submission</a></div><div class=\"lev3 toc-item\"><a href=\"#Tips\" data-toc-modified-id=\"Tips-202\"><span class=\"toc-item-num\">2.0.2&nbsp;&nbsp;</span>Tips</a></div><div class=\"lev3 toc-item\"><a href=\"#Credits\" data-toc-modified-id=\"Credits-203\"><span class=\"toc-item-num\">2.0.3&nbsp;&nbsp;</span>Credits</a></div><div class=\"lev3 toc-item\"><a href=\"#Feedback\" data-toc-modified-id=\"Feedback-204\"><span class=\"toc-item-num\">2.0.4&nbsp;&nbsp;</span>Feedback</a></div><div class=\"lev2 toc-item\"><a href=\"#Code-quality\" data-toc-modified-id=\"Code-quality-21\"><span class=\"toc-item-num\">2.1&nbsp;&nbsp;</span>Code quality</a></div><div class=\"lev2 toc-item\"><a href=\"#PEP8-style-guide\" data-toc-modified-id=\"PEP8-style-guide-22\"><span class=\"toc-item-num\">2.2&nbsp;&nbsp;</span>PEP8 style guide</a></div><div class=\"lev2 toc-item\"><a href=\"#Figure-quality\" data-toc-modified-id=\"Figure-quality-23\"><span class=\"toc-item-num\">2.3&nbsp;&nbsp;</span>Figure quality</a></div><div class=\"lev1 toc-item\"><a href=\"#Main-imports\" data-toc-modified-id=\"Main-imports-3\"><span class=\"toc-item-num\">3&nbsp;&nbsp;</span>Main imports</a></div><div class=\"lev3 toc-item\"><a href=\"#downloading-the-dataset\" data-toc-modified-id=\"downloading-the-dataset-301\"><span class=\"toc-item-num\">3.0.1&nbsp;&nbsp;</span>downloading the dataset</a></div><div class=\"lev1 toc-item\"><a href=\"#Loading-the-dataset\" data-toc-modified-id=\"Loading-the-dataset-4\"><span class=\"toc-item-num\">4&nbsp;&nbsp;</span>Loading the dataset</a></div><div class=\"lev1 toc-item\"><a href=\"#Normalizing-the-dataset\" data-toc-modified-id=\"Normalizing-the-dataset-5\"><span class=\"toc-item-num\">5&nbsp;&nbsp;</span>Normalizing the dataset</a></div><div class=\"lev2 toc-item\"><a href=\"#the-.dt-and-the-.str-namespaces\" data-toc-modified-id=\"the-.dt-and-the-.str-namespaces-51\"><span class=\"toc-item-num\">5.1&nbsp;&nbsp;</span>the <code>.dt</code> and the <code>.str</code> namespaces</a></div><div class=\"lev3 toc-item\"><a href=\"#.dt-namespace\" data-toc-modified-id=\".dt-namespace-511\"><span class=\"toc-item-num\">5.1.1&nbsp;&nbsp;</span><code>.dt</code> namespace</a></div><div class=\"lev3 toc-item\"><a href=\"#.str-namespace\" data-toc-modified-id=\".str-namespace-512\"><span class=\"toc-item-num\">5.1.2&nbsp;&nbsp;</span><code>.str</code> namespace</a></div><div class=\"lev2 toc-item\"><a href=\"#Let's-extract-the-release-year-of-a-movie-into-a-separate\" data-toc-modified-id=\"Let's-extract-the-release-year-of-a-movie-into-a-separate-52\"><span class=\"toc-item-num\">5.2&nbsp;&nbsp;</span>Let's extract the release year of a movie into a separate</a></div><div class=\"lev3 toc-item\"><a href=\"#the-most-common-years-are\" data-toc-modified-id=\"the-most-common-years-are-521\"><span class=\"toc-item-num\">5.2.1&nbsp;&nbsp;</span>the most common years are</a></div><div class=\"lev3 toc-item\"><a href=\"#video_release_date-is-always-NaT-(not-a-time),-let's-drop-it\" data-toc-modified-id=\"video_release_date-is-always-NaT-(not-a-time),-let's-drop-it-522\"><span class=\"toc-item-num\">5.2.2&nbsp;&nbsp;</span><code>video_release_date</code> is always <code>NaT</code> (not a time), let's drop it</a></div><div class=\"lev1 toc-item\"><a href=\"#Basic-analysis-of-the-dataset\" data-toc-modified-id=\"Basic-analysis-of-the-dataset-6\"><span class=\"toc-item-num\">6&nbsp;&nbsp;</span>Basic analysis of the dataset</a></div><div class=\"lev1 toc-item\"><a href=\"#Basic-queries\" data-toc-modified-id=\"Basic-queries-7\"><span class=\"toc-item-num\">7&nbsp;&nbsp;</span>Basic queries</a></div><div class=\"lev1 toc-item\"><a href=\"#Which-movies-were-released-in-1956?\" data-toc-modified-id=\"Which-movies-were-released-in-1956?-8\"><span class=\"toc-item-num\">8&nbsp;&nbsp;</span>Which movies were released in 1956?</a></div><div class=\"lev1 toc-item\"><a href=\"#How-many-movies-were-released-in-the-80s?\" data-toc-modified-id=\"How-many-movies-were-released-in-the-80s?-9\"><span class=\"toc-item-num\">9&nbsp;&nbsp;</span>How many movies were released in the 80s?</a></div><div class=\"lev1 toc-item\"><a href=\"#When-were-the-Die-Hard-movies-released?\" data-toc-modified-id=\"When-were-the-Die-Hard-movies-released?-10\"><span class=\"toc-item-num\">10&nbsp;&nbsp;</span>When were the Die Hard movies released?</a></div><div class=\"lev2 toc-item\"><a href=\"#How-many-movies-are-both-action-and-romance?-What-about-action-or-romance?\" data-toc-modified-id=\"How-many-movies-are-both-action-and-romance?-What-about-action-or-romance?-101\"><span class=\"toc-item-num\">10.1&nbsp;&nbsp;</span>How many movies are both action and romance? What about action or romance?</a></div><div class=\"lev1 toc-item\"><a href=\"#Problem-Set-1:-simple-queries\" data-toc-modified-id=\"Problem-Set-1:-simple-queries-11\"><span class=\"toc-item-num\">11&nbsp;&nbsp;</span>Problem Set 1: simple queries</a></div><div class=\"lev1 toc-item\"><a href=\"#Q1.1-How-many-action-movies-were-release-before-1985-and-in-1985-or-later?-(2-points)\" data-toc-modified-id=\"Q1.1-How-many-action-movies-were-release-before-1985-and-in-1985-or-later?-(2-points)-12\"><span class=\"toc-item-num\">12&nbsp;&nbsp;</span>Q1.1 How many <em>action</em> movies were release before 1985 and in 1985 or later? (2 points)</a></div><div class=\"lev1 toc-item\"><a href=\"#Q1.2-Are-there-thrillers-for-children?-Find-an-example.-(2-points)\" data-toc-modified-id=\"Q1.2-Are-there-thrillers-for-children?-Find-an-example.-(2-points)-13\"><span class=\"toc-item-num\">13&nbsp;&nbsp;</span>Q1.2 Are there thrillers for children? Find an example. (2 points)</a></div><div class=\"lev1 toc-item\"><a href=\"#Q1.3-How-many-movies-have-title-longer-than-40-characters?-(3-points)\" data-toc-modified-id=\"Q1.3-How-many-movies-have-title-longer-than-40-characters?-(3-points)-14\"><span class=\"toc-item-num\">14&nbsp;&nbsp;</span>Q1.3 How many movies have title longer than 40 characters? (3 points)</a></div><div class=\"lev1 toc-item\"><a href=\"#pd.Series.apply:-running-arbitrary-functions-on-each-element\" data-toc-modified-id=\"pd.Series.apply:-running-arbitrary-functions-on-each-element-15\"><span class=\"toc-item-num\">15&nbsp;&nbsp;</span><code>pd.Series.apply</code>: running arbitrary functions on each element</a></div><div class=\"lev1 toc-item\"><a href=\"#Q1.4*-How-many-content-words-does-the-average-title-have?-Which-title-has-the-most/least-words?\" data-toc-modified-id=\"Q1.4*-How-many-content-words-does-the-average-title-have?-Which-title-has-the-most/least-words?-16\"><span class=\"toc-item-num\">16&nbsp;&nbsp;</span>Q1.4* How many content words does the average title have? Which title has the most/least words?</a></div><div class=\"lev2 toc-item\"><a href=\"#Step-1.-Count-words-in-the-title-(2-points)\" data-toc-modified-id=\"Step-1.-Count-words-in-the-title-(2-points)-161\"><span class=\"toc-item-num\">16.1&nbsp;&nbsp;</span>Step 1. Count words in the title (2 points)</a></div><div class=\"lev2 toc-item\"><a href=\"#Step-2.-Shortest-and-longest-titles-by-word-count-(3-points)\" data-toc-modified-id=\"Step-2.-Shortest-and-longest-titles-by-word-count-(3-points)-162\"><span class=\"toc-item-num\">16.2&nbsp;&nbsp;</span>Step 2. Shortest and longest titles by word count (3 points)</a></div><div class=\"lev1 toc-item\"><a href=\"#Q1.5*-How-many-movies-have-the-word-'and'-in-their-title?-Write-a-function-that-counts-movies-with-a-particular-word.-(3-points)\" data-toc-modified-id=\"Q1.5*-How-many-movies-have-the-word-'and'-in-their-title?-Write-a-function-that-counts-movies-with-a-particular-word.-(3-points)-17\"><span class=\"toc-item-num\">17&nbsp;&nbsp;</span>Q1.5* How many movies have the word 'and' in their title? Write a function that counts movies with a particular word. (3 points)</a></div><div class=\"lev1 toc-item\"><a href=\"#Groupby-and-visualization\" data-toc-modified-id=\"Groupby-and-visualization-18\"><span class=\"toc-item-num\">18&nbsp;&nbsp;</span>Groupby and visualization</a></div><div class=\"lev3 toc-item\"><a href=\"#we-can-groupby-on-multiple-columns\" data-toc-modified-id=\"we-can-groupby-on-multiple-columns-1801\"><span class=\"toc-item-num\">18.0.1&nbsp;&nbsp;</span>we can groupby on multiple columns</a></div><div class=\"lev3 toc-item\"><a href=\"#we-can-also-group-on-arbitrary-conditions\" data-toc-modified-id=\"we-can-also-group-on-arbitrary-conditions-1802\"><span class=\"toc-item-num\">18.0.2&nbsp;&nbsp;</span>we can also group on arbitrary conditions</a></div><div class=\"lev1 toc-item\"><a href=\"#Problem-Set-2:-Groupby-and-visualization\" data-toc-modified-id=\"Problem-Set-2:-Groupby-and-visualization-19\"><span class=\"toc-item-num\">19&nbsp;&nbsp;</span>Problem Set 2: Groupby and visualization</a></div><div class=\"lev1 toc-item\"><a href=\"#Q2.1-Write-a-function-that-takes-a-genre-and-groups-movies-of-that-genre-by-year.-Do-not-include-movies-older-than-1985.--(3-points)\" data-toc-modified-id=\"Q2.1-Write-a-function-that-takes-a-genre-and-groups-movies-of-that-genre-by-year.-Do-not-include-movies-older-than-1985.--(3-points)-20\"><span class=\"toc-item-num\">20&nbsp;&nbsp;</span>Q2.1 Write a function that takes a genre and groups movies of that genre by year. Do not include movies older than 1985.  (3 points)</a></div><div class=\"lev1 toc-item\"><a href=\"#Q2.2-Plot-the-number-of-adventure-movies-from-1985-to-1999-on-a-bar-chart.-Use-your-group_genre_by_year-function.-(2-points)\" data-toc-modified-id=\"Q2.2-Plot-the-number-of-adventure-movies-from-1985-to-1999-on-a-bar-chart.-Use-your-group_genre_by_year-function.-(2-points)-21\"><span class=\"toc-item-num\">21&nbsp;&nbsp;</span>Q2.2 Plot the number of adventure movies from 1985 to 1999 on a <em>bar</em> chart. Use your <code>group_genre_by_year</code> function. (2 points)</a></div><div class=\"lev1 toc-item\"><a href=\"#Q2.3-Plot-the-distribution-of-release-day-(day-of-month)-on-a-pie-chart.\" data-toc-modified-id=\"Q2.3-Plot-the-distribution-of-release-day-(day-of-month)-on-a-pie-chart.-22\"><span class=\"toc-item-num\">22&nbsp;&nbsp;</span>Q2.3 Plot the distribution of release day (day of month) on a pie chart.</a></div><div class=\"lev2 toc-item\"><a href=\"#Step-1.-groupby-(2-points)\" data-toc-modified-id=\"Step-1.-groupby-(2-points)-221\"><span class=\"toc-item-num\">22.1&nbsp;&nbsp;</span>Step 1. groupby (2 points)</a></div><div class=\"lev2 toc-item\"><a href=\"#Step-2.-pie-chart.-Add-percent-values.-(3-points)\" data-toc-modified-id=\"Step-2.-pie-chart.-Add-percent-values.-(3-points)-222\"><span class=\"toc-item-num\">22.2&nbsp;&nbsp;</span>Step 2. pie chart. Add percent values. (3 points)</a></div><div class=\"lev1 toc-item\"><a href=\"#Q2.4-We're-building-a-traditional-lexicon-of-the-titles.-What-is-the-distribution-of-initial-letters-(i.e.-how-many-titles-start-with-S?)?-Plot-it-on-a-bar-chart.\" data-toc-modified-id=\"Q2.4-We're-building-a-traditional-lexicon-of-the-titles.-What-is-the-distribution-of-initial-letters-(i.e.-how-many-titles-start-with-S?)?-Plot-it-on-a-bar-chart.-23\"><span class=\"toc-item-num\">23&nbsp;&nbsp;</span>Q2.4 We're building a traditional lexicon of the titles. What is the distribution of initial letters (i.e. how many titles start with S?)? Plot it on a bar chart.</a></div><div class=\"lev2 toc-item\"><a href=\"#Step-1.-Compute-frequencies.-(3-points)\" data-toc-modified-id=\"Step-1.-Compute-frequencies.-(3-points)-231\"><span class=\"toc-item-num\">23.1&nbsp;&nbsp;</span>Step 1. Compute frequencies. (3 points)</a></div><div class=\"lev2 toc-item\"><a href=\"#Step-2.-Plot-it-on-a-bar-chart-in-descending-order.-(3-points)\" data-toc-modified-id=\"Step-2.-Plot-it-on-a-bar-chart-in-descending-order.-(3-points)-232\"><span class=\"toc-item-num\">23.2&nbsp;&nbsp;</span>Step 2. Plot it on a bar chart in descending order. (3 points)</a></div><div class=\"lev1 toc-item\"><a href=\"#Problem-Set-3.-Handling-multiple-dataframes\" data-toc-modified-id=\"Problem-Set-3.-Handling-multiple-dataframes-24\"><span class=\"toc-item-num\">24&nbsp;&nbsp;</span>Problem Set 3. Handling multiple dataframes</a></div><div class=\"lev1 toc-item\"><a href=\"#Merging-with-the-movies-dataframe\" data-toc-modified-id=\"Merging-with-the-movies-dataframe-25\"><span class=\"toc-item-num\">25&nbsp;&nbsp;</span>Merging with the movies dataframe</a></div><div class=\"lev2 toc-item\"><a href=\"#How-many-ratings-are-timestamped-before-the-release-date?\" data-toc-modified-id=\"How-many-ratings-are-timestamped-before-the-release-date?-251\"><span class=\"toc-item-num\">25.1&nbsp;&nbsp;</span>How many ratings are timestamped <em>before</em> the release date?</a></div><div class=\"lev2 toc-item\"><a href=\"#Which-movies-were-rated-before-the-release-date?\" data-toc-modified-id=\"Which-movies-were-rated-before-the-release-date?-252\"><span class=\"toc-item-num\">25.2&nbsp;&nbsp;</span>Which movies were rated before the release date?</a></div><div class=\"lev1 toc-item\"><a href=\"#Q3.1.-How-many-movies-were-rated-4+-at-least-once?-(3-points)\" data-toc-modified-id=\"Q3.1.-How-many-movies-were-rated-4+-at-least-once?-(3-points)-26\"><span class=\"toc-item-num\">26&nbsp;&nbsp;</span>Q3.1. How many movies were rated 4+ at least once? (3 points)</a></div><div class=\"lev1 toc-item\"><a href=\"#Q3.2.-How-many-time-was-each-movie-rated?\" data-toc-modified-id=\"Q3.2.-How-many-time-was-each-movie-rated?-27\"><span class=\"toc-item-num\">27&nbsp;&nbsp;</span>Q3.2. How many time was each movie rated?</a></div><div class=\"lev2 toc-item\"><a href=\"#Step-1.-Compute-the-frequencies-of-movie-ratings.-Use-movie-titles-instead-of-ids.-(2-points)\" data-toc-modified-id=\"Step-1.-Compute-the-frequencies-of-movie-ratings.-Use-movie-titles-instead-of-ids.-(2-points)-271\"><span class=\"toc-item-num\">27.1&nbsp;&nbsp;</span>Step 1. Compute the frequencies of movie ratings. Use movie titles instead of ids. (2 points)</a></div><div class=\"lev2 toc-item\"><a href=\"#Step-2.-Plot-the-frequencies-on-a-histogram.-(2-points)\" data-toc-modified-id=\"Step-2.-Plot-the-frequencies-on-a-histogram.-(2-points)-272\"><span class=\"toc-item-num\">27.2&nbsp;&nbsp;</span>Step 2. Plot the frequencies on a histogram. (2 points)</a></div><div class=\"lev1 toc-item\"><a href=\"#Q3.3.-How-many-ratings-were-submitted-by-each-day-of-the-week?-What-were-their-averages?\" data-toc-modified-id=\"Q3.3.-How-many-ratings-were-submitted-by-each-day-of-the-week?-What-were-their-averages?-28\"><span class=\"toc-item-num\">28&nbsp;&nbsp;</span>Q3.3. How many ratings were submitted by each day of the week? What were their averages?</a></div><div class=\"lev2 toc-item\"><a href=\"#Step-1.-groupby-(3-points)\" data-toc-modified-id=\"Step-1.-groupby-(3-points)-281\"><span class=\"toc-item-num\">28.1&nbsp;&nbsp;</span>Step 1. groupby (3 points)</a></div><div class=\"lev2 toc-item\"><a href=\"#Step-2.-number-of-ratings-per-day-(2-points)\" data-toc-modified-id=\"Step-2.-number-of-ratings-per-day-(2-points)-282\"><span class=\"toc-item-num\">28.2&nbsp;&nbsp;</span>Step 2. number of ratings per day (2 points)</a></div><div class=\"lev2 toc-item\"><a href=\"#Step-3.-mean-rating-by-day-(2-points)\" data-toc-modified-id=\"Step-3.-mean-rating-by-day-(2-points)-283\"><span class=\"toc-item-num\">28.3&nbsp;&nbsp;</span>Step 3. mean rating by day (2 points)</a></div><div class=\"lev1 toc-item\"><a href=\"#Q3.4**-What-is-the-mean-of-ratings-by-genre?\" data-toc-modified-id=\"Q3.4**-What-is-the-mean-of-ratings-by-genre?-29\"><span class=\"toc-item-num\">29&nbsp;&nbsp;</span>Q3.4** What is the mean of ratings by genre?</a></div><div class=\"lev2 toc-item\"><a href=\"#Step-1.-Compute-the-mean-scores.-(5-points)\" data-toc-modified-id=\"Step-1.-Compute-the-mean-scores.-(5-points)-291\"><span class=\"toc-item-num\">29.1&nbsp;&nbsp;</span>Step 1. Compute the mean scores. (5 points)</a></div><div class=\"lev2 toc-item\"><a href=\"#Step-2.-Plot-it-on-a-bar-chart-in-descending-order-by-score.-Set-the-limits-of-the-y-axis-to-(2.5,-4).-(3-points)\" data-toc-modified-id=\"Step-2.-Plot-it-on-a-bar-chart-in-descending-order-by-score.-Set-the-limits-of-the-y-axis-to-(2.5,-4).-(3-points)-292\"><span class=\"toc-item-num\">29.2&nbsp;&nbsp;</span>Step 2. Plot it on a bar chart in descending order by score. Set the limits of the y-axis to (2.5, 4). (3 points)</a></div><div class=\"lev1 toc-item\"><a href=\"#Problem-Set-4.-User-demographics\" data-toc-modified-id=\"Problem-Set-4.-User-demographics-30\"><span class=\"toc-item-num\">30&nbsp;&nbsp;</span>Problem Set 4. User demographics</a></div><div class=\"lev1 toc-item\"><a href=\"#Q4.1-Load-the-users-table-from-the-file-ml-100k/u.user.-(3-points)\" data-toc-modified-id=\"Q4.1-Load-the-users-table-from-the-file-ml-100k/u.user.-(3-points)-31\"><span class=\"toc-item-num\">31&nbsp;&nbsp;</span>Q4.1 Load the users table from the file <code>ml-100k/u.user</code>. (3 points)</a></div><div class=\"lev1 toc-item\"><a href=\"#Q4.2-Merge-the-users-table-with-ratings.-Do-not-discard-any-columns.-(3-points)\" data-toc-modified-id=\"Q4.2-Merge-the-users-table-with-ratings.-Do-not-discard-any-columns.-(3-points)-32\"><span class=\"toc-item-num\">32&nbsp;&nbsp;</span>Q4.2 Merge the <code>users</code> table with <code>ratings</code>. Do not discard any columns. (3 points)</a></div><div class=\"lev1 toc-item\"><a href=\"#Q-4.3-How-strict-are-people-by-occupation?-Compute-the-average-of-ratings-by-occupation.-Plot-it-on-a-bar-chart-in-descending-order.\" data-toc-modified-id=\"Q-4.3-How-strict-are-people-by-occupation?-Compute-the-average-of-ratings-by-occupation.-Plot-it-on-a-bar-chart-in-descending-order.-33\"><span class=\"toc-item-num\">33&nbsp;&nbsp;</span>Q 4.3 How strict are people by occupation? Compute the average of ratings by occupation. Plot it on a bar chart in descending order.</a></div><div class=\"lev2 toc-item\"><a href=\"#Step-1.-Compute-the-averages-by-occupation.-(2-points)\" data-toc-modified-id=\"Step-1.-Compute-the-averages-by-occupation.-(2-points)-331\"><span class=\"toc-item-num\">33.1&nbsp;&nbsp;</span>Step 1. Compute the averages by occupation. (2 points)</a></div><div class=\"lev2 toc-item\"><a href=\"#Step-2.-Plot-it-on-a-bar-chart.-(2-points)\" data-toc-modified-id=\"Step-2.-Plot-it-on-a-bar-chart.-(2-points)-332\"><span class=\"toc-item-num\">33.2&nbsp;&nbsp;</span>Step 2. Plot it on a bar chart. (2 points)</a></div><div class=\"lev1 toc-item\"><a href=\"#Q4.4*-Plot-the-averages-by-occupation-and-gender-on-a-multiple-bar-plot.-(4-points)\" data-toc-modified-id=\"Q4.4*-Plot-the-averages-by-occupation-and-gender-on-a-multiple-bar-plot.-(4-points)-34\"><span class=\"toc-item-num\">34&nbsp;&nbsp;</span>Q4.4* Plot the averages by occupation <em>and</em> gender on a multiple bar plot. (4 points)</a></div><div class=\"lev1 toc-item\"><a href=\"#Q4.5-How-likely-are-different-age-groups-to-rate-movies?-Compute-the-number-of-ratings-by-age-grouped-into-10-19,-20-29,-etc.-Plot-it-on-a-bar-chart.\" data-toc-modified-id=\"Q4.5-How-likely-are-different-age-groups-to-rate-movies?-Compute-the-number-of-ratings-by-age-grouped-into-10-19,-20-29,-etc.-Plot-it-on-a-bar-chart.-35\"><span class=\"toc-item-num\">35&nbsp;&nbsp;</span>Q4.5 How likely are different age groups to rate movies? Compute the number of ratings by age grouped into 10-19, 20-29, etc. Plot it on a bar chart.</a></div><div class=\"lev2 toc-item\"><a href=\"#Step-1.-Number-of-ratings-by-age-group-(3-points)\" data-toc-modified-id=\"Step-1.-Number-of-ratings-by-age-group-(3-points)-351\"><span class=\"toc-item-num\">35.1&nbsp;&nbsp;</span>Step 1. Number of ratings by age group (3 points)</a></div><div class=\"lev2 toc-item\"><a href=\"#Step-2.-Plot-it-on-a-bar-chart.-(2-points)\" data-toc-modified-id=\"Step-2.-Plot-it-on-a-bar-chart.-(2-points)-352\"><span class=\"toc-item-num\">35.2&nbsp;&nbsp;</span>Step 2. Plot it on a bar chart. (2 points)</a></div><div class=\"lev1 toc-item\"><a href=\"#Q4.6-What-hour-of-the-day-do-different-occupations-rate?-(3-points)\" data-toc-modified-id=\"Q4.6-What-hour-of-the-day-do-different-occupations-rate?-(3-points)-36\"><span class=\"toc-item-num\">36&nbsp;&nbsp;</span>Q4.6 What hour of the day do different occupations rate? (3 points)</a></div><div class=\"lev2 toc-item\"><a href=\"#Create-a-function-that-computes-the-number-of-ratings-per-hour-for-a-single-occupation.\" data-toc-modified-id=\"Create-a-function-that-computes-the-number-of-ratings-per-hour-for-a-single-occupation.-361\"><span class=\"toc-item-num\">36.1&nbsp;&nbsp;</span>Create a function that computes the number of ratings per hour for a single occupation.</a></div><div class=\"lev1 toc-item\"><a href=\"#Q4.7*-Plot-the-rating-hours-of-marketing-employees-and-programmers-on-two-pie-charts.-(4-points)\" data-toc-modified-id=\"Q4.7*-Plot-the-rating-hours-of-marketing-employees-and-programmers-on-two-pie-charts.-(4-points)-37\"><span class=\"toc-item-num\">37&nbsp;&nbsp;</span>Q4.7* Plot the rating hours of marketing employees and programmers on two pie charts. (4 points)</a></div><div class=\"lev1 toc-item\"><a href=\"#Q4.8*-Do-older-people-prefer-movies-with-longer-titles?-Compute-the-average-title-length-by-age-group-(0-10,-10-20).\" data-toc-modified-id=\"Q4.8*-Do-older-people-prefer-movies-with-longer-titles?-Compute-the-average-title-length-by-age-group-(0-10,-10-20).-38\"><span class=\"toc-item-num\">38&nbsp;&nbsp;</span>Q4.8* Do older people prefer movies with longer titles? Compute the average title length by age group (0-10, 10-20).</a></div><div class=\"lev2 toc-item\"><a href=\"#Step1.-compute-mean-length-(4-points)\" data-toc-modified-id=\"Step1.-compute-mean-length-(4-points)-381\"><span class=\"toc-item-num\">38.1&nbsp;&nbsp;</span>Step1. compute mean length (4 points)</a></div><div class=\"lev2 toc-item\"><a href=\"#Step-2.-Plot-it-on-a-bar-chart.-Choose-a-reasonable-range-for-the-y-axis.-(2-points)\" data-toc-modified-id=\"Step-2.-Plot-it-on-a-bar-chart.-Choose-a-reasonable-range-for-the-y-axis.-(2-points)-382\"><span class=\"toc-item-num\">38.2&nbsp;&nbsp;</span>Step 2. Plot it on a bar chart. Choose a reasonable range for the y-axis. (2 points)</a></div><div class=\"lev1 toc-item\"><a href=\"#Problem-Set-5.-A-simple-recommendation-system\" data-toc-modified-id=\"Problem-Set-5.-A-simple-recommendation-system-39\"><span class=\"toc-item-num\">39&nbsp;&nbsp;</span>Problem Set 5. A simple recommendation system</a></div><div class=\"lev1 toc-item\"><a href=\"#Q5.1.-Extract-genre-information-as-a-matrix.-(2-points)\" data-toc-modified-id=\"Q5.1.-Extract-genre-information-as-a-matrix.-(2-points)-40\"><span class=\"toc-item-num\">40&nbsp;&nbsp;</span>Q5.1. Extract genre information as a matrix. (2 points)</a></div><div class=\"lev1 toc-item\"><a href=\"#Q5.2-Run-the-k-nearest-neighbor-algorithm-on-X.-(3-points)\" data-toc-modified-id=\"Q5.2-Run-the-k-nearest-neighbor-algorithm-on-X.-(3-points)-41\"><span class=\"toc-item-num\">41&nbsp;&nbsp;</span>Q5.2 Run the k-nearest neighbor algorithm on X. (3 points)</a></div><div class=\"lev1 toc-item\"><a href=\"#Q5.3-Increment-by-one-(3-points)\" data-toc-modified-id=\"Q5.3-Increment-by-one-(3-points)-42\"><span class=\"toc-item-num\">42&nbsp;&nbsp;</span>Q5.3 Increment by one (3 points)</a></div><div class=\"lev1 toc-item\"><a href=\"#Q5.4*-Find-the-movies-corresponding-to-these-indices-(5-points)\" data-toc-modified-id=\"Q5.4*-Find-the-movies-corresponding-to-these-indices-(5-points)-43\"><span class=\"toc-item-num\">43&nbsp;&nbsp;</span>Q5.4* Find the movies corresponding to these indices (5 points)</a></div><div class=\"lev1 toc-item\"><a href=\"#Q5.5*-Replace-the-index-of-the-movie-by-its-title.-(2-points)\" data-toc-modified-id=\"Q5.5*-Replace-the-index-of-the-movie-by-its-title.-(2-points)-44\"><span class=\"toc-item-num\">44&nbsp;&nbsp;</span>Q5.5* Replace the index of the movie by its title. (2 points)</a></div><div class=\"lev1 toc-item\"><a href=\"#Q5.6**-Improve-your-recommedation-system-by-adding-other-columns.-(5-points)\" data-toc-modified-id=\"Q5.6**-Improve-your-recommedation-system-by-adding-other-columns.-(5-points)-45\"><span class=\"toc-item-num\">45&nbsp;&nbsp;</span>Q5.6** Improve your recommedation system by adding other columns. (5 points)</a></div>"
   ]
  },
  {
   "cell_type": "markdown",
   "metadata": {},
   "source": [
    "# YOUR NAME (NEPTUN)\n",
    "\n",
    "# Business Intelligence - Pandas\n",
    "\n",
    "February 26, 2020"
   ]
  },
  {
   "cell_type": "markdown",
   "metadata": {
    "deletable": false,
    "editable": false,
    "nbgrader": {
     "cell_type": "markdown",
     "checksum": "697add137caf8318aafd15a83f903468",
     "grade": false,
     "grade_id": "cell-11d698aeba6abdaa",
     "locked": true,
     "schema_version": 3,
     "solution": false,
     "task": false
    }
   },
   "source": [
    "## General information\n",
    "\n",
    "This goal of this notebook is to give a brief introduction to the `pandas` library, a popular data manipulation and analysis tool for Python.\n",
    "\n",
    "Problems are numbered from **Q1** to **Q5** with many subproblems such as **Q1.1**. The scores range from 2 to 5 based on the difficulty of the problem. Grades are determined using this table (TODO update):\n",
    "\n",
    "| score | grade |\n",
    "| ---- | ----|\n",
    "| 80+ | 5 |\n",
    "| 60+ | 4 |\n",
    "| 40+ | 3 |\n",
    "| 20+ | 2 |\n",
    "| 20- | 1 |\n",
    "\n",
    "Your answer should go in place of `YOUR CODE HERE`. Please remove `raise NotImplementedError`.\n",
    "Most of the tasks are automatically graded using visible and hidden tests.\n",
    "Visible tests are available in this version, hidden tests are not available to you.\n",
    "This means that passing all visible tests does not ensure that your answer is correct.\n",
    "Not passing the visible tests means that your answer is incorrect.\n",
    "Do not delete or copy cells and do not edit the source code.\n",
    "You may add cells but they will not be graded.\n",
    "You will not find the hidden tests in the source code but you can mess up the autograder if you manually edit it.\n",
    "\n",
    "**VERY IMPORTANT** Do not edit cell metadata or the raw `.ipynb`. Autograde will fail if you change something carelessly.\n",
    "\n",
    "Advanced exercises are marked with \\*.\n",
    "More advanced ones have more stars.\n",
    "Some problems build on each other - it should be obvious how from the code - but advanced problems can safely be skipped.\n",
    "Completing all non-advanced exercises correctly is worth 63 points."
   ]
  },
  {
   "cell_type": "markdown",
   "metadata": {
    "deletable": false,
    "editable": false,
    "nbgrader": {
     "cell_type": "markdown",
     "checksum": "0b9f0e4a8feb0f844bde36c705ad168c",
     "grade": false,
     "grade_id": "cell-54afe2edc872869d",
     "locked": true,
     "schema_version": 3,
     "solution": false,
     "task": false
    }
   },
   "source": [
    "### Submission\n",
    "\n",
    "You only need to submit this notebook (no separate report).\n",
    "Make sure that you save the last version of your notebook.\n",
    "Please rename the notebook to your neptun code (`ABC123.ipynb`), package it in an archive (`.zip`) and upload it to the class website.\n",
    "You are free to continue working on this problem set after class but make sure that you upload it by the end of the week (Sunday).\n",
    "\n",
    "**VERY IMPORTANT** Run Kernel->Restart & Run All and make sure that it finishes without errors.\n",
    "If you skip exercises, you need to manually run the remaining cells.\n",
    "Skipping exercises won't affect the autograder."
   ]
  },
  {
   "cell_type": "markdown",
   "metadata": {
    "deletable": false,
    "editable": false,
    "nbgrader": {
     "cell_type": "markdown",
     "checksum": "0aecf00f5ee3e7b43ecdfd54d4712382",
     "grade": false,
     "grade_id": "cell-184a5c1740f4e4ef",
     "locked": true,
     "schema_version": 3,
     "solution": false,
     "task": false
    }
   },
   "source": [
    "### Tips\n",
    "\n",
    "You generally don't need to leave any DataFrames printed as cell outputs. You can do it for debug purposes and it won't affect the autograder but please don't leave long tables in the output. Use `.head()` instead.\n",
    "\n",
    "Be concise. All exercises can be solved with less than 5 lines of code.\n",
    "\n",
    "Avoid for loops. Almost all tasks can be solved with efficient pandas operations.\n",
    "\n",
    "Avoid overriding Python built-in functions with your own variables (`max = 2`).\n",
    "\n",
    "If you mess up, you can always do one of the following\n",
    "  1. Kernel -> Restart & Run All - this will run all cells from top to bottom until an exception is thrown\n",
    "  1. Kernel -> Restart, Cell -> Run All Above - this will run all cells from top to bottom until the current cell is reached or and exception is thrown\n",
    "  \n",
    "If your notebook runs for longer than a minute, one or more of your solutions is very inefficient."
   ]
  },
  {
   "cell_type": "markdown",
   "metadata": {
    "deletable": false,
    "editable": false,
    "nbgrader": {
     "cell_type": "markdown",
     "checksum": "595f5fc37c19a1406487f2e55c2673ea",
     "grade": false,
     "grade_id": "cell-73ba52c6b5f7d6e7",
     "locked": true,
     "schema_version": 3,
     "solution": false,
     "task": false
    }
   },
   "source": [
    "### Credits\n",
    "\n",
    "This assignment was created by Judit Ács using [nbgrader](https://nbgrader.readthedocs.io/).\n",
    "\n",
    "### Feedback\n",
    "\n",
    "Please fill out this [short survey](https://forms.gle/i717e8Mzijjy3Pfk9) after you completed the problems."
   ]
  },
  {
   "cell_type": "markdown",
   "metadata": {
    "deletable": false,
    "editable": false,
    "nbgrader": {
     "cell_type": "markdown",
     "checksum": "9bce5a47d36632b348df0a19aea3e53c",
     "grade": false,
     "grade_id": "cell-5a4be9ece534d94f",
     "locked": true,
     "points": 3,
     "schema_version": 3,
     "solution": false,
     "task": true
    }
   },
   "source": [
    "## Code quality\n",
    "\n",
    "You can get 3 extra points for code quality."
   ]
  },
  {
   "cell_type": "markdown",
   "metadata": {
    "deletable": false,
    "editable": false,
    "nbgrader": {
     "cell_type": "markdown",
     "checksum": "c9f84b2e426759a175cc9fda2820ffe2",
     "grade": false,
     "grade_id": "cell-84b3d49fe2ed7e26",
     "locked": true,
     "points": 2,
     "schema_version": 3,
     "solution": false,
     "task": true
    }
   },
   "source": [
    "## PEP8 style guide\n",
    "\n",
    "You can get 2 extra points for adhering to the PEP8 Python style guide."
   ]
  },
  {
   "cell_type": "markdown",
   "metadata": {
    "deletable": false,
    "editable": false,
    "nbgrader": {
     "cell_type": "markdown",
     "checksum": "6b88998c7eeb574123232dad28158ba5",
     "grade": false,
     "grade_id": "cell-ed1c3bdc30b4b0a4",
     "locked": true,
     "points": 5,
     "schema_version": 3,
     "solution": false,
     "task": true
    }
   },
   "source": [
    "## Figure quality\n",
    "\n",
    "You can get 5 extra points for the quality of your figures. Good figures have labeled axes with meaningful names, reasonable figure size and reasonable axes limits.\n",
    "Extra attention to details also helps."
   ]
  },
  {
   "cell_type": "markdown",
   "metadata": {},
   "source": [
    "# Main imports"
   ]
  },
  {
   "cell_type": "code",
   "execution_count": null,
   "metadata": {},
   "outputs": [],
   "source": [
    "import pandas as pd\n",
    "%matplotlib inline\n",
    "import matplotlib.pyplot as plt\n",
    "import numpy as np\n",
    "\n",
    "import seaborn as sns\n",
    "sns.set_context('notebook')"
   ]
  },
  {
   "cell_type": "markdown",
   "metadata": {
    "deletable": false,
    "editable": false,
    "nbgrader": {
     "cell_type": "markdown",
     "checksum": "83d9363fcd311eb4efd8fd8c823b6ae6",
     "grade": false,
     "grade_id": "cell-32d0b96512d50be0",
     "locked": true,
     "schema_version": 3,
     "solution": false,
     "task": false
    }
   },
   "source": [
    "### downloading the dataset"
   ]
  },
  {
   "cell_type": "code",
   "execution_count": null,
   "metadata": {},
   "outputs": [],
   "source": [
    "import os\n",
    "\n",
    "data_dir = os.getenv(\"MOVIELENS\")\n",
    "if data_dir is None:\n",
    "    data_dir = \"\"\n",
    "\n",
    "ml_path = os.path.join(data_dir, \"ml.zip\")\n",
    "\n",
    "if os.path.exists(ml_path):\n",
    "    print(\"File already exists, skipping download step.\")\n",
    "else:\n",
    "    print(\"Downloading the Movielens dataset\")\n",
    "    import urllib\n",
    "    u = urllib.request.URLopener()\n",
    "    u.retrieve(\"http://files.grouplens.org/datasets/movielens/ml-100k.zip\", ml_path)"
   ]
  },
  {
   "cell_type": "code",
   "execution_count": null,
   "metadata": {},
   "outputs": [],
   "source": [
    "unzip_path = os.path.join(data_dir, \"ml-100k\")\n",
    "\n",
    "if os.path.exists(unzip_path):\n",
    "    print(\"Dataset already unpacked, skipping unpacking step.\")\n",
    "else:\n",
    "    print(\"Unziping the dataset.\")\n",
    "    from zipfile import ZipFile\n",
    "    with ZipFile(ml_path) as myzip:\n",
    "        myzip.extractall(data_dir)\n",
    "        \n",
    "data_dir = unzip_path"
   ]
  },
  {
   "cell_type": "markdown",
   "metadata": {
    "deletable": false,
    "editable": false,
    "nbgrader": {
     "cell_type": "markdown",
     "checksum": "f1e7f833fcd18dd31ad63a55968f1ef5",
     "grade": false,
     "grade_id": "cell-7f356d60fac614a4",
     "locked": true,
     "schema_version": 3,
     "solution": false,
     "task": false
    }
   },
   "source": [
    "# Loading the dataset\n",
    "\n",
    "`pd.read_table` loads a tabular dataset. The full function signature is:\n",
    "\n",
    "\n",
    "~~~\n",
    "pandas.read_table(filepath_or_buffer: Union[str, pathlib.Path, IO[~AnyStr]], sep='t', delimiter=None, header='infer', names=None, index_col=None, usecols=None, squeeze=False, prefix=None, mangle_dupe_cols=True, dtype=None, engine=None, converters=None, true_values=None, false_values=None, skipinitialspace=False, skiprows=None, skipfooter=0, nrows=None, na_values=None, keep_default_na=True, na_filter=True, verbose=False, skip_blank_lines=True, parse_dates=False, infer_datetime_format=False, keep_date_col=False, date_parser=None, dayfirst=False, cache_dates=True, iterator=False, chunksize=None, compression='infer', thousands=None, decimal: str = '.', lineterminator=None, quotechar='\"', quoting=0, doublequote=True, escapechar=None, comment=None, encoding=None, dialect=None, error_bad_lines=True, warn_bad_lines=True, delim_whitespace=False, low_memory=True, memory_map=False, float_precision=None\n",
    "~~~\n",
    "\n",
    "let's try it with defaults"
   ]
  },
  {
   "cell_type": "code",
   "execution_count": null,
   "metadata": {},
   "outputs": [],
   "source": [
    "# df = pd.read_table(\"ml-100k/u.item\")  # UnicodeDecodeErrort kapunk, mert rossz dekódert használ\n",
    "df = pd.read_table(os.path.join(data_dir, \"u.item\"), encoding=\"latin1\")\n",
    "df.head()"
   ]
  },
  {
   "cell_type": "markdown",
   "metadata": {
    "deletable": false,
    "editable": false,
    "nbgrader": {
     "cell_type": "markdown",
     "checksum": "3c00cc168477aacf42277e2c9150bbe4",
     "grade": false,
     "grade_id": "cell-90e3cbfb5c9d778b",
     "locked": true,
     "schema_version": 3,
     "solution": false,
     "task": false
    }
   },
   "source": [
    "A couple improvements:\n",
    "\n",
    "1. Use a different separator. `|` instead of `\\t`.\n",
    "1. The first line of the file is used as the header. The real names of the columns are listed in the `README`, they can be specified with the `names` parameters.\n",
    "1. `read_table` added an index (0..N-1), but the dataset already has an index, let's use that one (`index_col='movie_id'`)\n",
    "1. two columns, `release_date` and `video_release_date` are dates, pandas can parse them and create its own datetype. "
   ]
  },
  {
   "cell_type": "code",
   "execution_count": null,
   "metadata": {},
   "outputs": [],
   "source": [
    "column_names = [\n",
    "    \"movie_id\", \"title\", \"release_date\", \"video_release_date\", \"imdb_url\", \"unknown\", \"action\", \"adventure\", \"animation\",\n",
    "    \"children\", \"comedy\", \"crime\", \"documentary\", \"drama\", \"fantasy\", \"film_noir\", \"horror\", \"musical\", \"mystery\",\n",
    "    \"romance\", \"sci_fi\", \"thriller\", \"war\", \"western\"]\n",
    "df = pd.read_table(\n",
    "    os.path.join(data_dir, \"u.item\"), sep=\"|\",\n",
    "    names=column_names, encoding=\"latin1\", index_col='movie_id',\n",
    "    parse_dates=['release_date', 'video_release_date']\n",
    ")\n",
    "df.head()"
   ]
  },
  {
   "cell_type": "markdown",
   "metadata": {
    "deletable": false,
    "editable": false,
    "nbgrader": {
     "cell_type": "markdown",
     "checksum": "76677290c089a315769bf9c6790ce253",
     "grade": false,
     "grade_id": "cell-f9c748367af36647",
     "locked": true,
     "schema_version": 3,
     "solution": false,
     "task": false
    }
   },
   "source": [
    "# Normalizing the dataset\n",
    "\n",
    "## the `.dt` and the `.str` namespaces\n",
    "\n",
    "The year in the title seems redundant, let's check if it's always the same as the release date. The `.dt` namespace has various methods and attributes for handling dates, and the `.str` namespace has string handling methods.\n",
    "\n",
    "### `.dt` namespace"
   ]
  },
  {
   "cell_type": "code",
   "execution_count": null,
   "metadata": {},
   "outputs": [],
   "source": [
    "print(\", \".join([d for d in dir(df.release_date.dt) if not d.startswith('_')]))"
   ]
  },
  {
   "cell_type": "markdown",
   "metadata": {
    "deletable": false,
    "editable": false,
    "nbgrader": {
     "cell_type": "markdown",
     "checksum": "0a4e16ed7a3dd1debb76c86e4b39f39d",
     "grade": false,
     "grade_id": "cell-5f9c27b85eccc90d",
     "locked": true,
     "schema_version": 3,
     "solution": false,
     "task": false
    }
   },
   "source": [
    "### `.str` namespace"
   ]
  },
  {
   "cell_type": "code",
   "execution_count": null,
   "metadata": {},
   "outputs": [],
   "source": [
    "print(\", \".join([d for d in dir(df.title.str) if not d.startswith('_')]))"
   ]
  },
  {
   "cell_type": "markdown",
   "metadata": {
    "deletable": false,
    "editable": false,
    "nbgrader": {
     "cell_type": "markdown",
     "checksum": "07d097d2798274606e62559cdcc6054c",
     "grade": false,
     "grade_id": "cell-ce1e74dc28161833",
     "locked": true,
     "schema_version": 3,
     "solution": false,
     "task": false
    }
   },
   "source": [
    "## Let's extract the release year of a movie into a separate"
   ]
  },
  {
   "cell_type": "code",
   "execution_count": null,
   "metadata": {},
   "outputs": [],
   "source": [
    "df['year'] = df.release_date.dt.year"
   ]
  },
  {
   "cell_type": "markdown",
   "metadata": {
    "deletable": false,
    "editable": false,
    "nbgrader": {
     "cell_type": "markdown",
     "checksum": "34866bea4c47f97546cdc55556fd84c2",
     "grade": false,
     "grade_id": "cell-5606b6afef6bb0e6",
     "locked": true,
     "schema_version": 3,
     "solution": false,
     "task": false
    }
   },
   "source": [
    "### the most common years are"
   ]
  },
  {
   "cell_type": "code",
   "execution_count": null,
   "metadata": {},
   "outputs": [],
   "source": [
    "df.year.value_counts().head()"
   ]
  },
  {
   "cell_type": "markdown",
   "metadata": {
    "deletable": false,
    "editable": false,
    "nbgrader": {
     "cell_type": "markdown",
     "checksum": "26bcc6775f6242e613958dae4c8470b4",
     "grade": false,
     "grade_id": "cell-67dd9dce398c2d17",
     "locked": true,
     "schema_version": 3,
     "solution": false,
     "task": false
    }
   },
   "source": [
    "### `video_release_date` is always `NaT` (not a time), let's drop it"
   ]
  },
  {
   "cell_type": "code",
   "execution_count": null,
   "metadata": {},
   "outputs": [],
   "source": [
    "df.video_release_date.isnull().value_counts()"
   ]
  },
  {
   "cell_type": "code",
   "execution_count": null,
   "metadata": {},
   "outputs": [],
   "source": [
    "df = df.drop('video_release_date', axis=1)"
   ]
  },
  {
   "cell_type": "markdown",
   "metadata": {
    "deletable": false,
    "editable": false,
    "nbgrader": {
     "cell_type": "markdown",
     "checksum": "55500d0c4a780c4aea70bf28917cfc82",
     "grade": false,
     "grade_id": "cell-f377ab2987b14a4d",
     "locked": true,
     "schema_version": 3,
     "solution": false,
     "task": false
    }
   },
   "source": [
    "# Basic analysis of the dataset\n",
    "\n",
    "`describe` generate descriptive statistics."
   ]
  },
  {
   "cell_type": "code",
   "execution_count": null,
   "metadata": {},
   "outputs": [],
   "source": [
    "df.describe()"
   ]
  },
  {
   "cell_type": "markdown",
   "metadata": {},
   "source": [
    "Only numeric columns are included by default. A single column (`pd.Series`) has a describe function too"
   ]
  },
  {
   "cell_type": "code",
   "execution_count": null,
   "metadata": {},
   "outputs": [],
   "source": [
    "df.release_date.describe()"
   ]
  },
  {
   "cell_type": "markdown",
   "metadata": {
    "deletable": false,
    "editable": false,
    "nbgrader": {
     "cell_type": "markdown",
     "checksum": "cef2acf44b7a8df44dd261a3139f2614",
     "grade": false,
     "grade_id": "cell-9d81ccf665ea37a4",
     "locked": true,
     "schema_version": 3,
     "solution": false,
     "task": false
    }
   },
   "source": [
    "Numberic statistics are available as separate functions too:\n",
    "\n",
    "1. count: number of non-NA cells. NA is **NOT** the same as 0\n",
    "1. mean: average\n",
    "1. std: standard deviation\n",
    "1. var: variance\n",
    "1. min, max\n",
    "\n",
    "etc."
   ]
  },
  {
   "cell_type": "code",
   "execution_count": null,
   "metadata": {},
   "outputs": [],
   "source": [
    "df.mean()"
   ]
  },
  {
   "cell_type": "markdown",
   "metadata": {
    "deletable": false,
    "editable": false,
    "nbgrader": {
     "cell_type": "markdown",
     "checksum": "39f0c8f8ea154d21fff6f02a17db2e3d",
     "grade": false,
     "grade_id": "cell-5f7a284cb0920557",
     "locked": true,
     "schema_version": 3,
     "solution": false,
     "task": false
    }
   },
   "source": [
    "# Basic queries\n",
    "\n",
    "# Which movies were released in 1956?"
   ]
  },
  {
   "cell_type": "code",
   "execution_count": null,
   "metadata": {},
   "outputs": [],
   "source": [
    "df[df.release_date.dt.year==1956]"
   ]
  },
  {
   "cell_type": "markdown",
   "metadata": {
    "deletable": false,
    "editable": false,
    "nbgrader": {
     "cell_type": "markdown",
     "checksum": "68b829c517b3ddc437c22291ca00891f",
     "grade": false,
     "grade_id": "cell-6594c85c56b84bcd",
     "locked": true,
     "schema_version": 3,
     "solution": false,
     "task": false
    }
   },
   "source": [
    "# How many movies were released in the 80s?\n",
    "\n",
    "Let's print 5 examples too."
   ]
  },
  {
   "cell_type": "code",
   "execution_count": null,
   "metadata": {},
   "outputs": [],
   "source": [
    "d = df[(df.release_date.dt.year >=  1980) & (df.release_date.dt.year < 1990)]\n",
    "print(f\"{len(d)} movies were released in the 80s.\")\n",
    "print(\"\\nA few examples:\")\n",
    "print(\"\\n\".join(d.sample(5).title))"
   ]
  },
  {
   "cell_type": "markdown",
   "metadata": {
    "deletable": false,
    "editable": false,
    "nbgrader": {
     "cell_type": "markdown",
     "checksum": "ae8c7a3b2f1ca2d99d3488013450d8e7",
     "grade": false,
     "grade_id": "cell-09f9c5454a628494",
     "locked": true,
     "schema_version": 3,
     "solution": false,
     "task": false
    }
   },
   "source": [
    "# When were the Die Hard movies released?"
   ]
  },
  {
   "cell_type": "code",
   "execution_count": null,
   "metadata": {},
   "outputs": [],
   "source": [
    "df[df.title.str.contains('Die Hard')]"
   ]
  },
  {
   "cell_type": "markdown",
   "metadata": {
    "deletable": false,
    "editable": false,
    "nbgrader": {
     "cell_type": "markdown",
     "checksum": "e10fedd283f42a64d06a3a35fe5a880b",
     "grade": false,
     "grade_id": "cell-a69cd2ca4e37cd58",
     "locked": true,
     "schema_version": 3,
     "solution": false,
     "task": false
    }
   },
   "source": [
    "Die Hard 4 and 5 are missing. This is because the dataset only contains movies released between:"
   ]
  },
  {
   "cell_type": "code",
   "execution_count": null,
   "metadata": {},
   "outputs": [],
   "source": [
    "df.release_date.min(), df.release_date.max()"
   ]
  },
  {
   "cell_type": "markdown",
   "metadata": {
    "deletable": false,
    "editable": false,
    "nbgrader": {
     "cell_type": "markdown",
     "checksum": "4911e14f9667eb0e9ceb74c386136ffa",
     "grade": false,
     "grade_id": "cell-69584761ceee55a0",
     "locked": true,
     "schema_version": 3,
     "solution": false,
     "task": false
    }
   },
   "source": [
    "and Die Hard 4 and 5 were released in 2007 and 2013 respectively."
   ]
  },
  {
   "cell_type": "markdown",
   "metadata": {
    "deletable": false,
    "editable": false,
    "nbgrader": {
     "cell_type": "markdown",
     "checksum": "de0fb894f6d7606bf52718e9034baad6",
     "grade": false,
     "grade_id": "cell-6b406aaa7a9b18cf",
     "locked": true,
     "schema_version": 3,
     "solution": false,
     "task": false
    }
   },
   "source": [
    "## How many movies are both action and romance? What about action or romance?\n",
    "\n",
    "Make sure you parenthesize the conditions"
   ]
  },
  {
   "cell_type": "code",
   "execution_count": null,
   "metadata": {},
   "outputs": [],
   "source": [
    "print(\"Action and romance:\", len(df[(df.action==1) & (df.romance==1)]))\n",
    "print(\"Action or romance:\", len(df[(df.action==1) | (df.romance==1)]))"
   ]
  },
  {
   "cell_type": "markdown",
   "metadata": {
    "deletable": false,
    "editable": false,
    "nbgrader": {
     "cell_type": "markdown",
     "checksum": "7ba0ab5b671c4ba605089f9966063de7",
     "grade": false,
     "grade_id": "cell-57fe4c09f9c621a4",
     "locked": true,
     "schema_version": 3,
     "solution": false,
     "task": false
    }
   },
   "source": [
    "# Problem Set 1: simple queries\n",
    "\n",
    "# Q1.1 How many _action_ movies were release before 1985 and in 1985 or later? (2 points)"
   ]
  },
  {
   "cell_type": "code",
   "execution_count": null,
   "metadata": {
    "deletable": false,
    "nbgrader": {
     "cell_type": "code",
     "checksum": "f543e9ac34a1a9eeeb918655e9c215dc",
     "grade": false,
     "grade_id": "cell-7d65a6e7b0408902",
     "locked": false,
     "schema_version": 3,
     "solution": true,
     "task": false
    }
   },
   "outputs": [],
   "source": [
    "def count_movies_before_1985(df):\n",
    "    # YOUR CODE HERE\n",
    "    raise NotImplementedError()\n",
    "    \n",
    "def count_movies_after_1984(df):\n",
    "    # YOUR CODE HERE\n",
    "    raise NotImplementedError()"
   ]
  },
  {
   "cell_type": "code",
   "execution_count": null,
   "metadata": {
    "deletable": false,
    "editable": false,
    "nbgrader": {
     "cell_type": "code",
     "checksum": "d3aa2d86be65e0c20db9f0066687065b",
     "grade": true,
     "grade_id": "cell-5153b7634856a2de",
     "locked": true,
     "points": 2,
     "schema_version": 3,
     "solution": false,
     "task": false
    }
   },
   "outputs": [],
   "source": [
    "before = count_movies_before_1985(df)\n",
    "assert isinstance(before, int) or isinstance(before, np.integer)\n",
    "# action movies only, not all!\n",
    "assert before != 272\n",
    "\n",
    "after = count_movies_after_1984(df)\n",
    "assert isinstance(after, int) or isinstance(after, np.integer)"
   ]
  },
  {
   "cell_type": "markdown",
   "metadata": {
    "deletable": false,
    "editable": false,
    "nbgrader": {
     "cell_type": "markdown",
     "checksum": "a5f93b723d92e371541157cf29165d17",
     "grade": false,
     "grade_id": "cell-eb024cd669c297d4",
     "locked": true,
     "schema_version": 3,
     "solution": false,
     "task": false
    }
   },
   "source": [
    "# Q1.2 Are there thrillers for children? Find an example. (2 points)"
   ]
  },
  {
   "cell_type": "code",
   "execution_count": null,
   "metadata": {
    "deletable": false,
    "nbgrader": {
     "cell_type": "code",
     "checksum": "a7012f9efa96e8191d1d5251b85793c4",
     "grade": false,
     "grade_id": "cell-a2747665ec930c22",
     "locked": false,
     "schema_version": 3,
     "solution": true,
     "task": false
    }
   },
   "outputs": [],
   "source": [
    "def child_thriller(df):\n",
    "    # YOUR CODE HERE\n",
    "    raise NotImplementedError()"
   ]
  },
  {
   "cell_type": "code",
   "execution_count": null,
   "metadata": {
    "deletable": false,
    "editable": false,
    "nbgrader": {
     "cell_type": "code",
     "checksum": "5d8ca27c0b90bd7e0eca2f98653bdaac",
     "grade": true,
     "grade_id": "cell-6a76089ff247f0bb",
     "locked": true,
     "points": 2,
     "schema_version": 3,
     "solution": false,
     "task": false
    }
   },
   "outputs": [],
   "source": [
    "title = child_thriller(df)\n",
    "assert isinstance(title, str)"
   ]
  },
  {
   "cell_type": "markdown",
   "metadata": {
    "deletable": false,
    "editable": false,
    "nbgrader": {
     "cell_type": "markdown",
     "checksum": "6d05c65cc575e7c4acdcc44e3fc6af83",
     "grade": false,
     "grade_id": "cell-168b598112431466",
     "locked": true,
     "schema_version": 3,
     "solution": false,
     "task": false
    }
   },
   "source": [
    "# Q1.3 How many movies have title longer than 40 characters? (3 points)"
   ]
  },
  {
   "cell_type": "code",
   "execution_count": null,
   "metadata": {
    "deletable": false,
    "nbgrader": {
     "cell_type": "code",
     "checksum": "11355a695decad6106459e6fe8fd3917",
     "grade": false,
     "grade_id": "cell-d5beda202663df05",
     "locked": false,
     "schema_version": 3,
     "solution": true,
     "task": false
    }
   },
   "outputs": [],
   "source": [
    "def long_titles(df):\n",
    "    # YOUR CODE HERE\n",
    "    raise NotImplementedError()"
   ]
  },
  {
   "cell_type": "code",
   "execution_count": null,
   "metadata": {
    "deletable": false,
    "editable": false,
    "nbgrader": {
     "cell_type": "code",
     "checksum": "69fb7a6bd77e8489be1b4f7b3b6af5d3",
     "grade": true,
     "grade_id": "cell-2d40ffa2513e88db",
     "locked": true,
     "points": 3,
     "schema_version": 3,
     "solution": false,
     "task": false
    }
   },
   "outputs": [],
   "source": [
    "title_cnt = long_titles(df)\n",
    "assert isinstance(title_cnt, int) or isinstance(title_cnt, np.integer)"
   ]
  },
  {
   "cell_type": "markdown",
   "metadata": {},
   "source": [
    "# `pd.Series.apply`: running arbitrary functions on each element"
   ]
  },
  {
   "cell_type": "markdown",
   "metadata": {},
   "source": [
    "The `apply` function allow running arbitrary functions on `pd.Series`:"
   ]
  },
  {
   "cell_type": "code",
   "execution_count": null,
   "metadata": {},
   "outputs": [],
   "source": [
    "def number_of_words(field):\n",
    "    return len(field.split(\" \"))\n",
    "\n",
    "df.title.apply(number_of_words).value_counts().sort_index()\n",
    "# or\n",
    "# df.title.apply(lambda t: len(t.split(\" \"))).value_counts().sort_index()"
   ]
  },
  {
   "cell_type": "code",
   "execution_count": null,
   "metadata": {},
   "outputs": [],
   "source": [
    "df.title.apply(number_of_words).value_counts().sort_index().plot(kind='bar')"
   ]
  },
  {
   "cell_type": "markdown",
   "metadata": {
    "deletable": false,
    "editable": false,
    "nbgrader": {
     "cell_type": "markdown",
     "checksum": "df0203e3e30814566a1f13b912b1aa29",
     "grade": false,
     "grade_id": "cell-e4cbc4ede764d08d",
     "locked": true,
     "schema_version": 3,
     "solution": false,
     "task": false
    }
   },
   "source": [
    "# Q1.4\\* How many content words does the average title have? Which title has the most/least words?\n",
    "\n",
    "Content words are capitalized. The opposite of content words are function words (and, a, an, the, more etc.). \n",
    "\n",
    "We should not include the release year in the word count.\n",
    "\n",
    "## Step 1. Count words in the title (2 points)"
   ]
  },
  {
   "cell_type": "code",
   "execution_count": null,
   "metadata": {
    "deletable": false,
    "nbgrader": {
     "cell_type": "code",
     "checksum": "3271cf6194df6b1f3933b499e6b5950d",
     "grade": false,
     "grade_id": "cell-63ef9fbfe320e795",
     "locked": false,
     "schema_version": 3,
     "solution": true,
     "task": false
    }
   },
   "outputs": [],
   "source": [
    "#df['title_word_cnt'] = ...\n",
    "def count_content_words(title):\n",
    "    # YOUR CODE HERE\n",
    "    raise NotImplementedError()"
   ]
  },
  {
   "cell_type": "code",
   "execution_count": null,
   "metadata": {
    "deletable": false,
    "editable": false,
    "nbgrader": {
     "cell_type": "code",
     "checksum": "c80b063e3da3498be6b55d728a04bc0c",
     "grade": true,
     "grade_id": "cell-a9e888e6e49aa1d5",
     "locked": true,
     "points": 2,
     "schema_version": 3,
     "solution": false,
     "task": false
    }
   },
   "outputs": [],
   "source": [
    "df['title_word_cnt'] = df.title.apply(count_content_words)\n",
    "assert 'title_word_cnt' in df.columns\n",
    "assert df['title_word_cnt'].dtype == int\n",
    "assert df.loc[1424, 'title_word_cnt'] == 5\n",
    "assert df.loc[1170, 'title_word_cnt'] == 2"
   ]
  },
  {
   "cell_type": "code",
   "execution_count": null,
   "metadata": {},
   "outputs": [],
   "source": [
    "df.title_word_cnt.value_counts().sort_index().plot(kind='bar')"
   ]
  },
  {
   "cell_type": "markdown",
   "metadata": {
    "deletable": false,
    "editable": false,
    "nbgrader": {
     "cell_type": "markdown",
     "checksum": "f3a639f2f0e4118427f85afc0e84d72d",
     "grade": false,
     "grade_id": "cell-91efa5802ca05768",
     "locked": true,
     "schema_version": 3,
     "solution": false,
     "task": false
    }
   },
   "source": [
    "## Step 2. Shortest and longest titles by word count (3 points)"
   ]
  },
  {
   "cell_type": "code",
   "execution_count": null,
   "metadata": {
    "deletable": false,
    "nbgrader": {
     "cell_type": "code",
     "checksum": "62d4567fd83138176234984c535e331e",
     "grade": false,
     "grade_id": "cell-a30202f4607ee40b",
     "locked": false,
     "schema_version": 3,
     "solution": true,
     "task": false
    }
   },
   "outputs": [],
   "source": [
    "#shortest_title = ...\n",
    "#longest_title = ...\n",
    "#shortest_title_len = ...\n",
    "#longest_title_len = ...\n",
    "# YOUR CODE HERE\n",
    "raise NotImplementedError()"
   ]
  },
  {
   "cell_type": "code",
   "execution_count": null,
   "metadata": {
    "deletable": false,
    "editable": false,
    "nbgrader": {
     "cell_type": "code",
     "checksum": "2d363072e733db827abfb4bb6711f61a",
     "grade": true,
     "grade_id": "cell-ba205fe403412b5b",
     "locked": true,
     "points": 3,
     "schema_version": 3,
     "solution": false,
     "task": false
    }
   },
   "outputs": [],
   "source": [
    "assert isinstance(shortest_title, str)\n",
    "assert isinstance(longest_title, str)\n",
    "assert isinstance(shortest_title_len, np.int64)\n",
    "assert isinstance(longest_title_len, np.int64)\n",
    "assert shortest_title_len == 0\n",
    "assert longest_title == 'Englishman Who Went Up a Hill, But Came Down a Mountain, The (1995)'\n",
    "assert shortest_title == 'unknown'\n",
    "assert longest_title_len == 10"
   ]
  },
  {
   "cell_type": "markdown",
   "metadata": {},
   "source": [
    "# Q1.5\\* How many movies have the word 'and' in their title? Write a function that counts movies with a particular word. (3 points)\n",
    "\n",
    "Disregard case and avoid matching subwords for examples. For example 'and' should not match 'Holland' nor should it match the movie 'Andrew'."
   ]
  },
  {
   "cell_type": "code",
   "execution_count": null,
   "metadata": {
    "deletable": false,
    "nbgrader": {
     "cell_type": "code",
     "checksum": "d98be92cf345b5416f39aed360295dd4",
     "grade": false,
     "grade_id": "cell-abb6b0843766e9bd",
     "locked": false,
     "schema_version": 3,
     "solution": true,
     "task": false
    }
   },
   "outputs": [],
   "source": [
    "def movies_with_word(df, word):\n",
    "    # YOUR CODE HERE\n",
    "    raise NotImplementedError()"
   ]
  },
  {
   "cell_type": "code",
   "execution_count": null,
   "metadata": {
    "deletable": false,
    "editable": false,
    "nbgrader": {
     "cell_type": "code",
     "checksum": "9413f783a4b45f6ec65f3ed024901f46",
     "grade": true,
     "grade_id": "cell-e42f662512234c09",
     "locked": true,
     "points": 3,
     "schema_version": 3,
     "solution": false,
     "task": false
    }
   },
   "outputs": [],
   "source": [
    "and_movies = movies_with_word(df, \"and\")\n",
    "assert isinstance(and_movies, pd.DataFrame)\n",
    "assert and_movies.shape == (66, 24)\n",
    "assert 'Mr. Holland\\'s Opus (1995)' not in and_movies.title.values"
   ]
  },
  {
   "cell_type": "markdown",
   "metadata": {
    "deletable": false,
    "editable": false,
    "nbgrader": {
     "cell_type": "markdown",
     "checksum": "f870d44fd9231fd6fdcd884b8371f412",
     "grade": false,
     "grade_id": "cell-ac8a35cbdad9d6be",
     "locked": true,
     "schema_version": 3,
     "solution": false,
     "task": false
    }
   },
   "source": [
    "# Groupby and visualization \n",
    "\n",
    "How many movies are released each year?"
   ]
  },
  {
   "cell_type": "code",
   "execution_count": null,
   "metadata": {},
   "outputs": [],
   "source": [
    "df.groupby('year').size().plot()"
   ]
  },
  {
   "cell_type": "markdown",
   "metadata": {
    "deletable": false,
    "editable": false,
    "nbgrader": {
     "cell_type": "markdown",
     "checksum": "4019bcdb5be2aab1c8105116a21c664b",
     "grade": false,
     "grade_id": "cell-ce7551092f0d630f",
     "locked": true,
     "schema_version": 3,
     "solution": false,
     "task": false
    }
   },
   "source": [
    "another option is the use `pd.Series.value_counts`"
   ]
  },
  {
   "cell_type": "code",
   "execution_count": null,
   "metadata": {},
   "outputs": [],
   "source": [
    "df.year.value_counts().sort_index().plot()"
   ]
  },
  {
   "cell_type": "markdown",
   "metadata": {
    "deletable": false,
    "editable": false,
    "nbgrader": {
     "cell_type": "markdown",
     "checksum": "e4fa53e857e86b6081f032b7b2c42e5f",
     "grade": false,
     "grade_id": "cell-3c3f7e7bf5b01b82",
     "locked": true,
     "schema_version": 3,
     "solution": false,
     "task": false
    }
   },
   "source": [
    "most movies were released in the late 80s and 90s, let's zoom in. Let's also change the figure size.\n",
    "\n",
    "We create the plot object with one subplot, we then specify which axis pandas should use for plotting (`ax=ax`)."
   ]
  },
  {
   "cell_type": "code",
   "execution_count": null,
   "metadata": {},
   "outputs": [],
   "source": [
    "fig, ax = plt.subplots(1, figsize=(10, 6))\n",
    "d = df[df.year>1985]\n",
    "d.groupby('year').size().plot(kind='bar', ax=ax)"
   ]
  },
  {
   "cell_type": "markdown",
   "metadata": {
    "deletable": false,
    "editable": false,
    "nbgrader": {
     "cell_type": "markdown",
     "checksum": "b3247abbf035e9b024f177b186e7396b",
     "grade": false,
     "grade_id": "cell-80bb33f0af16a29f",
     "locked": true,
     "schema_version": 3,
     "solution": false,
     "task": false
    }
   },
   "source": [
    "### we can groupby on multiple columns\n",
    "\n",
    "Back to the romance-action combinations"
   ]
  },
  {
   "cell_type": "code",
   "execution_count": null,
   "metadata": {},
   "outputs": [],
   "source": [
    "df.groupby(['action', 'romance']).size()"
   ]
  },
  {
   "cell_type": "markdown",
   "metadata": {
    "deletable": false,
    "editable": false,
    "nbgrader": {
     "cell_type": "markdown",
     "checksum": "d98468b86619ada54441bd0a8cd7f2d1",
     "grade": false,
     "grade_id": "cell-1212d81802fc5a53",
     "locked": true,
     "schema_version": 3,
     "solution": false,
     "task": false
    }
   },
   "source": [
    "### we can also group on arbitrary conditions\n",
    "\n",
    "how many movies were released each decade?"
   ]
  },
  {
   "cell_type": "code",
   "execution_count": null,
   "metadata": {},
   "outputs": [],
   "source": [
    "df.groupby(df.year // 10 * 10).size()"
   ]
  },
  {
   "cell_type": "markdown",
   "metadata": {
    "deletable": false,
    "editable": false,
    "nbgrader": {
     "cell_type": "markdown",
     "checksum": "acccb8beb69848e6919c12c2d8da8684",
     "grade": false,
     "grade_id": "cell-70a293b988bf9918",
     "locked": true,
     "schema_version": 3,
     "solution": false,
     "task": false
    }
   },
   "source": [
    "# Problem Set 2: Groupby and visualization\n",
    "\n",
    "# Q2.1 Write a function that takes a genre and groups movies of that genre by year. Do not include movies older than 1985.  (3 points)"
   ]
  },
  {
   "cell_type": "code",
   "execution_count": null,
   "metadata": {
    "deletable": false,
    "nbgrader": {
     "cell_type": "code",
     "checksum": "6def498937809c50f0a1af2bcb196457",
     "grade": false,
     "grade_id": "cell-9ca5a6b8a6cb7e8e",
     "locked": false,
     "schema_version": 3,
     "solution": true,
     "task": false
    }
   },
   "outputs": [],
   "source": [
    "def group_genre_by_year(df, genre):\n",
    "    # YOUR CODE HERE\n",
    "    raise NotImplementedError()"
   ]
  },
  {
   "cell_type": "code",
   "execution_count": null,
   "metadata": {
    "deletable": false,
    "editable": false,
    "nbgrader": {
     "cell_type": "code",
     "checksum": "6130b6f99e29e03336d409f6850cebd4",
     "grade": true,
     "grade_id": "cell-6907c9bed92097f8",
     "locked": true,
     "points": 3,
     "schema_version": 3,
     "solution": false,
     "task": false
    }
   },
   "outputs": [],
   "source": [
    "crime = group_genre_by_year(df, 'crime')\n",
    "assert type(crime) == pd.core.groupby.DataFrameGroupBy\n",
    "assert len(crime) <= 15  # movies between 1985-1999"
   ]
  },
  {
   "cell_type": "markdown",
   "metadata": {
    "deletable": false,
    "editable": false,
    "nbgrader": {
     "cell_type": "markdown",
     "checksum": "9268ad04593972418741fe995968abda",
     "grade": false,
     "grade_id": "cell-389ab64a02ec730a",
     "locked": true,
     "schema_version": 3,
     "solution": false,
     "task": false
    }
   },
   "source": [
    "# Q2.2 Plot the number of adventure movies from 1985 to 1999 on a _bar_ chart. Use your `group_genre_by_year` function. (2 points)"
   ]
  },
  {
   "cell_type": "code",
   "execution_count": null,
   "metadata": {
    "deletable": false,
    "nbgrader": {
     "cell_type": "code",
     "checksum": "178c4b22186787a1b659a72e3cd69d63",
     "grade": true,
     "grade_id": "cell-a5318e4a2b8132d5",
     "locked": false,
     "points": 2,
     "schema_version": 3,
     "solution": true,
     "task": false
    }
   },
   "outputs": [],
   "source": [
    "# YOUR CODE HERE\n",
    "raise NotImplementedError()"
   ]
  },
  {
   "cell_type": "markdown",
   "metadata": {
    "deletable": false,
    "editable": false,
    "nbgrader": {
     "cell_type": "markdown",
     "checksum": "1e4fce4d1568741b973ce6ec1397e152",
     "grade": false,
     "grade_id": "cell-a463d2e0a9d5cdd8",
     "locked": true,
     "schema_version": 3,
     "solution": false,
     "task": false
    }
   },
   "source": [
    "# Q2.3 Plot the distribution of release day (day of month) on a pie chart.\n",
    "\n",
    "## Step 1. groupby (2 points)"
   ]
  },
  {
   "cell_type": "code",
   "execution_count": null,
   "metadata": {
    "deletable": false,
    "nbgrader": {
     "cell_type": "code",
     "checksum": "edc98feffcc97249e49480539b9b7a13",
     "grade": false,
     "grade_id": "cell-da489566f50a0b7b",
     "locked": false,
     "schema_version": 3,
     "solution": true,
     "task": false
    }
   },
   "outputs": [],
   "source": [
    "def groupby_release_day(df):\n",
    "    # YOUR CODE HERE\n",
    "    raise NotImplementedError()"
   ]
  },
  {
   "cell_type": "code",
   "execution_count": null,
   "metadata": {
    "deletable": false,
    "editable": false,
    "nbgrader": {
     "cell_type": "code",
     "checksum": "16c86daf971e42c7f2b11badf981ff59",
     "grade": true,
     "grade_id": "cell-65c96d3f7e86681f",
     "locked": true,
     "points": 2,
     "schema_version": 3,
     "solution": false,
     "task": false
    }
   },
   "outputs": [],
   "source": [
    "by_day = groupby_release_day(df)\n",
    "assert type(by_day) == pd.core.groupby.DataFrameGroupBy\n",
    "\n",
    "# the longest month is 31 days\n",
    "assert len(by_day) < 32\n",
    "\n",
    "# shouldn't group on day of week\n",
    "assert len(by_day) > 7"
   ]
  },
  {
   "cell_type": "markdown",
   "metadata": {
    "deletable": false,
    "editable": false,
    "nbgrader": {
     "cell_type": "markdown",
     "checksum": "96674a36b0dddca7f59dfb69ae7cdf60",
     "grade": false,
     "grade_id": "cell-d03e44889d893fd1",
     "locked": true,
     "schema_version": 3,
     "solution": false,
     "task": false
    }
   },
   "source": [
    "## Step 2. pie chart. Add percent values. (3 points)"
   ]
  },
  {
   "cell_type": "code",
   "execution_count": null,
   "metadata": {
    "deletable": false,
    "nbgrader": {
     "cell_type": "code",
     "checksum": "a133ef16f926747228be6b7f242a2ef5",
     "grade": true,
     "grade_id": "cell-20cf6a942fc495c3",
     "locked": false,
     "points": 3,
     "schema_version": 3,
     "solution": true,
     "task": false
    }
   },
   "outputs": [],
   "source": [
    "# YOUR CODE HERE\n",
    "raise NotImplementedError()"
   ]
  },
  {
   "cell_type": "markdown",
   "metadata": {
    "deletable": false,
    "editable": false,
    "nbgrader": {
     "cell_type": "markdown",
     "checksum": "5b06cce403568c61c9c0d07f53bd9986",
     "grade": false,
     "grade_id": "cell-0089f99b85f39d9f",
     "locked": true,
     "schema_version": 3,
     "solution": false,
     "task": false
    }
   },
   "source": [
    "# Q2.4 We're building a traditional lexicon of the titles. What is the distribution of initial letters (i.e. how many titles start with S?)? Plot it on a bar chart.\n",
    "\n",
    "## Step 1. Compute frequencies. (3 points)"
   ]
  },
  {
   "cell_type": "code",
   "execution_count": null,
   "metadata": {
    "deletable": false,
    "nbgrader": {
     "cell_type": "code",
     "checksum": "965d5d832ab9c9dc3ef198cee18a9e70",
     "grade": false,
     "grade_id": "cell-dabfa47380bc1e62",
     "locked": false,
     "schema_version": 3,
     "solution": true,
     "task": false
    }
   },
   "outputs": [],
   "source": [
    "def compute_initial_letter_frequencies(df):\n",
    "    # YOUR CODE HERE\n",
    "    raise NotImplementedError()"
   ]
  },
  {
   "cell_type": "code",
   "execution_count": null,
   "metadata": {
    "deletable": false,
    "editable": false,
    "nbgrader": {
     "cell_type": "code",
     "checksum": "fc60a793c044c8a700168cc21e75fe34",
     "grade": true,
     "grade_id": "cell-1cf234dbd25388f3",
     "locked": true,
     "points": 3,
     "schema_version": 3,
     "solution": false,
     "task": false
    }
   },
   "outputs": [],
   "source": [
    "initial = compute_initial_letter_frequencies(df)\n",
    "\n",
    "assert type(initial) == pd.Series\n",
    "\n",
    "# frequency counts should be >= 1\n",
    "assert initial.min() >= 1\n",
    "\n",
    "# the largest one cannot be larger than the full dataframe\n",
    "assert initial.max() <= len(df)"
   ]
  },
  {
   "cell_type": "markdown",
   "metadata": {
    "deletable": false,
    "editable": false,
    "nbgrader": {
     "cell_type": "markdown",
     "checksum": "b15e4a4a3108fb3df3ebc15c97d667e1",
     "grade": false,
     "grade_id": "cell-69e24b8b6775d432",
     "locked": true,
     "schema_version": 3,
     "solution": false,
     "task": false
    }
   },
   "source": [
    "## Step 2. Plot it on a bar chart in descending order. (3 points)\n",
    "\n",
    "The most common letter should be the first bar."
   ]
  },
  {
   "cell_type": "code",
   "execution_count": null,
   "metadata": {
    "deletable": false,
    "nbgrader": {
     "cell_type": "code",
     "checksum": "2e9d98b30c4b5aece1e461d7bbea258f",
     "grade": true,
     "grade_id": "cell-f8be622dc83ce159",
     "locked": false,
     "points": 3,
     "schema_version": 3,
     "solution": true,
     "task": false
    }
   },
   "outputs": [],
   "source": [
    "# YOUR CODE HERE\n",
    "raise NotImplementedError()"
   ]
  },
  {
   "cell_type": "markdown",
   "metadata": {
    "deletable": false,
    "editable": false,
    "nbgrader": {
     "cell_type": "markdown",
     "checksum": "742e8835bcb12ea02ad37468952303dc",
     "grade": false,
     "grade_id": "cell-4b7e5452586de9b9",
     "locked": true,
     "schema_version": 3,
     "solution": false,
     "task": false
    }
   },
   "source": [
    "# Problem Set 3. Handling multiple dataframes\n",
    "\n",
    "The main table of this dataset is `u.data` with 100000 ratings."
   ]
  },
  {
   "cell_type": "code",
   "execution_count": null,
   "metadata": {
    "deletable": false,
    "editable": false,
    "nbgrader": {
     "cell_type": "code",
     "checksum": "2507b5afb615a154626d85367e36008a",
     "grade": false,
     "grade_id": "cell-8220174b6d50dc75",
     "locked": true,
     "schema_version": 3,
     "solution": false,
     "task": false
    }
   },
   "outputs": [],
   "source": [
    "cols = ['user', 'movie_id', 'rating', 'timestamp']\n",
    "ratings = pd.read_table(os.path.join(data_dir, \"u.data\"), names=cols)\n",
    "ratings.head()"
   ]
  },
  {
   "cell_type": "markdown",
   "metadata": {
    "deletable": false,
    "editable": false,
    "nbgrader": {
     "cell_type": "markdown",
     "checksum": "e4d7ce5b8f9c854acc8dba6252563bb6",
     "grade": false,
     "grade_id": "cell-fef5a88dc44bb7db",
     "locked": true,
     "schema_version": 3,
     "solution": false,
     "task": false
    }
   },
   "source": [
    "The `timestamp` column is a Unix timestamp, let's convert it to `pd.DateTime`:"
   ]
  },
  {
   "cell_type": "code",
   "execution_count": null,
   "metadata": {},
   "outputs": [],
   "source": [
    "ratings['timestamp'] = pd.to_datetime(ratings.timestamp, unit='s')\n",
    "ratings.head()"
   ]
  },
  {
   "cell_type": "markdown",
   "metadata": {
    "deletable": false,
    "editable": false,
    "nbgrader": {
     "cell_type": "markdown",
     "checksum": "18696637703c415f1c43d827e1bb7460",
     "grade": false,
     "grade_id": "cell-0979673a37cec23e",
     "locked": true,
     "schema_version": 3,
     "solution": false,
     "task": false
    }
   },
   "source": [
    "# Merging with the movies dataframe\n",
    "\n",
    "We overwrite `ratings`:"
   ]
  },
  {
   "cell_type": "code",
   "execution_count": null,
   "metadata": {},
   "outputs": [],
   "source": [
    "movies = df\n",
    "ratings = pd.merge(ratings, movies, left_on='movie_id', right_index=True)"
   ]
  },
  {
   "cell_type": "markdown",
   "metadata": {
    "deletable": false,
    "editable": false,
    "nbgrader": {
     "cell_type": "markdown",
     "checksum": "d6c9babbcded13a7b76ac7f6f4cc071a",
     "grade": false,
     "grade_id": "cell-639f17faddee992c",
     "locked": true,
     "schema_version": 3,
     "solution": false,
     "task": false
    }
   },
   "source": [
    "## How many ratings are timestamped _before_ the release date?"
   ]
  },
  {
   "cell_type": "code",
   "execution_count": null,
   "metadata": {},
   "outputs": [],
   "source": [
    "(ratings.timestamp <= ratings.release_date).value_counts()"
   ]
  },
  {
   "cell_type": "markdown",
   "metadata": {
    "deletable": false,
    "editable": false,
    "nbgrader": {
     "cell_type": "markdown",
     "checksum": "3d9ef4414c79b938eaba3f1d52f43d49",
     "grade": false,
     "grade_id": "cell-2405ca2de92cf53a",
     "locked": true,
     "schema_version": 3,
     "solution": false,
     "task": false
    }
   },
   "source": [
    "## Which movies were rated before the release date?"
   ]
  },
  {
   "cell_type": "code",
   "execution_count": null,
   "metadata": {},
   "outputs": [],
   "source": [
    "ratings[ratings.timestamp <= ratings.release_date].title.value_counts()"
   ]
  },
  {
   "cell_type": "markdown",
   "metadata": {
    "deletable": false,
    "editable": false,
    "nbgrader": {
     "cell_type": "markdown",
     "checksum": "67de96ab99c674fddc4f10a13d531dab",
     "grade": false,
     "grade_id": "cell-279b1568b18b8732",
     "locked": true,
     "schema_version": 3,
     "solution": false,
     "task": false
    }
   },
   "source": [
    "# Q3.1. How many movies were rated 4+ at least once? (3 points)"
   ]
  },
  {
   "cell_type": "code",
   "execution_count": null,
   "metadata": {
    "deletable": false,
    "nbgrader": {
     "cell_type": "code",
     "checksum": "2fe71dc6ed2a75ad73f92a46261b78c9",
     "grade": false,
     "grade_id": "cell-6721cc615a52d292",
     "locked": false,
     "schema_version": 3,
     "solution": true,
     "task": false
    }
   },
   "outputs": [],
   "source": [
    "def count_greater_than_4(df):\n",
    "    # YOUR CODE HERE\n",
    "    raise NotImplementedError()"
   ]
  },
  {
   "cell_type": "code",
   "execution_count": null,
   "metadata": {
    "deletable": false,
    "editable": false,
    "nbgrader": {
     "cell_type": "code",
     "checksum": "47f5faf6f5fbb8fa528cd7cb2a986142",
     "grade": true,
     "grade_id": "cell-a5f556a411ffb6e8",
     "locked": true,
     "points": 3,
     "schema_version": 3,
     "solution": false,
     "task": false
    }
   },
   "outputs": [],
   "source": [
    "greater = count_greater_than_4(ratings)\n",
    "\n",
    "assert isinstance(greater, np.integer) or isinstance(greater, int)"
   ]
  },
  {
   "cell_type": "markdown",
   "metadata": {
    "deletable": false,
    "editable": false,
    "nbgrader": {
     "cell_type": "markdown",
     "checksum": "165a4bcae72d7a91ce4afeaadea72e94",
     "grade": false,
     "grade_id": "cell-f39cf952c60ebae5",
     "locked": true,
     "schema_version": 3,
     "solution": false,
     "task": false
    }
   },
   "source": [
    "# Q3.2. How many time was each movie rated?\n",
    "\n",
    "## Step 1. Compute the frequencies of movie ratings. Use movie titles instead of ids. (2 points)"
   ]
  },
  {
   "cell_type": "code",
   "execution_count": null,
   "metadata": {
    "deletable": false,
    "nbgrader": {
     "cell_type": "code",
     "checksum": "aa50d6b7846e1a73a4db77eb41f225a9",
     "grade": false,
     "grade_id": "cell-a995aaec4e258171",
     "locked": false,
     "schema_version": 3,
     "solution": true,
     "task": false
    }
   },
   "outputs": [],
   "source": [
    "def compute_movie_rated_frequencies(df):\n",
    "    # YOUR CODE HERE\n",
    "    raise NotImplementedError()"
   ]
  },
  {
   "cell_type": "code",
   "execution_count": null,
   "metadata": {
    "deletable": false,
    "editable": false,
    "nbgrader": {
     "cell_type": "code",
     "checksum": "90cc09cf6d892478d352aca6f5215de4",
     "grade": true,
     "grade_id": "cell-510b3727432d6e21",
     "locked": true,
     "points": 2,
     "schema_version": 3,
     "solution": false,
     "task": false
    }
   },
   "outputs": [],
   "source": [
    "title_freq = compute_movie_rated_frequencies(ratings)\n",
    "assert isinstance(title_freq, pd.Series)\n",
    "\n",
    "# use titles\n",
    "assert 'Lone Star (1996)' in title_freq.index"
   ]
  },
  {
   "cell_type": "markdown",
   "metadata": {
    "deletable": false,
    "editable": false,
    "nbgrader": {
     "cell_type": "markdown",
     "checksum": "5aecd6273df2bfe4c4ad55a80b9cc1b0",
     "grade": false,
     "grade_id": "cell-d64476a7324e37d1",
     "locked": true,
     "schema_version": 3,
     "solution": false,
     "task": false
    }
   },
   "source": [
    "## Step 2. Plot the frequencies on a histogram. (2 points)\n",
    "\n",
    "`pd.Series` has a `hist` function. It uses 10 bins by default, use more."
   ]
  },
  {
   "cell_type": "code",
   "execution_count": null,
   "metadata": {
    "deletable": false,
    "nbgrader": {
     "cell_type": "code",
     "checksum": "795f9c03814bd28c1dc9d3e6c2d00378",
     "grade": true,
     "grade_id": "cell-e2167238aef2f4a8",
     "locked": false,
     "points": 2,
     "schema_version": 3,
     "solution": true,
     "task": false
    }
   },
   "outputs": [],
   "source": [
    "# YOUR CODE HERE\n",
    "raise NotImplementedError()"
   ]
  },
  {
   "cell_type": "markdown",
   "metadata": {
    "deletable": false,
    "editable": false,
    "nbgrader": {
     "cell_type": "markdown",
     "checksum": "d148b8c7647f8985a6860256a573eb14",
     "grade": false,
     "grade_id": "cell-19005813aa786318",
     "locked": true,
     "schema_version": 3,
     "solution": false,
     "task": false
    }
   },
   "source": [
    "# Q3.3. How many ratings were submitted by each day of the week? What were their averages?\n",
    "\n",
    "## Step 1. groupby (3 points)\n",
    "\n",
    "Tip: look around in the `.dt` namespace."
   ]
  },
  {
   "cell_type": "code",
   "execution_count": null,
   "metadata": {
    "deletable": false,
    "nbgrader": {
     "cell_type": "code",
     "checksum": "620bfeed1ef01ee40373aebbf487bcc6",
     "grade": false,
     "grade_id": "cell-f9058f21826f0ad6",
     "locked": false,
     "schema_version": 3,
     "solution": true,
     "task": false
    }
   },
   "outputs": [],
   "source": [
    "def groupby_day_of_week(ratings):\n",
    "    # YOUR CODE HERE\n",
    "    raise NotImplementedError()"
   ]
  },
  {
   "cell_type": "code",
   "execution_count": null,
   "metadata": {
    "deletable": false,
    "editable": false,
    "nbgrader": {
     "cell_type": "code",
     "checksum": "45b562641cc230c46647019ebb9d5be6",
     "grade": true,
     "grade_id": "cell-2ff8cbea026da2c6",
     "locked": true,
     "points": 3,
     "schema_version": 3,
     "solution": false,
     "task": false
    }
   },
   "outputs": [],
   "source": [
    "by_day = groupby_day_of_week(ratings)\n",
    "assert isinstance(by_day, pd.core.groupby.generic.DataFrameGroupBy)\n",
    "# there are 7 days\n",
    "assert len(by_day) == 7\n",
    "# use names of the days\n",
    "assert 'Monday' in by_day.groups"
   ]
  },
  {
   "cell_type": "markdown",
   "metadata": {
    "deletable": false,
    "editable": false,
    "nbgrader": {
     "cell_type": "markdown",
     "checksum": "905ad37632c45ec24ae85e4e841098a9",
     "grade": false,
     "grade_id": "cell-0b17be84d08cda7d",
     "locked": true,
     "schema_version": 3,
     "solution": false,
     "task": false
    }
   },
   "source": [
    "## Step 2. number of ratings per day (2 points)"
   ]
  },
  {
   "cell_type": "code",
   "execution_count": null,
   "metadata": {
    "deletable": false,
    "nbgrader": {
     "cell_type": "code",
     "checksum": "686d19505d8c9558bf2826e8c1a63875",
     "grade": false,
     "grade_id": "cell-45c571dca72ec1b4",
     "locked": false,
     "schema_version": 3,
     "solution": true,
     "task": false
    }
   },
   "outputs": [],
   "source": [
    "#number_of_ratings_per_day = ...\n",
    "# YOUR CODE HERE\n",
    "raise NotImplementedError()"
   ]
  },
  {
   "cell_type": "code",
   "execution_count": null,
   "metadata": {
    "deletable": false,
    "editable": false,
    "nbgrader": {
     "cell_type": "code",
     "checksum": "517f4c328ed5516478f956d57e9e893b",
     "grade": true,
     "grade_id": "cell-58548a0c91313a7b",
     "locked": true,
     "points": 2,
     "schema_version": 3,
     "solution": false,
     "task": false
    }
   },
   "outputs": [],
   "source": [
    "assert isinstance(number_of_ratings_per_day, pd.Series)\n",
    "assert len(number_of_ratings_per_day) == 7\n",
    "assert number_of_ratings_per_day.min() > 10000"
   ]
  },
  {
   "cell_type": "markdown",
   "metadata": {
    "deletable": false,
    "editable": false,
    "nbgrader": {
     "cell_type": "markdown",
     "checksum": "17498b4feb9abb254cc29484760ae215",
     "grade": false,
     "grade_id": "cell-985fab1c5363e1fa",
     "locked": true,
     "schema_version": 3,
     "solution": false,
     "task": false
    }
   },
   "source": [
    "## Step 3. mean rating by day (2 points)"
   ]
  },
  {
   "cell_type": "code",
   "execution_count": null,
   "metadata": {
    "deletable": false,
    "nbgrader": {
     "cell_type": "code",
     "checksum": "6be5df2b6b94caa4a5637bb8c38c222e",
     "grade": false,
     "grade_id": "cell-57cb27472dfdc4d9",
     "locked": false,
     "schema_version": 3,
     "solution": true,
     "task": false
    }
   },
   "outputs": [],
   "source": [
    "#mean_rating_by_day = ...\n",
    "# YOUR CODE HERE\n",
    "raise NotImplementedError()"
   ]
  },
  {
   "cell_type": "code",
   "execution_count": null,
   "metadata": {
    "deletable": false,
    "editable": false,
    "nbgrader": {
     "cell_type": "code",
     "checksum": "461985fef6c708cb60fe840d27ac67f6",
     "grade": true,
     "grade_id": "cell-6abe70efeee2dc8c",
     "locked": true,
     "points": 2,
     "schema_version": 3,
     "solution": false,
     "task": false
    }
   },
   "outputs": [],
   "source": [
    "assert isinstance(mean_rating_by_day, pd.Series)"
   ]
  },
  {
   "cell_type": "markdown",
   "metadata": {
    "deletable": false,
    "editable": false,
    "nbgrader": {
     "cell_type": "markdown",
     "checksum": "6651e23be55b38b186a8a41e4fcd71d4",
     "grade": false,
     "grade_id": "cell-6e56688ca100d27d",
     "locked": true,
     "schema_version": 3,
     "solution": false,
     "task": false
    }
   },
   "source": [
    "# Q3.4\\*\\* What is the mean of ratings by genre?\n",
    "\n",
    "If a movie has multiple genres, include it in every genre. \n",
    "\n",
    "## Step 1. Compute the mean scores. (5 points)\n",
    "\n",
    "There are many ways to solve this problem. Try to do it without explicit for loops."
   ]
  },
  {
   "cell_type": "code",
   "execution_count": null,
   "metadata": {
    "deletable": false,
    "nbgrader": {
     "cell_type": "code",
     "checksum": "644e1fa7438db0cc5b6e0fd45d80639e",
     "grade": false,
     "grade_id": "cell-8292ca56814c90e6",
     "locked": false,
     "schema_version": 3,
     "solution": true,
     "task": false
    }
   },
   "outputs": [],
   "source": [
    "genres = ['unknown', 'action', 'adventure', 'animation',\n",
    "       'children', 'comedy', 'crime', 'documentary', 'drama', 'fantasy',\n",
    "       'film_noir', 'horror', 'musical', 'mystery', 'romance', 'sci_fi',\n",
    "       'thriller', 'war', 'western']\n",
    "\n",
    "def compute_mean_rating_by_genre(ratings):\n",
    "    # YOUR CODE HERE\n",
    "    raise NotImplementedError()"
   ]
  },
  {
   "cell_type": "code",
   "execution_count": null,
   "metadata": {
    "deletable": false,
    "editable": false,
    "nbgrader": {
     "cell_type": "code",
     "checksum": "2fe0918d505c4c420af0dd222402cb9a",
     "grade": true,
     "grade_id": "cell-a8868b7db8c3a75c",
     "locked": true,
     "points": 5,
     "schema_version": 3,
     "solution": false,
     "task": false
    }
   },
   "outputs": [],
   "source": [
    "genre_rating = compute_mean_rating_by_genre(ratings)\n",
    "assert len(genre_rating) == len(genres)\n",
    "# all means are between 3 and 4\n",
    "assert genre_rating.min() > 3.0\n",
    "assert genre_rating.max() < 4.0\n",
    "# film noir is rated highest\n",
    "assert genre_rating.idxmax() == 'film_noir'\n",
    "for g in genres:\n",
    "    assert g in genre_rating.index"
   ]
  },
  {
   "cell_type": "markdown",
   "metadata": {
    "deletable": false,
    "editable": false,
    "nbgrader": {
     "cell_type": "markdown",
     "checksum": "58f930055c4ca9dfe3de0a359e3ca0a0",
     "grade": false,
     "grade_id": "cell-37bd1a67daa851bc",
     "locked": true,
     "schema_version": 3,
     "solution": false,
     "task": false
    }
   },
   "source": [
    "## Step 2. Plot it on a bar chart in descending order by score. Set the limits of the y-axis to (2.5, 4). (3 points)"
   ]
  },
  {
   "cell_type": "code",
   "execution_count": null,
   "metadata": {
    "deletable": false,
    "nbgrader": {
     "cell_type": "code",
     "checksum": "50254252fc418ad55ff808d35541c96d",
     "grade": true,
     "grade_id": "cell-e55184587ae7df0f",
     "locked": false,
     "points": 3,
     "schema_version": 3,
     "solution": true,
     "task": false
    }
   },
   "outputs": [],
   "source": [
    "# YOUR CODE HERE\n",
    "raise NotImplementedError()"
   ]
  },
  {
   "cell_type": "markdown",
   "metadata": {
    "deletable": false,
    "editable": false,
    "nbgrader": {
     "cell_type": "markdown",
     "checksum": "266016a89c9e5d5cf21bef22b1ac7cbd",
     "grade": false,
     "grade_id": "cell-ff26e3dc28a9e55f",
     "locked": true,
     "schema_version": 3,
     "solution": false,
     "task": false
    }
   },
   "source": [
    "# Problem Set 4. User demographics\n",
    "\n",
    "# Q4.1 Load the users table from the file `ml-100k/u.user`. (3 points)\n",
    "\n",
    "`u.users` has the following columns: `user_id, age, gender, occupation, zip`. Use `user_id` as the index."
   ]
  },
  {
   "cell_type": "code",
   "execution_count": null,
   "metadata": {
    "deletable": false,
    "nbgrader": {
     "cell_type": "code",
     "checksum": "74f00f9c2ab8eff1334aef2501d14a7c",
     "grade": false,
     "grade_id": "cell-c84f059ab0858ad6",
     "locked": false,
     "schema_version": 3,
     "solution": true,
     "task": false
    }
   },
   "outputs": [],
   "source": [
    "# users = ...\n",
    "# YOUR CODE HERE\n",
    "raise NotImplementedError()"
   ]
  },
  {
   "cell_type": "code",
   "execution_count": null,
   "metadata": {
    "deletable": false,
    "editable": false,
    "nbgrader": {
     "cell_type": "code",
     "checksum": "61c6ca27dbb27fc3333180fb90063cfa",
     "grade": true,
     "grade_id": "cell-adfa8911523a6781",
     "locked": true,
     "points": 3,
     "schema_version": 3,
     "solution": false,
     "task": false
    }
   },
   "outputs": [],
   "source": [
    "assert type(users) == pd.DataFrame\n",
    "\n",
    "# users are indexed from 0\n",
    "assert 0 not in users.index"
   ]
  },
  {
   "cell_type": "markdown",
   "metadata": {
    "deletable": false,
    "editable": false,
    "nbgrader": {
     "cell_type": "markdown",
     "checksum": "cf631ec956724cde84cfe23148467975",
     "grade": false,
     "grade_id": "cell-92504474983df579",
     "locked": true,
     "schema_version": 3,
     "solution": false,
     "task": false
    }
   },
   "source": [
    "# Q4.2 Merge the `users` table with `ratings`. Do not discard any columns. (3 points)"
   ]
  },
  {
   "cell_type": "code",
   "execution_count": null,
   "metadata": {
    "deletable": false,
    "nbgrader": {
     "cell_type": "code",
     "checksum": "7caa48d339ca2fb22439b64eb4053cbd",
     "grade": false,
     "grade_id": "cell-031b283c08dfc692",
     "locked": false,
     "schema_version": 3,
     "solution": true,
     "task": false
    }
   },
   "outputs": [],
   "source": [
    "# ratings = ratings.merge...\n",
    "# YOUR CODE HERE\n",
    "raise NotImplementedError()"
   ]
  },
  {
   "cell_type": "code",
   "execution_count": null,
   "metadata": {
    "deletable": false,
    "editable": false,
    "nbgrader": {
     "cell_type": "code",
     "checksum": "0280c6fbb60de1bc09e352733e179992",
     "grade": true,
     "grade_id": "cell-c52a7864aa05df2c",
     "locked": true,
     "points": 3,
     "schema_version": 3,
     "solution": false,
     "task": false
    }
   },
   "outputs": [],
   "source": [
    "assert type(ratings) == pd.DataFrame\n",
    "# all movies have ratings (nunique return the number of unique elements)\n",
    "assert ratings.movie_id.nunique() == 1682"
   ]
  },
  {
   "cell_type": "markdown",
   "metadata": {
    "deletable": false,
    "editable": false,
    "nbgrader": {
     "cell_type": "markdown",
     "checksum": "ef6017b6d7057c1ffe0f4bb22fab319a",
     "grade": false,
     "grade_id": "cell-87fc1397de6dc1ca",
     "locked": true,
     "schema_version": 3,
     "solution": false,
     "task": false
    }
   },
   "source": [
    "# Q 4.3 How strict are people by occupation? Compute the average of ratings by occupation. Plot it on a bar chart in descending order.\n",
    "\n",
    "## Step 1. Compute the averages by occupation. (2 points)"
   ]
  },
  {
   "cell_type": "code",
   "execution_count": null,
   "metadata": {
    "deletable": false,
    "nbgrader": {
     "cell_type": "code",
     "checksum": "85cbf1018357294f5ca79470ed36c01f",
     "grade": false,
     "grade_id": "cell-fd12d2c11bb674a3",
     "locked": false,
     "schema_version": 3,
     "solution": true,
     "task": false
    }
   },
   "outputs": [],
   "source": [
    "def compute_mean_by_occupation(ratings):\n",
    "    # YOUR CODE HERE\n",
    "    raise NotImplementedError()"
   ]
  },
  {
   "cell_type": "code",
   "execution_count": null,
   "metadata": {
    "deletable": false,
    "editable": false,
    "nbgrader": {
     "cell_type": "code",
     "checksum": "38d67f291a240bba03591c3d3bb1e438",
     "grade": true,
     "grade_id": "cell-b31d75967991f9c8",
     "locked": true,
     "points": 2,
     "schema_version": 3,
     "solution": false,
     "task": false
    }
   },
   "outputs": [],
   "source": [
    "mean_by_occupation = compute_mean_by_occupation(ratings)\n",
    "assert isinstance(mean_by_occupation, pd.Series)\n",
    "# ratings are between 1 and 5\n",
    "assert mean_by_occupation.min() > 1\n",
    "assert mean_by_occupation.max() < 5"
   ]
  },
  {
   "cell_type": "markdown",
   "metadata": {
    "deletable": false,
    "editable": false,
    "nbgrader": {
     "cell_type": "markdown",
     "checksum": "e1a2eed327295cb111315a6cd2eddb3e",
     "grade": false,
     "grade_id": "cell-dd4859f28bdba5bb",
     "locked": true,
     "schema_version": 3,
     "solution": false,
     "task": false
    }
   },
   "source": [
    "## Step 2. Plot it on a bar chart. (2 points)\n",
    "\n",
    "Extra point: make the bar chart wider and restring the y-axis to (2.5, 4)."
   ]
  },
  {
   "cell_type": "code",
   "execution_count": null,
   "metadata": {
    "deletable": false,
    "nbgrader": {
     "cell_type": "code",
     "checksum": "e1ec28668de17e3b9e655e286f2002da",
     "grade": true,
     "grade_id": "cell-0823e3f094e93df6",
     "locked": false,
     "points": 2,
     "schema_version": 3,
     "solution": true,
     "task": false
    }
   },
   "outputs": [],
   "source": [
    "# YOUR CODE HERE\n",
    "raise NotImplementedError()"
   ]
  },
  {
   "cell_type": "markdown",
   "metadata": {
    "deletable": false,
    "editable": false,
    "nbgrader": {
     "cell_type": "markdown",
     "checksum": "13725bfc15ea04f20e590d1d73cc6506",
     "grade": false,
     "grade_id": "cell-c22c1dd1a588c2b0",
     "locked": true,
     "schema_version": 3,
     "solution": false,
     "task": false
    }
   },
   "source": [
    "# Q4.4\\* Plot the averages by occupation _and_ gender on a multiple bar plot. (4 points)\n",
    "\n",
    "Tip: there is an example of a multiple bar plot [here](https://pandas.pydata.org/pandas-docs/stable/user_guide/visualization.html)\n",
    "\n",
    "Tip 2: there are many ways to solve this problem, one is a one-liner using `DataFrame.unstack`. It's a little longer if you make the figure nicer."
   ]
  },
  {
   "cell_type": "code",
   "execution_count": null,
   "metadata": {
    "deletable": false,
    "nbgrader": {
     "cell_type": "code",
     "checksum": "9512ec25f649d8bad7cdd01ebdd3ea5f",
     "grade": true,
     "grade_id": "cell-5021952b9f0c448a",
     "locked": false,
     "points": 4,
     "schema_version": 3,
     "solution": true,
     "task": false
    }
   },
   "outputs": [],
   "source": [
    "# YOUR CODE HERE\n",
    "raise NotImplementedError()"
   ]
  },
  {
   "cell_type": "markdown",
   "metadata": {
    "deletable": false,
    "editable": false,
    "nbgrader": {
     "cell_type": "markdown",
     "checksum": "1545662111d95fe14f08813d898ff369",
     "grade": false,
     "grade_id": "cell-d820b4cb52675d3c",
     "locked": true,
     "schema_version": 3,
     "solution": false,
     "task": false
    }
   },
   "source": [
    "# Q4.5 How likely are different age groups to rate movies? Compute the number of ratings by age grouped into 10-19, 20-29, etc. Plot it on a bar chart.\n",
    "\n",
    "## Step 1. Number of ratings by age group (3 points)"
   ]
  },
  {
   "cell_type": "code",
   "execution_count": null,
   "metadata": {
    "deletable": false,
    "nbgrader": {
     "cell_type": "code",
     "checksum": "adc8eb4b9e0c0a386eddfa02ae1ed03e",
     "grade": false,
     "grade_id": "cell-a82cc48886fbc62f",
     "locked": false,
     "schema_version": 3,
     "solution": true,
     "task": false
    }
   },
   "outputs": [],
   "source": [
    "def count_ratings_by_age_group(ratings):\n",
    "    # YOUR CODE HERE\n",
    "    raise NotImplementedError()"
   ]
  },
  {
   "cell_type": "code",
   "execution_count": null,
   "metadata": {
    "deletable": false,
    "editable": false,
    "nbgrader": {
     "cell_type": "code",
     "checksum": "7a2271de7d7d192e771b67c33f8b1d02",
     "grade": true,
     "grade_id": "cell-73dee03b16d3defa",
     "locked": true,
     "points": 3,
     "schema_version": 3,
     "solution": false,
     "task": false
    }
   },
   "outputs": [],
   "source": [
    "rating_by_age_group = count_ratings_by_age_group(ratings)\n",
    "\n",
    "assert isinstance(rating_by_age_group, pd.Series)\n",
    "assert 20 in rating_by_age_group\n",
    "assert 25 not in rating_by_age_group"
   ]
  },
  {
   "cell_type": "markdown",
   "metadata": {
    "deletable": false,
    "editable": false,
    "nbgrader": {
     "cell_type": "markdown",
     "checksum": "2a8a801690421a373d680bf218e943a3",
     "grade": false,
     "grade_id": "cell-f96dcbfba5aef63f",
     "locked": true,
     "schema_version": 3,
     "solution": false,
     "task": false
    }
   },
   "source": [
    "## Step 2. Plot it on a bar chart. (2 points)"
   ]
  },
  {
   "cell_type": "code",
   "execution_count": null,
   "metadata": {
    "deletable": false,
    "nbgrader": {
     "cell_type": "code",
     "checksum": "06da6fa11d3584f515fa542a2880497e",
     "grade": true,
     "grade_id": "cell-530304f15f352665",
     "locked": false,
     "points": 2,
     "schema_version": 3,
     "solution": true,
     "task": false
    }
   },
   "outputs": [],
   "source": [
    "# YOUR CODE HERE\n",
    "raise NotImplementedError()"
   ]
  },
  {
   "cell_type": "markdown",
   "metadata": {
    "deletable": false,
    "editable": false,
    "nbgrader": {
     "cell_type": "markdown",
     "checksum": "9c959548b8d33e3c42f8eb6b00ac86ec",
     "grade": false,
     "grade_id": "cell-1de490e57ca493e9",
     "locked": true,
     "schema_version": 3,
     "solution": false,
     "task": false
    }
   },
   "source": [
    "# Q4.6 What hour of the day do different occupations rate? (3 points)\n",
    "\n",
    "## Create a function that computes the number of ratings per hour for a single occupation."
   ]
  },
  {
   "cell_type": "code",
   "execution_count": null,
   "metadata": {
    "deletable": false,
    "nbgrader": {
     "cell_type": "code",
     "checksum": "d5acc77c1b68e5d1494a2748495e8538",
     "grade": false,
     "grade_id": "cell-f5c5b35fe828a728",
     "locked": false,
     "schema_version": 3,
     "solution": true,
     "task": false
    }
   },
   "outputs": [],
   "source": [
    "def count_rating_by_hour_occupation(ratings, occupation):\n",
    "    # YOUR CODE HERE\n",
    "    raise NotImplementedError()"
   ]
  },
  {
   "cell_type": "code",
   "execution_count": null,
   "metadata": {
    "deletable": false,
    "editable": false,
    "nbgrader": {
     "cell_type": "code",
     "checksum": "6f9070d1643e5c971455caf624db7a82",
     "grade": true,
     "grade_id": "cell-ff66560b26007766",
     "locked": true,
     "points": 3,
     "schema_version": 3,
     "solution": false,
     "task": false
    }
   },
   "outputs": [],
   "source": [
    "marketing = count_rating_by_hour_occupation(ratings, \"marketing\")\n",
    "assert isinstance(marketing, pd.Series)\n",
    "\n",
    "# there are only 24 hours\n",
    "assert len(marketing) < 25"
   ]
  },
  {
   "cell_type": "markdown",
   "metadata": {
    "deletable": false,
    "editable": false,
    "nbgrader": {
     "cell_type": "markdown",
     "checksum": "6fbe8ad9d9663b2b53cb2416cd2b3fe8",
     "grade": false,
     "grade_id": "cell-b5cdb2018c92be77",
     "locked": true,
     "schema_version": 3,
     "solution": false,
     "task": false
    }
   },
   "source": [
    "# Q4.7\\* Plot the rating hours of marketing employees and programmers on two pie charts. (4 points)\n",
    "\n",
    "A two-subplot figure is created. `ax` is an array of the two subplots, use `ax[0]` for marketing employees and `ax[1]` for programmers. Set the titles of the subplots accordingly."
   ]
  },
  {
   "cell_type": "code",
   "execution_count": null,
   "metadata": {
    "deletable": false,
    "nbgrader": {
     "cell_type": "code",
     "checksum": "0918830938a145812f74d2c36946123d",
     "grade": true,
     "grade_id": "cell-a231aafe97336083",
     "locked": false,
     "points": 4,
     "schema_version": 3,
     "solution": true,
     "task": false
    }
   },
   "outputs": [],
   "source": [
    "fig, ax = plt.subplots(1, 2, figsize=(12, 6))\n",
    "# YOUR CODE HERE\n",
    "raise NotImplementedError()"
   ]
  },
  {
   "cell_type": "markdown",
   "metadata": {},
   "source": [
    "# Q4.8\\* Do older people prefer movies with longer titles? Compute the average title length by age group (0-10, 10-20).\n",
    "\n",
    "## Step1. compute mean length (4 points)\n",
    "\n",
    "Tip: You should probably create a copy of some of the columns."
   ]
  },
  {
   "cell_type": "code",
   "execution_count": null,
   "metadata": {
    "deletable": false,
    "nbgrader": {
     "cell_type": "code",
     "checksum": "29edc2883060b43b24aa7a202b613361",
     "grade": false,
     "grade_id": "cell-a477b0d3165cdcd8",
     "locked": false,
     "schema_version": 3,
     "solution": true,
     "task": false
    }
   },
   "outputs": [],
   "source": [
    "def get_mean_length_by_age_group(ratings):\n",
    "    # YOUR CODE HERE\n",
    "    raise NotImplementedError()"
   ]
  },
  {
   "cell_type": "code",
   "execution_count": null,
   "metadata": {
    "deletable": false,
    "editable": false,
    "nbgrader": {
     "cell_type": "code",
     "checksum": "538b7b7f8da9f1f346d912ad72881518",
     "grade": true,
     "grade_id": "cell-3d5dc90bf06f6b36",
     "locked": true,
     "points": 4,
     "schema_version": 3,
     "solution": false,
     "task": false
    }
   },
   "outputs": [],
   "source": [
    "title_len_by_age = get_mean_length_by_age_group(ratings)\n",
    "assert isinstance(title_len_by_age, pd.Series)\n",
    "assert len(title_len_by_age) == 8\n",
    "# titles are long\n",
    "assert title_len_by_age.min() >= 20"
   ]
  },
  {
   "cell_type": "markdown",
   "metadata": {
    "deletable": false,
    "editable": false,
    "nbgrader": {
     "cell_type": "markdown",
     "checksum": "feaea6f44245f19fd3f4a6df840587ce",
     "grade": false,
     "grade_id": "cell-58823f30294de150",
     "locked": true,
     "schema_version": 3,
     "solution": false,
     "task": false
    }
   },
   "source": [
    "## Step 2. Plot it on a bar chart. Choose a reasonable range for the y-axis. (2 points)"
   ]
  },
  {
   "cell_type": "code",
   "execution_count": null,
   "metadata": {
    "deletable": false,
    "nbgrader": {
     "cell_type": "code",
     "checksum": "7b2b8037e7f9475855afe2dc0af7ee0f",
     "grade": true,
     "grade_id": "cell-ad06e211e16b0289",
     "locked": false,
     "points": 2,
     "schema_version": 3,
     "solution": true,
     "task": false
    }
   },
   "outputs": [],
   "source": [
    "# YOUR CODE HERE\n",
    "raise NotImplementedError()"
   ]
  },
  {
   "cell_type": "markdown",
   "metadata": {
    "deletable": false,
    "editable": false,
    "nbgrader": {
     "cell_type": "markdown",
     "checksum": "913e51d42eefc11763ccd06f56fe3b48",
     "grade": false,
     "grade_id": "cell-557a5e7027ae75c0",
     "locked": true,
     "schema_version": 3,
     "solution": false,
     "task": false
    }
   },
   "source": [
    "# Problem Set 5. A simple recommendation system\n",
    "\n",
    "Let's build a simple recommendation system that finds similar movies based on genre.\n",
    "\n",
    "# Q5.1. Extract genre information as a matrix. (2 points)\n",
    "\n",
    "The `.values` attribute represents the underlying values as a Numpy ndarray."
   ]
  },
  {
   "cell_type": "code",
   "execution_count": null,
   "metadata": {
    "deletable": false,
    "nbgrader": {
     "cell_type": "code",
     "checksum": "8a56fb56e4f58e3e28759ad035f62fab",
     "grade": false,
     "grade_id": "cell-e61406058a172d75",
     "locked": false,
     "schema_version": 3,
     "solution": true,
     "task": false
    }
   },
   "outputs": [],
   "source": [
    "#X = ...\n",
    "# YOUR CODE HERE\n",
    "raise NotImplementedError()"
   ]
  },
  {
   "cell_type": "code",
   "execution_count": null,
   "metadata": {
    "deletable": false,
    "editable": false,
    "nbgrader": {
     "cell_type": "code",
     "checksum": "f43708a0b32ec280dcee99ffdb62e0bc",
     "grade": true,
     "grade_id": "cell-812510a5d2711504",
     "locked": true,
     "points": 2,
     "schema_version": 3,
     "solution": false,
     "task": false
    }
   },
   "outputs": [],
   "source": [
    "assert isinstance(X, np.ndarray)\n",
    "assert X.shape[0] == len(movies)"
   ]
  },
  {
   "cell_type": "markdown",
   "metadata": {
    "deletable": false,
    "editable": false,
    "nbgrader": {
     "cell_type": "markdown",
     "checksum": "6505dfc7cdd8738fd641a17726015b50",
     "grade": false,
     "grade_id": "cell-2fd24af8dd58f467",
     "locked": true,
     "schema_version": 3,
     "solution": false,
     "task": false
    }
   },
   "source": [
    "# Q5.2 Run the k-nearest neighbor algorithm on X. (3 points)\n",
    "\n",
    "Find a usage example in the [documentation](https://scikit-learn.org/stable/modules/neighbors.html) of `NearestNeighbors`.\n",
    "\n",
    "Store the indices in a variable names `indices`.\n",
    "\n",
    "`K` is the number of nearest neighbors. It should be a parameter of your function."
   ]
  },
  {
   "cell_type": "code",
   "execution_count": null,
   "metadata": {
    "deletable": false,
    "nbgrader": {
     "cell_type": "code",
     "checksum": "c6cc1e4a46db988421a5d12da77b1677",
     "grade": false,
     "grade_id": "cell-0c7b2b4e80f585ce",
     "locked": false,
     "schema_version": 3,
     "solution": true,
     "task": false
    }
   },
   "outputs": [],
   "source": [
    "from sklearn.neighbors import NearestNeighbors\n",
    "# YOUR CODE HERE\n",
    "raise NotImplementedError()"
   ]
  },
  {
   "cell_type": "code",
   "execution_count": null,
   "metadata": {
    "deletable": false,
    "editable": false,
    "nbgrader": {
     "cell_type": "code",
     "checksum": "019195f177240f712ffd427a9be43a62",
     "grade": true,
     "grade_id": "cell-3c0cee4015b781b6",
     "locked": true,
     "points": 3,
     "schema_version": 3,
     "solution": false,
     "task": false
    }
   },
   "outputs": [],
   "source": [
    "assert run_knn(X, 2).shape == (1682, 2)\n",
    "K = 4\n",
    "indices = run_knn(X, K)\n",
    "assert isinstance(indices, np.ndarray)\n",
    "assert indices.shape[1] == K"
   ]
  },
  {
   "cell_type": "markdown",
   "metadata": {
    "deletable": false,
    "editable": false,
    "nbgrader": {
     "cell_type": "markdown",
     "checksum": "8d37bc1ce2773a8a7aca0ff697dcc582",
     "grade": false,
     "grade_id": "cell-9341003465e7e549",
     "locked": true,
     "schema_version": 3,
     "solution": false,
     "task": false
    }
   },
   "source": [
    "`indices` is more convenient as a DataFrame"
   ]
  },
  {
   "cell_type": "code",
   "execution_count": null,
   "metadata": {},
   "outputs": [],
   "source": [
    "ind = pd.DataFrame(indices)\n",
    "ind.head()"
   ]
  },
  {
   "cell_type": "markdown",
   "metadata": {
    "deletable": false,
    "editable": false,
    "nbgrader": {
     "cell_type": "markdown",
     "checksum": "3f8912355f5ebf62c28f5dcc07f102fb",
     "grade": false,
     "grade_id": "cell-f4d615b7ee75a38b",
     "locked": true,
     "schema_version": 3,
     "solution": false,
     "task": false
    }
   },
   "source": [
    "# Q5.3 Increment by one (3 points)\n",
    "\n",
    "The index of this DataFrame refers to a particular movie and the rest of the rows are the indices of similar movies. The problem is that this matrix is zero-indexed, while the dataset (`movies` table) is indexed from 1.\n",
    "\n",
    "Both the index and all values should be increased by one."
   ]
  },
  {
   "cell_type": "code",
   "execution_count": null,
   "metadata": {
    "deletable": false,
    "nbgrader": {
     "cell_type": "code",
     "checksum": "0fd4fa33d2a519e8b00f7bcff436bde7",
     "grade": false,
     "grade_id": "cell-f803a1ab03a91bfe",
     "locked": false,
     "schema_version": 3,
     "solution": true,
     "task": false
    }
   },
   "outputs": [],
   "source": [
    "def increment_table(df):\n",
    "    # YOUR CODE HERE\n",
    "    raise NotImplementedError()"
   ]
  },
  {
   "cell_type": "code",
   "execution_count": null,
   "metadata": {
    "deletable": false,
    "editable": false,
    "nbgrader": {
     "cell_type": "code",
     "checksum": "53835d3103c46bf38cd55a334a9b4284",
     "grade": true,
     "grade_id": "cell-cbaa4664c55cace3",
     "locked": true,
     "points": 3,
     "schema_version": 3,
     "solution": false,
     "task": false
    }
   },
   "outputs": [],
   "source": [
    "indices = increment_table(ind)\n",
    "assert indices.shape[1] == 4\n",
    "assert indices.index[0] == 1\n",
    "assert indices.index[-1] == len(indices)"
   ]
  },
  {
   "cell_type": "code",
   "execution_count": null,
   "metadata": {},
   "outputs": [],
   "source": [
    "indices.head()"
   ]
  },
  {
   "cell_type": "markdown",
   "metadata": {
    "deletable": false,
    "editable": false,
    "nbgrader": {
     "cell_type": "markdown",
     "checksum": "9c13504fb1323c9980bf19e0b0ffe995",
     "grade": false,
     "grade_id": "cell-6dc777a7e1135ed8",
     "locked": true,
     "schema_version": 3,
     "solution": false,
     "task": false
    }
   },
   "source": [
    "# Q5.4\\* Find the movies corresponding to these indices (5 points)\n",
    "\n",
    "You'll need multiple merge operations.\n",
    "\n",
    "Tip: the names of the columns in `indices` are not strings but integers, you can rename the columns of a dataframe:\n",
    "\n",
    "~~~\n",
    "df = df.rename(columns={'old': 'new', 'other old': 'other new'})\n",
    "~~~\n",
    "\n",
    "You can discard all other columns."
   ]
  },
  {
   "cell_type": "code",
   "execution_count": null,
   "metadata": {
    "deletable": false,
    "nbgrader": {
     "cell_type": "code",
     "checksum": "f5b899df0e8cd4e94c8a65e383cf9485",
     "grade": false,
     "grade_id": "cell-9ecfefb874db3bb3",
     "locked": false,
     "schema_version": 3,
     "solution": true,
     "task": false
    }
   },
   "outputs": [],
   "source": [
    "def find_neighbor_titles(movies, indices):\n",
    "    # YOUR CODE HERE\n",
    "    raise NotImplementedError()"
   ]
  },
  {
   "cell_type": "code",
   "execution_count": null,
   "metadata": {
    "deletable": false,
    "editable": false,
    "nbgrader": {
     "cell_type": "code",
     "checksum": "0952723f1cf4de41e7409c4ec5852f18",
     "grade": true,
     "grade_id": "cell-3d78e3d934ed0e1e",
     "locked": true,
     "points": 5,
     "schema_version": 3,
     "solution": false,
     "task": false
    }
   },
   "outputs": [],
   "source": [
    "neighbors = find_neighbor_titles(movies, indices)\n",
    "assert isinstance(neighbors, pd.DataFrame)\n",
    "assert neighbors.shape[1] == K"
   ]
  },
  {
   "cell_type": "code",
   "execution_count": null,
   "metadata": {},
   "outputs": [],
   "source": [
    "neighbors.head()"
   ]
  },
  {
   "cell_type": "markdown",
   "metadata": {
    "deletable": false,
    "editable": false,
    "nbgrader": {
     "cell_type": "markdown",
     "checksum": "e2a1592ffe91c7ddd7530db69db6c1d0",
     "grade": false,
     "grade_id": "cell-8a157df0a25f71b6",
     "locked": true,
     "schema_version": 3,
     "solution": false,
     "task": false
    }
   },
   "source": [
    "# Q5.5\\* Replace the index of the movie by its title. (2 points)"
   ]
  },
  {
   "cell_type": "code",
   "execution_count": null,
   "metadata": {
    "deletable": false,
    "nbgrader": {
     "cell_type": "code",
     "checksum": "b369ca9ebf8e84bad52fb08b074af3e2",
     "grade": false,
     "grade_id": "cell-56307e9b1c8bb1a2",
     "locked": false,
     "schema_version": 3,
     "solution": true,
     "task": false
    }
   },
   "outputs": [],
   "source": [
    "def recover_titles(movies, neighbors):\n",
    "    # YOUR CODE HERE\n",
    "    raise NotImplementedError()"
   ]
  },
  {
   "cell_type": "code",
   "execution_count": null,
   "metadata": {
    "deletable": false,
    "editable": false,
    "nbgrader": {
     "cell_type": "code",
     "checksum": "b6e2b2d4d3c8cbb5ee9939ee86c41561",
     "grade": true,
     "grade_id": "cell-01a6c7f120064a82",
     "locked": true,
     "points": 2,
     "schema_version": 3,
     "solution": false,
     "task": false
    }
   },
   "outputs": [],
   "source": [
    "most_similar = recover_titles(movies, neighbors)\n",
    "\n",
    "assert type(most_similar) == pd.DataFrame\n",
    "assert \"Toy Story (1995)\" in most_similar.index"
   ]
  },
  {
   "cell_type": "markdown",
   "metadata": {
    "deletable": false,
    "editable": false,
    "nbgrader": {
     "cell_type": "markdown",
     "checksum": "cc853f270aec6af48552480bce3fc1f0",
     "grade": false,
     "grade_id": "cell-2f5d00d5fc09d5ae",
     "locked": true,
     "schema_version": 3,
     "solution": false,
     "task": false
    }
   },
   "source": [
    "# Q5.6\\*\\* Improve your recommedation system by adding other columns. (5 points)\n",
    "\n",
    "Tips: you can add the average rating of a movie by occupation/age group/gender\n",
    "\n",
    "Please fit your solution in one cell."
   ]
  },
  {
   "cell_type": "code",
   "execution_count": null,
   "metadata": {
    "deletable": false,
    "nbgrader": {
     "cell_type": "code",
     "checksum": "047605426e92347270d51e580bf076d3",
     "grade": true,
     "grade_id": "cell-26e8eb09f7215675",
     "locked": false,
     "points": 5,
     "schema_version": 3,
     "solution": true,
     "task": false
    }
   },
   "outputs": [],
   "source": [
    "# YOUR CODE HERE\n",
    "raise NotImplementedError()"
   ]
  },
  {
   "cell_type": "markdown",
   "metadata": {
    "deletable": false,
    "editable": false,
    "nbgrader": {
     "cell_type": "markdown",
     "checksum": "52f19428e33430a47cb193dc740bce6f",
     "grade": false,
     "grade_id": "cell-a80ac510ba4fc2a3",
     "locked": true,
     "schema_version": 3,
     "solution": false,
     "task": false
    }
   },
   "source": [
    "Please fill out this [short survey](https://forms.gle/i717e8Mzijjy3Pfk9) after you completed the problems."
   ]
  }
 ],
 "metadata": {
  "kernelspec": {
   "display_name": "Python 3",
   "language": "python",
   "name": "python3"
  },
  "language_info": {
   "codemirror_mode": {
    "name": "ipython",
    "version": 3
   },
   "file_extension": ".py",
   "mimetype": "text/x-python",
   "name": "python",
   "nbconvert_exporter": "python",
   "pygments_lexer": "ipython3",
   "version": "3.7.6"
  },
  "toc": {
   "colors": {
    "hover_highlight": "#DAA520",
    "navigate_num": "#000000",
    "navigate_text": "#333333",
    "running_highlight": "#FF0000",
    "selected_highlight": "#FFD700",
    "sidebar_border": "#EEEEEE",
    "wrapper_background": "#FFFFFF"
   },
   "moveMenuLeft": true,
   "nav_menu": {
    "height": "512px",
    "width": "252px"
   },
   "navigate_menu": true,
   "number_sections": false,
   "sideBar": true,
   "threshold": 4,
   "toc_cell": true,
   "toc_position": {
    "height": "585px",
    "left": "0px",
    "right": "1536px",
    "top": "120.567px",
    "width": "302.467px"
   },
   "toc_section_display": "block",
   "toc_window_display": true,
   "widenNotebook": false
  }
 },
 "nbformat": 4,
 "nbformat_minor": 4
}
