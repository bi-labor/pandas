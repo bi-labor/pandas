{
 "cells": [
  {
   "cell_type": "markdown",
   "metadata": {},
   "source": [
    "# Pandas introduction\n",
    "\n",
    "This notebook is a supplementary material for the Business intelligence laboratory (VIAUMB00) course at [BME AUT](https://www.aut.bme.hu/Default.aspx). Course page in [Hungarian](https://www.aut.bme.hu/Course/VIAUMB00) and in [English](https://www.aut.bme.hu/Course/ENVIAUMB00).\n",
    "\n",
    "The goal of this notebook is to provide a short introduction to the [Pandas](https://pandas.pydata.org/) data manipulation library.\n",
    "\n",
    "The main problem sheet is available through Github Classroom.\n",
    "\n",
    "You can find further information about Pandas:\n",
    "\n",
    "1. [A 10min introduction](http://pandas.pydata.org/pandas-docs/stable/10min.html)\n",
    "2. [Brandon Rhodes' tutorial from PyCon 2015](https://www.youtube.com/watch?v=5JnMutdy6Fw)\n",
    "3. [Kevin Markham's tutorial from PyCon 2018](https://www.youtube.com/watch?v=0hsKLYfyQZc)"
   ]
  },
  {
   "cell_type": "markdown",
   "metadata": {},
   "source": [
    "## What is pandas?\n",
    "\n",
    "Pandas is a data analysis and manipulation library popular among data scientists and machine learning practitioners.\n",
    "\n",
    "Its name is derived from _panel data_. Pandas is built to handle tabular data with mixed data types.\n",
    "\n",
    "Pandas is integrated with Python's main numerical computation library, NumPy and with the main visualization library, matplotlib."
   ]
  },
  {
   "cell_type": "code",
   "execution_count": 1,
   "metadata": {},
   "outputs": [],
   "source": [
    "import pandas as pd  # importing it as pd is a convention you'll see everywhere\n",
    "# this renders figures inside the notebook\n",
    "%matplotlib inline\n",
    "import matplotlib\n",
    "import numpy as np\n",
    "\n",
    "# these setting make the plots a bit nicer\n",
    "matplotlib.style.use('ggplot')\n",
    "matplotlib.pyplot.rcParams['figure.figsize'] = (15, 3)\n",
    "matplotlib.pyplot.rcParams['font.family'] = 'sans-serif'"
   ]
  },
  {
   "cell_type": "code",
   "execution_count": 2,
   "metadata": {},
   "outputs": [
    {
     "data": {
      "text/html": [
       "<div>\n",
       "<style scoped>\n",
       "    .dataframe tbody tr th:only-of-type {\n",
       "        vertical-align: middle;\n",
       "    }\n",
       "\n",
       "    .dataframe tbody tr th {\n",
       "        vertical-align: top;\n",
       "    }\n",
       "\n",
       "    .dataframe thead th {\n",
       "        text-align: right;\n",
       "    }\n",
       "</style>\n",
       "<table border=\"1\" class=\"dataframe\">\n",
       "  <thead>\n",
       "    <tr style=\"text-align: right;\">\n",
       "      <th></th>\n",
       "      <th>subject</th>\n",
       "      <th>grade</th>\n",
       "      <th>teacher</th>\n",
       "      <th>semester</th>\n",
       "      <th>completion_date</th>\n",
       "    </tr>\n",
       "  </thead>\n",
       "  <tbody>\n",
       "    <tr>\n",
       "      <th>0</th>\n",
       "      <td>Calculus 1</td>\n",
       "      <td>3</td>\n",
       "      <td>A. Smith</td>\n",
       "      <td>1</td>\n",
       "      <td>2017-12-18</td>\n",
       "    </tr>\n",
       "    <tr>\n",
       "      <th>1</th>\n",
       "      <td>Digital design 1</td>\n",
       "      <td>4</td>\n",
       "      <td>J. Doe</td>\n",
       "      <td>1</td>\n",
       "      <td>2018-01-05</td>\n",
       "    </tr>\n",
       "    <tr>\n",
       "      <th>2</th>\n",
       "      <td>Physics 1i</td>\n",
       "      <td>3</td>\n",
       "      <td>J. Smith</td>\n",
       "      <td>1</td>\n",
       "      <td>2018-01-21</td>\n",
       "    </tr>\n",
       "    <tr>\n",
       "      <th>3</th>\n",
       "      <td>System modeling</td>\n",
       "      <td>2</td>\n",
       "      <td>M. Jackson</td>\n",
       "      <td>2</td>\n",
       "      <td>2018-06-11</td>\n",
       "    </tr>\n",
       "    <tr>\n",
       "      <th>4</th>\n",
       "      <td>Basics of Programming 1</td>\n",
       "      <td>5</td>\n",
       "      <td>T. Swift</td>\n",
       "      <td>1</td>\n",
       "      <td>2018-06-01</td>\n",
       "    </tr>\n",
       "    <tr>\n",
       "      <th>5</th>\n",
       "      <td>System theory</td>\n",
       "      <td>1</td>\n",
       "      <td>A. Grande</td>\n",
       "      <td>3</td>\n",
       "      <td>2018-12-17</td>\n",
       "    </tr>\n",
       "    <tr>\n",
       "      <th>6</th>\n",
       "      <td>Introduction to the Theory of Computing 1</td>\n",
       "      <td>4</td>\n",
       "      <td>J. Bieber</td>\n",
       "      <td>1</td>\n",
       "      <td>2017-01-01</td>\n",
       "    </tr>\n",
       "    <tr>\n",
       "      <th>7</th>\n",
       "      <td>Introduction to the Theory of Computing 2</td>\n",
       "      <td>1</td>\n",
       "      <td>C. Cox</td>\n",
       "      <td>2</td>\n",
       "      <td>2018-01-01</td>\n",
       "    </tr>\n",
       "  </tbody>\n",
       "</table>\n",
       "</div>"
      ],
      "text/plain": [
       "                                     subject  grade     teacher  semester  \\\n",
       "0                                 Calculus 1      3    A. Smith         1   \n",
       "1                           Digital design 1      4      J. Doe         1   \n",
       "2                                 Physics 1i      3    J. Smith         1   \n",
       "3                            System modeling      2  M. Jackson         2   \n",
       "4                    Basics of Programming 1      5    T. Swift         1   \n",
       "5                              System theory      1   A. Grande         3   \n",
       "6  Introduction to the Theory of Computing 1      4   J. Bieber         1   \n",
       "7  Introduction to the Theory of Computing 2      1      C. Cox         2   \n",
       "\n",
       "  completion_date  \n",
       "0      2017-12-18  \n",
       "1      2018-01-05  \n",
       "2      2018-01-21  \n",
       "3      2018-06-11  \n",
       "4      2018-06-01  \n",
       "5      2018-12-17  \n",
       "6      2017-01-01  \n",
       "7      2018-01-01  "
      ]
     },
     "execution_count": 2,
     "metadata": {},
     "output_type": "execute_result"
    }
   ],
   "source": [
    "grades = pd.DataFrame(\n",
    "    {\n",
    "        'subject': ['Calculus 1', 'Digital design 1', \n",
    "                    'Physics 1i', 'System modeling', 'Basics of Programming 1', 'System theory',\n",
    "                   'Introduction to the Theory of Computing 1', 'Introduction to the Theory of Computing 2'],\n",
    "        'grade': [3, 4, 3, 2, 5, 1, 4, 1],\n",
    "        'teacher': ['A. Smith', 'J. Doe', 'J. Smith', 'M. Jackson', 'T. Swift', 'A. Grande', 'J. Bieber', 'C. Cox'],\n",
    "        'semester': [1, 1, 1, 2, 1, 3, 1, 2],\n",
    "        'completion_date': [\n",
    "            '2017-12-18',\n",
    "            '2018-01-05',\n",
    "            '2018-01-21',\n",
    "            '2018-06-11',\n",
    "            '2018-06-01',\n",
    "            '2018-12-17',\n",
    "            '2017-01-01',\n",
    "            '2018-01-01',\n",
    "        ]\n",
    "    }\n",
    ")\n",
    "grades['completion_date'] = pd.to_datetime(grades['completion_date'])\n",
    "grades"
   ]
  },
  {
   "cell_type": "markdown",
   "metadata": {},
   "source": [
    "`.shape` is a tuple of the number of rows and the number of columns:"
   ]
  },
  {
   "cell_type": "code",
   "execution_count": 3,
   "metadata": {},
   "outputs": [
    {
     "data": {
      "text/plain": [
       "(8, 5)"
      ]
     },
     "execution_count": 3,
     "metadata": {},
     "output_type": "execute_result"
    }
   ],
   "source": [
    "grades.shape"
   ]
  },
  {
   "cell_type": "markdown",
   "metadata": {},
   "source": [
    "`.head()` returns the first 5 rows of a DataFrame, `.tail()` returns the last ones. These are very useful for manual data inspection. You should always check what the contents of your dataframes."
   ]
  },
  {
   "cell_type": "code",
   "execution_count": 4,
   "metadata": {},
   "outputs": [
    {
     "data": {
      "text/html": [
       "<div>\n",
       "<style scoped>\n",
       "    .dataframe tbody tr th:only-of-type {\n",
       "        vertical-align: middle;\n",
       "    }\n",
       "\n",
       "    .dataframe tbody tr th {\n",
       "        vertical-align: top;\n",
       "    }\n",
       "\n",
       "    .dataframe thead th {\n",
       "        text-align: right;\n",
       "    }\n",
       "</style>\n",
       "<table border=\"1\" class=\"dataframe\">\n",
       "  <thead>\n",
       "    <tr style=\"text-align: right;\">\n",
       "      <th></th>\n",
       "      <th>subject</th>\n",
       "      <th>grade</th>\n",
       "      <th>teacher</th>\n",
       "      <th>semester</th>\n",
       "      <th>completion_date</th>\n",
       "    </tr>\n",
       "  </thead>\n",
       "  <tbody>\n",
       "    <tr>\n",
       "      <th>0</th>\n",
       "      <td>Calculus 1</td>\n",
       "      <td>3</td>\n",
       "      <td>A. Smith</td>\n",
       "      <td>1</td>\n",
       "      <td>2017-12-18</td>\n",
       "    </tr>\n",
       "    <tr>\n",
       "      <th>1</th>\n",
       "      <td>Digital design 1</td>\n",
       "      <td>4</td>\n",
       "      <td>J. Doe</td>\n",
       "      <td>1</td>\n",
       "      <td>2018-01-05</td>\n",
       "    </tr>\n",
       "    <tr>\n",
       "      <th>2</th>\n",
       "      <td>Physics 1i</td>\n",
       "      <td>3</td>\n",
       "      <td>J. Smith</td>\n",
       "      <td>1</td>\n",
       "      <td>2018-01-21</td>\n",
       "    </tr>\n",
       "    <tr>\n",
       "      <th>3</th>\n",
       "      <td>System modeling</td>\n",
       "      <td>2</td>\n",
       "      <td>M. Jackson</td>\n",
       "      <td>2</td>\n",
       "      <td>2018-06-11</td>\n",
       "    </tr>\n",
       "    <tr>\n",
       "      <th>4</th>\n",
       "      <td>Basics of Programming 1</td>\n",
       "      <td>5</td>\n",
       "      <td>T. Swift</td>\n",
       "      <td>1</td>\n",
       "      <td>2018-06-01</td>\n",
       "    </tr>\n",
       "  </tbody>\n",
       "</table>\n",
       "</div>"
      ],
      "text/plain": [
       "                   subject  grade     teacher  semester completion_date\n",
       "0               Calculus 1      3    A. Smith         1      2017-12-18\n",
       "1         Digital design 1      4      J. Doe         1      2018-01-05\n",
       "2               Physics 1i      3    J. Smith         1      2018-01-21\n",
       "3          System modeling      2  M. Jackson         2      2018-06-11\n",
       "4  Basics of Programming 1      5    T. Swift         1      2018-06-01"
      ]
     },
     "execution_count": 4,
     "metadata": {},
     "output_type": "execute_result"
    }
   ],
   "source": [
    "grades.head()"
   ]
  },
  {
   "cell_type": "markdown",
   "metadata": {},
   "source": [
    "Printing other only the last two elements:"
   ]
  },
  {
   "cell_type": "code",
   "execution_count": 5,
   "metadata": {},
   "outputs": [
    {
     "data": {
      "text/html": [
       "<div>\n",
       "<style scoped>\n",
       "    .dataframe tbody tr th:only-of-type {\n",
       "        vertical-align: middle;\n",
       "    }\n",
       "\n",
       "    .dataframe tbody tr th {\n",
       "        vertical-align: top;\n",
       "    }\n",
       "\n",
       "    .dataframe thead th {\n",
       "        text-align: right;\n",
       "    }\n",
       "</style>\n",
       "<table border=\"1\" class=\"dataframe\">\n",
       "  <thead>\n",
       "    <tr style=\"text-align: right;\">\n",
       "      <th></th>\n",
       "      <th>subject</th>\n",
       "      <th>grade</th>\n",
       "      <th>teacher</th>\n",
       "      <th>semester</th>\n",
       "      <th>completion_date</th>\n",
       "    </tr>\n",
       "  </thead>\n",
       "  <tbody>\n",
       "    <tr>\n",
       "      <th>6</th>\n",
       "      <td>Introduction to the Theory of Computing 1</td>\n",
       "      <td>4</td>\n",
       "      <td>J. Bieber</td>\n",
       "      <td>1</td>\n",
       "      <td>2017-01-01</td>\n",
       "    </tr>\n",
       "    <tr>\n",
       "      <th>7</th>\n",
       "      <td>Introduction to the Theory of Computing 2</td>\n",
       "      <td>1</td>\n",
       "      <td>C. Cox</td>\n",
       "      <td>2</td>\n",
       "      <td>2018-01-01</td>\n",
       "    </tr>\n",
       "  </tbody>\n",
       "</table>\n",
       "</div>"
      ],
      "text/plain": [
       "                                     subject  grade    teacher  semester  \\\n",
       "6  Introduction to the Theory of Computing 1      4  J. Bieber         1   \n",
       "7  Introduction to the Theory of Computing 2      1     C. Cox         2   \n",
       "\n",
       "  completion_date  \n",
       "6      2017-01-01  \n",
       "7      2018-01-01  "
      ]
     },
     "execution_count": 5,
     "metadata": {},
     "output_type": "execute_result"
    }
   ],
   "source": [
    "grades.tail(2)"
   ]
  },
  {
   "cell_type": "markdown",
   "metadata": {},
   "source": [
    "Each of these operations return a new dataframe. We can confirm this via their object identity:"
   ]
  },
  {
   "cell_type": "code",
   "execution_count": 6,
   "metadata": {},
   "outputs": [
    {
     "data": {
      "text/plain": [
       "(140371378498448, 140371378245520)"
      ]
     },
     "execution_count": 6,
     "metadata": {},
     "output_type": "execute_result"
    }
   ],
   "source": [
    "id(grades), id(grades.tail(2))"
   ]
  },
  {
   "cell_type": "markdown",
   "metadata": {},
   "source": [
    "But these objects are not copied unless we explicitly ask for a copy:"
   ]
  },
  {
   "cell_type": "code",
   "execution_count": 7,
   "metadata": {},
   "outputs": [
    {
     "data": {
      "text/html": [
       "<div>\n",
       "<style scoped>\n",
       "    .dataframe tbody tr th:only-of-type {\n",
       "        vertical-align: middle;\n",
       "    }\n",
       "\n",
       "    .dataframe tbody tr th {\n",
       "        vertical-align: top;\n",
       "    }\n",
       "\n",
       "    .dataframe thead th {\n",
       "        text-align: right;\n",
       "    }\n",
       "</style>\n",
       "<table border=\"1\" class=\"dataframe\">\n",
       "  <thead>\n",
       "    <tr style=\"text-align: right;\">\n",
       "      <th></th>\n",
       "      <th>subject</th>\n",
       "      <th>grade</th>\n",
       "      <th>teacher</th>\n",
       "      <th>semester</th>\n",
       "      <th>completion_date</th>\n",
       "    </tr>\n",
       "  </thead>\n",
       "  <tbody>\n",
       "    <tr>\n",
       "      <th>6</th>\n",
       "      <td>Introduction to the Theory of Computing 1</td>\n",
       "      <td>4</td>\n",
       "      <td>J. Bieber</td>\n",
       "      <td>1</td>\n",
       "      <td>2017-01-01</td>\n",
       "    </tr>\n",
       "    <tr>\n",
       "      <th>7</th>\n",
       "      <td>Introduction to the Theory of Computing 2</td>\n",
       "      <td>1</td>\n",
       "      <td>C. Cox</td>\n",
       "      <td>2</td>\n",
       "      <td>2018-01-01</td>\n",
       "    </tr>\n",
       "  </tbody>\n",
       "</table>\n",
       "</div>"
      ],
      "text/plain": [
       "                                     subject  grade    teacher  semester  \\\n",
       "6  Introduction to the Theory of Computing 1      4  J. Bieber         1   \n",
       "7  Introduction to the Theory of Computing 2      1     C. Cox         2   \n",
       "\n",
       "  completion_date  \n",
       "6      2017-01-01  \n",
       "7      2018-01-01  "
      ]
     },
     "execution_count": 7,
     "metadata": {},
     "output_type": "execute_result"
    }
   ],
   "source": [
    "grades.tail(2).copy()"
   ]
  },
  {
   "cell_type": "markdown",
   "metadata": {},
   "source": [
    "# Selecting rows, columns and cells\n",
    "\n",
    "The first boldfaced column of the table is the index column. It's possible to use multiple columns as index (Multiindex).\n",
    "\n",
    "## Selecting columns"
   ]
  },
  {
   "cell_type": "code",
   "execution_count": 8,
   "metadata": {},
   "outputs": [
    {
     "data": {
      "text/plain": [
       "0      A. Smith\n",
       "1        J. Doe\n",
       "2      J. Smith\n",
       "3    M. Jackson\n",
       "4      T. Swift\n",
       "5     A. Grande\n",
       "6     J. Bieber\n",
       "7        C. Cox\n",
       "Name: teacher, dtype: object"
      ]
     },
     "execution_count": 8,
     "metadata": {},
     "output_type": "execute_result"
    }
   ],
   "source": [
    "grades['teacher']"
   ]
  },
  {
   "cell_type": "markdown",
   "metadata": {},
   "source": [
    "The name of the column is also exposed as an attribute as long as it adheres to the naming limitations of attributes (no spaces, starts with a letter, doesn't crash with a method name):"
   ]
  },
  {
   "cell_type": "code",
   "execution_count": 9,
   "metadata": {},
   "outputs": [
    {
     "data": {
      "text/plain": [
       "0      A. Smith\n",
       "1        J. Doe\n",
       "2      J. Smith\n",
       "3    M. Jackson\n",
       "4      T. Swift\n",
       "5     A. Grande\n",
       "6     J. Bieber\n",
       "7        C. Cox\n",
       "Name: teacher, dtype: object"
      ]
     },
     "execution_count": 9,
     "metadata": {},
     "output_type": "execute_result"
    }
   ],
   "source": [
    "grades.teacher"
   ]
  },
  {
   "cell_type": "markdown",
   "metadata": {},
   "source": [
    "The type of a column is `pd.Series`, which is the type for a vector:"
   ]
  },
  {
   "cell_type": "code",
   "execution_count": 10,
   "metadata": {},
   "outputs": [
    {
     "data": {
      "text/plain": [
       "pandas.core.series.Series"
      ]
     },
     "execution_count": 10,
     "metadata": {},
     "output_type": "execute_result"
    }
   ],
   "source": [
    "type(grades.teacher)"
   ]
  },
  {
   "cell_type": "code",
   "execution_count": 11,
   "metadata": {},
   "outputs": [
    {
     "data": {
      "text/plain": [
       "(8,)"
      ]
     },
     "execution_count": 11,
     "metadata": {},
     "output_type": "execute_result"
    }
   ],
   "source": [
    "grades.teacher.shape"
   ]
  },
  {
   "cell_type": "markdown",
   "metadata": {},
   "source": [
    "We can select multiple columns with a list of column names instead of a column name. Note the double square brackets."
   ]
  },
  {
   "cell_type": "code",
   "execution_count": 12,
   "metadata": {},
   "outputs": [
    {
     "data": {
      "text/html": [
       "<div>\n",
       "<style scoped>\n",
       "    .dataframe tbody tr th:only-of-type {\n",
       "        vertical-align: middle;\n",
       "    }\n",
       "\n",
       "    .dataframe tbody tr th {\n",
       "        vertical-align: top;\n",
       "    }\n",
       "\n",
       "    .dataframe thead th {\n",
       "        text-align: right;\n",
       "    }\n",
       "</style>\n",
       "<table border=\"1\" class=\"dataframe\">\n",
       "  <thead>\n",
       "    <tr style=\"text-align: right;\">\n",
       "      <th></th>\n",
       "      <th>grade</th>\n",
       "      <th>teacher</th>\n",
       "    </tr>\n",
       "  </thead>\n",
       "  <tbody>\n",
       "    <tr>\n",
       "      <th>0</th>\n",
       "      <td>3</td>\n",
       "      <td>A. Smith</td>\n",
       "    </tr>\n",
       "    <tr>\n",
       "      <th>1</th>\n",
       "      <td>4</td>\n",
       "      <td>J. Doe</td>\n",
       "    </tr>\n",
       "    <tr>\n",
       "      <th>2</th>\n",
       "      <td>3</td>\n",
       "      <td>J. Smith</td>\n",
       "    </tr>\n",
       "    <tr>\n",
       "      <th>3</th>\n",
       "      <td>2</td>\n",
       "      <td>M. Jackson</td>\n",
       "    </tr>\n",
       "    <tr>\n",
       "      <th>4</th>\n",
       "      <td>5</td>\n",
       "      <td>T. Swift</td>\n",
       "    </tr>\n",
       "    <tr>\n",
       "      <th>5</th>\n",
       "      <td>1</td>\n",
       "      <td>A. Grande</td>\n",
       "    </tr>\n",
       "    <tr>\n",
       "      <th>6</th>\n",
       "      <td>4</td>\n",
       "      <td>J. Bieber</td>\n",
       "    </tr>\n",
       "    <tr>\n",
       "      <th>7</th>\n",
       "      <td>1</td>\n",
       "      <td>C. Cox</td>\n",
       "    </tr>\n",
       "  </tbody>\n",
       "</table>\n",
       "</div>"
      ],
      "text/plain": [
       "   grade     teacher\n",
       "0      3    A. Smith\n",
       "1      4      J. Doe\n",
       "2      3    J. Smith\n",
       "3      2  M. Jackson\n",
       "4      5    T. Swift\n",
       "5      1   A. Grande\n",
       "6      4   J. Bieber\n",
       "7      1      C. Cox"
      ]
     },
     "execution_count": 12,
     "metadata": {},
     "output_type": "execute_result"
    }
   ],
   "source": [
    "grades[['grade', 'teacher']]"
   ]
  },
  {
   "cell_type": "markdown",
   "metadata": {},
   "source": [
    "The return type of the operator `[]` depends on the type of the index. If it's a string, it returns a `Series` if it's a list, it returns a `DataFrame`:"
   ]
  },
  {
   "cell_type": "code",
   "execution_count": 13,
   "metadata": {},
   "outputs": [
    {
     "name": "stdout",
     "output_type": "stream",
     "text": [
      "<class 'pandas.core.frame.DataFrame'>\n"
     ]
    },
    {
     "data": {
      "text/html": [
       "<div>\n",
       "<style scoped>\n",
       "    .dataframe tbody tr th:only-of-type {\n",
       "        vertical-align: middle;\n",
       "    }\n",
       "\n",
       "    .dataframe tbody tr th {\n",
       "        vertical-align: top;\n",
       "    }\n",
       "\n",
       "    .dataframe thead th {\n",
       "        text-align: right;\n",
       "    }\n",
       "</style>\n",
       "<table border=\"1\" class=\"dataframe\">\n",
       "  <thead>\n",
       "    <tr style=\"text-align: right;\">\n",
       "      <th></th>\n",
       "      <th>grade</th>\n",
       "    </tr>\n",
       "  </thead>\n",
       "  <tbody>\n",
       "    <tr>\n",
       "      <th>0</th>\n",
       "      <td>3</td>\n",
       "    </tr>\n",
       "    <tr>\n",
       "      <th>1</th>\n",
       "      <td>4</td>\n",
       "    </tr>\n",
       "    <tr>\n",
       "      <th>2</th>\n",
       "      <td>3</td>\n",
       "    </tr>\n",
       "    <tr>\n",
       "      <th>3</th>\n",
       "      <td>2</td>\n",
       "    </tr>\n",
       "    <tr>\n",
       "      <th>4</th>\n",
       "      <td>5</td>\n",
       "    </tr>\n",
       "    <tr>\n",
       "      <th>5</th>\n",
       "      <td>1</td>\n",
       "    </tr>\n",
       "    <tr>\n",
       "      <th>6</th>\n",
       "      <td>4</td>\n",
       "    </tr>\n",
       "    <tr>\n",
       "      <th>7</th>\n",
       "      <td>1</td>\n",
       "    </tr>\n",
       "  </tbody>\n",
       "</table>\n",
       "</div>"
      ],
      "text/plain": [
       "   grade\n",
       "0      3\n",
       "1      4\n",
       "2      3\n",
       "3      2\n",
       "4      5\n",
       "5      1\n",
       "6      4\n",
       "7      1"
      ]
     },
     "execution_count": 13,
     "metadata": {},
     "output_type": "execute_result"
    }
   ],
   "source": [
    "print(type(grades[['grade']]))\n",
    "grades[['grade']]"
   ]
  },
  {
   "cell_type": "markdown",
   "metadata": {},
   "source": [
    "## Selecting rows\n",
    "\n",
    "Rows can be selected\n",
    "\n",
    "1. by their index or\n",
    "2. by their integer location.\n",
    "\n",
    "To demonstrate this, we will use the subject name as the index. Note that it's now in bold:"
   ]
  },
  {
   "cell_type": "code",
   "execution_count": 14,
   "metadata": {},
   "outputs": [
    {
     "data": {
      "text/html": [
       "<div>\n",
       "<style scoped>\n",
       "    .dataframe tbody tr th:only-of-type {\n",
       "        vertical-align: middle;\n",
       "    }\n",
       "\n",
       "    .dataframe tbody tr th {\n",
       "        vertical-align: top;\n",
       "    }\n",
       "\n",
       "    .dataframe thead th {\n",
       "        text-align: right;\n",
       "    }\n",
       "</style>\n",
       "<table border=\"1\" class=\"dataframe\">\n",
       "  <thead>\n",
       "    <tr style=\"text-align: right;\">\n",
       "      <th></th>\n",
       "      <th>grade</th>\n",
       "      <th>teacher</th>\n",
       "      <th>semester</th>\n",
       "      <th>completion_date</th>\n",
       "    </tr>\n",
       "    <tr>\n",
       "      <th>subject</th>\n",
       "      <th></th>\n",
       "      <th></th>\n",
       "      <th></th>\n",
       "      <th></th>\n",
       "    </tr>\n",
       "  </thead>\n",
       "  <tbody>\n",
       "    <tr>\n",
       "      <th>Calculus 1</th>\n",
       "      <td>3</td>\n",
       "      <td>A. Smith</td>\n",
       "      <td>1</td>\n",
       "      <td>2017-12-18</td>\n",
       "    </tr>\n",
       "    <tr>\n",
       "      <th>Digital design 1</th>\n",
       "      <td>4</td>\n",
       "      <td>J. Doe</td>\n",
       "      <td>1</td>\n",
       "      <td>2018-01-05</td>\n",
       "    </tr>\n",
       "    <tr>\n",
       "      <th>Physics 1i</th>\n",
       "      <td>3</td>\n",
       "      <td>J. Smith</td>\n",
       "      <td>1</td>\n",
       "      <td>2018-01-21</td>\n",
       "    </tr>\n",
       "    <tr>\n",
       "      <th>System modeling</th>\n",
       "      <td>2</td>\n",
       "      <td>M. Jackson</td>\n",
       "      <td>2</td>\n",
       "      <td>2018-06-11</td>\n",
       "    </tr>\n",
       "    <tr>\n",
       "      <th>Basics of Programming 1</th>\n",
       "      <td>5</td>\n",
       "      <td>T. Swift</td>\n",
       "      <td>1</td>\n",
       "      <td>2018-06-01</td>\n",
       "    </tr>\n",
       "    <tr>\n",
       "      <th>System theory</th>\n",
       "      <td>1</td>\n",
       "      <td>A. Grande</td>\n",
       "      <td>3</td>\n",
       "      <td>2018-12-17</td>\n",
       "    </tr>\n",
       "    <tr>\n",
       "      <th>Introduction to the Theory of Computing 1</th>\n",
       "      <td>4</td>\n",
       "      <td>J. Bieber</td>\n",
       "      <td>1</td>\n",
       "      <td>2017-01-01</td>\n",
       "    </tr>\n",
       "    <tr>\n",
       "      <th>Introduction to the Theory of Computing 2</th>\n",
       "      <td>1</td>\n",
       "      <td>C. Cox</td>\n",
       "      <td>2</td>\n",
       "      <td>2018-01-01</td>\n",
       "    </tr>\n",
       "  </tbody>\n",
       "</table>\n",
       "</div>"
      ],
      "text/plain": [
       "                                           grade     teacher  semester  \\\n",
       "subject                                                                  \n",
       "Calculus 1                                     3    A. Smith         1   \n",
       "Digital design 1                               4      J. Doe         1   \n",
       "Physics 1i                                     3    J. Smith         1   \n",
       "System modeling                                2  M. Jackson         2   \n",
       "Basics of Programming 1                        5    T. Swift         1   \n",
       "System theory                                  1   A. Grande         3   \n",
       "Introduction to the Theory of Computing 1      4   J. Bieber         1   \n",
       "Introduction to the Theory of Computing 2      1      C. Cox         2   \n",
       "\n",
       "                                          completion_date  \n",
       "subject                                                    \n",
       "Calculus 1                                     2017-12-18  \n",
       "Digital design 1                               2018-01-05  \n",
       "Physics 1i                                     2018-01-21  \n",
       "System modeling                                2018-06-11  \n",
       "Basics of Programming 1                        2018-06-01  \n",
       "System theory                                  2018-12-17  \n",
       "Introduction to the Theory of Computing 1      2017-01-01  \n",
       "Introduction to the Theory of Computing 2      2018-01-01  "
      ]
     },
     "execution_count": 14,
     "metadata": {},
     "output_type": "execute_result"
    }
   ],
   "source": [
    "grades = grades.set_index('subject')\n",
    "grades"
   ]
  },
  {
   "cell_type": "markdown",
   "metadata": {},
   "source": [
    "### Selecting by index\n",
    "\n",
    "Note that you need to use `[]` not `()`:"
   ]
  },
  {
   "cell_type": "code",
   "execution_count": 15,
   "metadata": {},
   "outputs": [
    {
     "data": {
      "text/plain": [
       "grade                                3\n",
       "teacher                       J. Smith\n",
       "semester                             1\n",
       "completion_date    2018-01-21 00:00:00\n",
       "Name: Physics 1i, dtype: object"
      ]
     },
     "execution_count": 15,
     "metadata": {},
     "output_type": "execute_result"
    }
   ],
   "source": [
    "grades.loc['Physics 1i']"
   ]
  },
  {
   "cell_type": "markdown",
   "metadata": {},
   "source": [
    "The type of one row is a `Series` since it's a vector:"
   ]
  },
  {
   "cell_type": "code",
   "execution_count": 16,
   "metadata": {},
   "outputs": [
    {
     "data": {
      "text/plain": [
       "pandas.core.series.Series"
      ]
     },
     "execution_count": 16,
     "metadata": {},
     "output_type": "execute_result"
    }
   ],
   "source": [
    "type(grades.loc['Physics 1i'])"
   ]
  },
  {
   "cell_type": "markdown",
   "metadata": {},
   "source": [
    "### Selecting by integer location"
   ]
  },
  {
   "cell_type": "code",
   "execution_count": 17,
   "metadata": {},
   "outputs": [
    {
     "data": {
      "text/plain": [
       "grade                                3\n",
       "teacher                       J. Smith\n",
       "semester                             1\n",
       "completion_date    2018-01-21 00:00:00\n",
       "Name: Physics 1i, dtype: object"
      ]
     },
     "execution_count": 17,
     "metadata": {},
     "output_type": "execute_result"
    }
   ],
   "source": [
    "grades.iloc[2]"
   ]
  },
  {
   "cell_type": "markdown",
   "metadata": {},
   "source": [
    "We can use ranges here as well. Note that the range is upper-bound exclusive, in other words, `.iloc[i:j]` will not include element `j`:"
   ]
  },
  {
   "cell_type": "code",
   "execution_count": 18,
   "metadata": {},
   "outputs": [
    {
     "data": {
      "text/html": [
       "<div>\n",
       "<style scoped>\n",
       "    .dataframe tbody tr th:only-of-type {\n",
       "        vertical-align: middle;\n",
       "    }\n",
       "\n",
       "    .dataframe tbody tr th {\n",
       "        vertical-align: top;\n",
       "    }\n",
       "\n",
       "    .dataframe thead th {\n",
       "        text-align: right;\n",
       "    }\n",
       "</style>\n",
       "<table border=\"1\" class=\"dataframe\">\n",
       "  <thead>\n",
       "    <tr style=\"text-align: right;\">\n",
       "      <th></th>\n",
       "      <th>grade</th>\n",
       "      <th>teacher</th>\n",
       "      <th>semester</th>\n",
       "      <th>completion_date</th>\n",
       "    </tr>\n",
       "    <tr>\n",
       "      <th>subject</th>\n",
       "      <th></th>\n",
       "      <th></th>\n",
       "      <th></th>\n",
       "      <th></th>\n",
       "    </tr>\n",
       "  </thead>\n",
       "  <tbody>\n",
       "    <tr>\n",
       "      <th>Digital design 1</th>\n",
       "      <td>4</td>\n",
       "      <td>J. Doe</td>\n",
       "      <td>1</td>\n",
       "      <td>2018-01-05</td>\n",
       "    </tr>\n",
       "    <tr>\n",
       "      <th>Physics 1i</th>\n",
       "      <td>3</td>\n",
       "      <td>J. Smith</td>\n",
       "      <td>1</td>\n",
       "      <td>2018-01-21</td>\n",
       "    </tr>\n",
       "  </tbody>\n",
       "</table>\n",
       "</div>"
      ],
      "text/plain": [
       "                  grade   teacher  semester completion_date\n",
       "subject                                                    \n",
       "Digital design 1      4    J. Doe         1      2018-01-05\n",
       "Physics 1i            3  J. Smith         1      2018-01-21"
      ]
     },
     "execution_count": 18,
     "metadata": {},
     "output_type": "execute_result"
    }
   ],
   "source": [
    "grades.iloc[1:3]"
   ]
  },
  {
   "cell_type": "markdown",
   "metadata": {},
   "source": [
    "### Selecting columns with `iloc`"
   ]
  },
  {
   "cell_type": "code",
   "execution_count": 19,
   "metadata": {},
   "outputs": [
    {
     "data": {
      "text/html": [
       "<div>\n",
       "<style scoped>\n",
       "    .dataframe tbody tr th:only-of-type {\n",
       "        vertical-align: middle;\n",
       "    }\n",
       "\n",
       "    .dataframe tbody tr th {\n",
       "        vertical-align: top;\n",
       "    }\n",
       "\n",
       "    .dataframe thead th {\n",
       "        text-align: right;\n",
       "    }\n",
       "</style>\n",
       "<table border=\"1\" class=\"dataframe\">\n",
       "  <thead>\n",
       "    <tr style=\"text-align: right;\">\n",
       "      <th></th>\n",
       "      <th>grade</th>\n",
       "      <th>semester</th>\n",
       "    </tr>\n",
       "    <tr>\n",
       "      <th>subject</th>\n",
       "      <th></th>\n",
       "      <th></th>\n",
       "    </tr>\n",
       "  </thead>\n",
       "  <tbody>\n",
       "    <tr>\n",
       "      <th>Calculus 1</th>\n",
       "      <td>3</td>\n",
       "      <td>1</td>\n",
       "    </tr>\n",
       "    <tr>\n",
       "      <th>Digital design 1</th>\n",
       "      <td>4</td>\n",
       "      <td>1</td>\n",
       "    </tr>\n",
       "    <tr>\n",
       "      <th>Physics 1i</th>\n",
       "      <td>3</td>\n",
       "      <td>1</td>\n",
       "    </tr>\n",
       "    <tr>\n",
       "      <th>System modeling</th>\n",
       "      <td>2</td>\n",
       "      <td>2</td>\n",
       "    </tr>\n",
       "    <tr>\n",
       "      <th>Basics of Programming 1</th>\n",
       "      <td>5</td>\n",
       "      <td>1</td>\n",
       "    </tr>\n",
       "    <tr>\n",
       "      <th>System theory</th>\n",
       "      <td>1</td>\n",
       "      <td>3</td>\n",
       "    </tr>\n",
       "    <tr>\n",
       "      <th>Introduction to the Theory of Computing 1</th>\n",
       "      <td>4</td>\n",
       "      <td>1</td>\n",
       "    </tr>\n",
       "    <tr>\n",
       "      <th>Introduction to the Theory of Computing 2</th>\n",
       "      <td>1</td>\n",
       "      <td>2</td>\n",
       "    </tr>\n",
       "  </tbody>\n",
       "</table>\n",
       "</div>"
      ],
      "text/plain": [
       "                                           grade  semester\n",
       "subject                                                   \n",
       "Calculus 1                                     3         1\n",
       "Digital design 1                               4         1\n",
       "Physics 1i                                     3         1\n",
       "System modeling                                2         2\n",
       "Basics of Programming 1                        5         1\n",
       "System theory                                  1         3\n",
       "Introduction to the Theory of Computing 1      4         1\n",
       "Introduction to the Theory of Computing 2      1         2"
      ]
     },
     "execution_count": 19,
     "metadata": {},
     "output_type": "execute_result"
    }
   ],
   "source": [
    "grades.iloc[:, [0, 2]]"
   ]
  },
  {
   "cell_type": "code",
   "execution_count": 20,
   "metadata": {},
   "outputs": [
    {
     "data": {
      "text/html": [
       "<div>\n",
       "<style scoped>\n",
       "    .dataframe tbody tr th:only-of-type {\n",
       "        vertical-align: middle;\n",
       "    }\n",
       "\n",
       "    .dataframe tbody tr th {\n",
       "        vertical-align: top;\n",
       "    }\n",
       "\n",
       "    .dataframe thead th {\n",
       "        text-align: right;\n",
       "    }\n",
       "</style>\n",
       "<table border=\"1\" class=\"dataframe\">\n",
       "  <thead>\n",
       "    <tr style=\"text-align: right;\">\n",
       "      <th></th>\n",
       "      <th>teacher</th>\n",
       "      <th>semester</th>\n",
       "    </tr>\n",
       "    <tr>\n",
       "      <th>subject</th>\n",
       "      <th></th>\n",
       "      <th></th>\n",
       "    </tr>\n",
       "  </thead>\n",
       "  <tbody>\n",
       "    <tr>\n",
       "      <th>Calculus 1</th>\n",
       "      <td>A. Smith</td>\n",
       "      <td>1</td>\n",
       "    </tr>\n",
       "    <tr>\n",
       "      <th>Digital design 1</th>\n",
       "      <td>J. Doe</td>\n",
       "      <td>1</td>\n",
       "    </tr>\n",
       "    <tr>\n",
       "      <th>Physics 1i</th>\n",
       "      <td>J. Smith</td>\n",
       "      <td>1</td>\n",
       "    </tr>\n",
       "    <tr>\n",
       "      <th>System modeling</th>\n",
       "      <td>M. Jackson</td>\n",
       "      <td>2</td>\n",
       "    </tr>\n",
       "    <tr>\n",
       "      <th>Basics of Programming 1</th>\n",
       "      <td>T. Swift</td>\n",
       "      <td>1</td>\n",
       "    </tr>\n",
       "    <tr>\n",
       "      <th>System theory</th>\n",
       "      <td>A. Grande</td>\n",
       "      <td>3</td>\n",
       "    </tr>\n",
       "    <tr>\n",
       "      <th>Introduction to the Theory of Computing 1</th>\n",
       "      <td>J. Bieber</td>\n",
       "      <td>1</td>\n",
       "    </tr>\n",
       "    <tr>\n",
       "      <th>Introduction to the Theory of Computing 2</th>\n",
       "      <td>C. Cox</td>\n",
       "      <td>2</td>\n",
       "    </tr>\n",
       "  </tbody>\n",
       "</table>\n",
       "</div>"
      ],
      "text/plain": [
       "                                              teacher  semester\n",
       "subject                                                        \n",
       "Calculus 1                                   A. Smith         1\n",
       "Digital design 1                               J. Doe         1\n",
       "Physics 1i                                   J. Smith         1\n",
       "System modeling                            M. Jackson         2\n",
       "Basics of Programming 1                      T. Swift         1\n",
       "System theory                               A. Grande         3\n",
       "Introduction to the Theory of Computing 1   J. Bieber         1\n",
       "Introduction to the Theory of Computing 2      C. Cox         2"
      ]
     },
     "execution_count": 20,
     "metadata": {},
     "output_type": "execute_result"
    }
   ],
   "source": [
    "grades.iloc[:, 1:-1]"
   ]
  },
  {
   "cell_type": "code",
   "execution_count": 21,
   "metadata": {},
   "outputs": [
    {
     "data": {
      "text/html": [
       "<div>\n",
       "<style scoped>\n",
       "    .dataframe tbody tr th:only-of-type {\n",
       "        vertical-align: middle;\n",
       "    }\n",
       "\n",
       "    .dataframe tbody tr th {\n",
       "        vertical-align: top;\n",
       "    }\n",
       "\n",
       "    .dataframe thead th {\n",
       "        text-align: right;\n",
       "    }\n",
       "</style>\n",
       "<table border=\"1\" class=\"dataframe\">\n",
       "  <thead>\n",
       "    <tr style=\"text-align: right;\">\n",
       "      <th></th>\n",
       "      <th>teacher</th>\n",
       "    </tr>\n",
       "    <tr>\n",
       "      <th>subject</th>\n",
       "      <th></th>\n",
       "    </tr>\n",
       "  </thead>\n",
       "  <tbody>\n",
       "    <tr>\n",
       "      <th>Digital design 1</th>\n",
       "      <td>J. Doe</td>\n",
       "    </tr>\n",
       "    <tr>\n",
       "      <th>Physics 1i</th>\n",
       "      <td>J. Smith</td>\n",
       "    </tr>\n",
       "    <tr>\n",
       "      <th>System modeling</th>\n",
       "      <td>M. Jackson</td>\n",
       "    </tr>\n",
       "    <tr>\n",
       "      <th>Basics of Programming 1</th>\n",
       "      <td>T. Swift</td>\n",
       "    </tr>\n",
       "  </tbody>\n",
       "</table>\n",
       "</div>"
      ],
      "text/plain": [
       "                            teacher\n",
       "subject                            \n",
       "Digital design 1             J. Doe\n",
       "Physics 1i                 J. Smith\n",
       "System modeling          M. Jackson\n",
       "Basics of Programming 1    T. Swift"
      ]
     },
     "execution_count": 21,
     "metadata": {},
     "output_type": "execute_result"
    }
   ],
   "source": [
    "grades.iloc[1:5, 1:2]"
   ]
  },
  {
   "cell_type": "markdown",
   "metadata": {},
   "source": [
    "## Selecting a cell\n",
    "\n",
    "There are multiple ways of selecting a single cell, this is perhaps the easiest one:"
   ]
  },
  {
   "cell_type": "code",
   "execution_count": 22,
   "metadata": {},
   "outputs": [
    {
     "data": {
      "text/plain": [
       "3"
      ]
     },
     "execution_count": 22,
     "metadata": {},
     "output_type": "execute_result"
    }
   ],
   "source": [
    "grades.loc['Physics 1i', 'grade']"
   ]
  },
  {
   "cell_type": "markdown",
   "metadata": {},
   "source": [
    "# Vectorized operations\n",
    "\n",
    "Arithmetic operators are overloaded for `DataFrames` and `Series` allowing vectorized operations"
   ]
  },
  {
   "cell_type": "code",
   "execution_count": 23,
   "metadata": {},
   "outputs": [
    {
     "data": {
      "text/plain": [
       "subject\n",
       "Calculus 1                                   4\n",
       "Digital design 1                             5\n",
       "Physics 1i                                   4\n",
       "System modeling                              3\n",
       "Basics of Programming 1                      6\n",
       "System theory                                2\n",
       "Introduction to the Theory of Computing 1    5\n",
       "Introduction to the Theory of Computing 2    2\n",
       "Name: grade, dtype: int64"
      ]
     },
     "execution_count": 23,
     "metadata": {},
     "output_type": "execute_result"
    }
   ],
   "source": [
    "grades['grade'] + 1"
   ]
  },
  {
   "cell_type": "code",
   "execution_count": 24,
   "metadata": {},
   "outputs": [
    {
     "data": {
      "text/html": [
       "<div>\n",
       "<style scoped>\n",
       "    .dataframe tbody tr th:only-of-type {\n",
       "        vertical-align: middle;\n",
       "    }\n",
       "\n",
       "    .dataframe tbody tr th {\n",
       "        vertical-align: top;\n",
       "    }\n",
       "\n",
       "    .dataframe thead th {\n",
       "        text-align: right;\n",
       "    }\n",
       "</style>\n",
       "<table border=\"1\" class=\"dataframe\">\n",
       "  <thead>\n",
       "    <tr style=\"text-align: right;\">\n",
       "      <th></th>\n",
       "      <th>grade</th>\n",
       "      <th>semester</th>\n",
       "    </tr>\n",
       "    <tr>\n",
       "      <th>subject</th>\n",
       "      <th></th>\n",
       "      <th></th>\n",
       "    </tr>\n",
       "  </thead>\n",
       "  <tbody>\n",
       "    <tr>\n",
       "      <th>Calculus 1</th>\n",
       "      <td>4</td>\n",
       "      <td>2</td>\n",
       "    </tr>\n",
       "    <tr>\n",
       "      <th>Digital design 1</th>\n",
       "      <td>5</td>\n",
       "      <td>2</td>\n",
       "    </tr>\n",
       "    <tr>\n",
       "      <th>Physics 1i</th>\n",
       "      <td>4</td>\n",
       "      <td>2</td>\n",
       "    </tr>\n",
       "    <tr>\n",
       "      <th>System modeling</th>\n",
       "      <td>3</td>\n",
       "      <td>3</td>\n",
       "    </tr>\n",
       "    <tr>\n",
       "      <th>Basics of Programming 1</th>\n",
       "      <td>6</td>\n",
       "      <td>2</td>\n",
       "    </tr>\n",
       "    <tr>\n",
       "      <th>System theory</th>\n",
       "      <td>2</td>\n",
       "      <td>4</td>\n",
       "    </tr>\n",
       "    <tr>\n",
       "      <th>Introduction to the Theory of Computing 1</th>\n",
       "      <td>5</td>\n",
       "      <td>2</td>\n",
       "    </tr>\n",
       "    <tr>\n",
       "      <th>Introduction to the Theory of Computing 2</th>\n",
       "      <td>2</td>\n",
       "      <td>3</td>\n",
       "    </tr>\n",
       "  </tbody>\n",
       "</table>\n",
       "</div>"
      ],
      "text/plain": [
       "                                           grade  semester\n",
       "subject                                                   \n",
       "Calculus 1                                     4         2\n",
       "Digital design 1                               5         2\n",
       "Physics 1i                                     4         2\n",
       "System modeling                                3         3\n",
       "Basics of Programming 1                        6         2\n",
       "System theory                                  2         4\n",
       "Introduction to the Theory of Computing 1      5         2\n",
       "Introduction to the Theory of Computing 2      2         3"
      ]
     },
     "execution_count": 24,
     "metadata": {},
     "output_type": "execute_result"
    }
   ],
   "source": [
    "grades[['grade', 'semester']] + 1"
   ]
  },
  {
   "cell_type": "markdown",
   "metadata": {},
   "source": [
    "Comparisions are overloaded as well:"
   ]
  },
  {
   "cell_type": "code",
   "execution_count": 25,
   "metadata": {},
   "outputs": [
    {
     "data": {
      "text/plain": [
       "subject\n",
       "Calculus 1                                    True\n",
       "Digital design 1                              True\n",
       "Physics 1i                                    True\n",
       "System modeling                              False\n",
       "Basics of Programming 1                       True\n",
       "System theory                                False\n",
       "Introduction to the Theory of Computing 1     True\n",
       "Introduction to the Theory of Computing 2    False\n",
       "Name: semester, dtype: bool"
      ]
     },
     "execution_count": 25,
     "metadata": {},
     "output_type": "execute_result"
    }
   ],
   "source": [
    "grades['semester'] == 1"
   ]
  },
  {
   "cell_type": "markdown",
   "metadata": {},
   "source": [
    "The index can be manipulated in a similar way but the return value is different:"
   ]
  },
  {
   "cell_type": "code",
   "execution_count": 26,
   "metadata": {},
   "outputs": [
    {
     "data": {
      "text/plain": [
       "array([False, False, False, False, False,  True, False, False])"
      ]
     },
     "execution_count": 26,
     "metadata": {},
     "output_type": "execute_result"
    }
   ],
   "source": [
    "grades.index == 'System theory'"
   ]
  },
  {
   "cell_type": "markdown",
   "metadata": {},
   "source": [
    "It is generally used to override the index:"
   ]
  },
  {
   "cell_type": "code",
   "execution_count": 27,
   "metadata": {},
   "outputs": [
    {
     "data": {
      "text/html": [
       "<div>\n",
       "<style scoped>\n",
       "    .dataframe tbody tr th:only-of-type {\n",
       "        vertical-align: middle;\n",
       "    }\n",
       "\n",
       "    .dataframe tbody tr th {\n",
       "        vertical-align: top;\n",
       "    }\n",
       "\n",
       "    .dataframe thead th {\n",
       "        text-align: right;\n",
       "    }\n",
       "</style>\n",
       "<table border=\"1\" class=\"dataframe\">\n",
       "  <thead>\n",
       "    <tr style=\"text-align: right;\">\n",
       "      <th></th>\n",
       "      <th>grade</th>\n",
       "      <th>teacher</th>\n",
       "      <th>semester</th>\n",
       "      <th>completion_date</th>\n",
       "    </tr>\n",
       "    <tr>\n",
       "      <th>subject</th>\n",
       "      <th></th>\n",
       "      <th></th>\n",
       "      <th></th>\n",
       "      <th></th>\n",
       "    </tr>\n",
       "  </thead>\n",
       "  <tbody>\n",
       "    <tr>\n",
       "      <th>CALCULUS 1</th>\n",
       "      <td>3</td>\n",
       "      <td>A. Smith</td>\n",
       "      <td>1</td>\n",
       "      <td>2017-12-18</td>\n",
       "    </tr>\n",
       "    <tr>\n",
       "      <th>DIGITAL DESIGN 1</th>\n",
       "      <td>4</td>\n",
       "      <td>J. Doe</td>\n",
       "      <td>1</td>\n",
       "      <td>2018-01-05</td>\n",
       "    </tr>\n",
       "    <tr>\n",
       "      <th>PHYSICS 1I</th>\n",
       "      <td>3</td>\n",
       "      <td>J. Smith</td>\n",
       "      <td>1</td>\n",
       "      <td>2018-01-21</td>\n",
       "    </tr>\n",
       "    <tr>\n",
       "      <th>SYSTEM MODELING</th>\n",
       "      <td>2</td>\n",
       "      <td>M. Jackson</td>\n",
       "      <td>2</td>\n",
       "      <td>2018-06-11</td>\n",
       "    </tr>\n",
       "    <tr>\n",
       "      <th>BASICS OF PROGRAMMING 1</th>\n",
       "      <td>5</td>\n",
       "      <td>T. Swift</td>\n",
       "      <td>1</td>\n",
       "      <td>2018-06-01</td>\n",
       "    </tr>\n",
       "    <tr>\n",
       "      <th>SYSTEM THEORY</th>\n",
       "      <td>1</td>\n",
       "      <td>A. Grande</td>\n",
       "      <td>3</td>\n",
       "      <td>2018-12-17</td>\n",
       "    </tr>\n",
       "    <tr>\n",
       "      <th>INTRODUCTION TO THE THEORY OF COMPUTING 1</th>\n",
       "      <td>4</td>\n",
       "      <td>J. Bieber</td>\n",
       "      <td>1</td>\n",
       "      <td>2017-01-01</td>\n",
       "    </tr>\n",
       "    <tr>\n",
       "      <th>INTRODUCTION TO THE THEORY OF COMPUTING 2</th>\n",
       "      <td>1</td>\n",
       "      <td>C. Cox</td>\n",
       "      <td>2</td>\n",
       "      <td>2018-01-01</td>\n",
       "    </tr>\n",
       "  </tbody>\n",
       "</table>\n",
       "</div>"
      ],
      "text/plain": [
       "                                           grade     teacher  semester  \\\n",
       "subject                                                                  \n",
       "CALCULUS 1                                     3    A. Smith         1   \n",
       "DIGITAL DESIGN 1                               4      J. Doe         1   \n",
       "PHYSICS 1I                                     3    J. Smith         1   \n",
       "SYSTEM MODELING                                2  M. Jackson         2   \n",
       "BASICS OF PROGRAMMING 1                        5    T. Swift         1   \n",
       "SYSTEM THEORY                                  1   A. Grande         3   \n",
       "INTRODUCTION TO THE THEORY OF COMPUTING 1      4   J. Bieber         1   \n",
       "INTRODUCTION TO THE THEORY OF COMPUTING 2      1      C. Cox         2   \n",
       "\n",
       "                                          completion_date  \n",
       "subject                                                    \n",
       "CALCULUS 1                                     2017-12-18  \n",
       "DIGITAL DESIGN 1                               2018-01-05  \n",
       "PHYSICS 1I                                     2018-01-21  \n",
       "SYSTEM MODELING                                2018-06-11  \n",
       "BASICS OF PROGRAMMING 1                        2018-06-01  \n",
       "SYSTEM THEORY                                  2018-12-17  \n",
       "INTRODUCTION TO THE THEORY OF COMPUTING 1      2017-01-01  \n",
       "INTRODUCTION TO THE THEORY OF COMPUTING 2      2018-01-01  "
      ]
     },
     "execution_count": 27,
     "metadata": {},
     "output_type": "execute_result"
    }
   ],
   "source": [
    "old_index = grades.index.copy()\n",
    "grades.index = grades.index.str.upper()\n",
    "grades"
   ]
  },
  {
   "cell_type": "markdown",
   "metadata": {},
   "source": [
    "Changing it back:"
   ]
  },
  {
   "cell_type": "code",
   "execution_count": 28,
   "metadata": {},
   "outputs": [
    {
     "data": {
      "text/html": [
       "<div>\n",
       "<style scoped>\n",
       "    .dataframe tbody tr th:only-of-type {\n",
       "        vertical-align: middle;\n",
       "    }\n",
       "\n",
       "    .dataframe tbody tr th {\n",
       "        vertical-align: top;\n",
       "    }\n",
       "\n",
       "    .dataframe thead th {\n",
       "        text-align: right;\n",
       "    }\n",
       "</style>\n",
       "<table border=\"1\" class=\"dataframe\">\n",
       "  <thead>\n",
       "    <tr style=\"text-align: right;\">\n",
       "      <th></th>\n",
       "      <th>grade</th>\n",
       "      <th>teacher</th>\n",
       "      <th>semester</th>\n",
       "      <th>completion_date</th>\n",
       "    </tr>\n",
       "    <tr>\n",
       "      <th>subject</th>\n",
       "      <th></th>\n",
       "      <th></th>\n",
       "      <th></th>\n",
       "      <th></th>\n",
       "    </tr>\n",
       "  </thead>\n",
       "  <tbody>\n",
       "    <tr>\n",
       "      <th>Calculus 1</th>\n",
       "      <td>3</td>\n",
       "      <td>A. Smith</td>\n",
       "      <td>1</td>\n",
       "      <td>2017-12-18</td>\n",
       "    </tr>\n",
       "    <tr>\n",
       "      <th>Digital design 1</th>\n",
       "      <td>4</td>\n",
       "      <td>J. Doe</td>\n",
       "      <td>1</td>\n",
       "      <td>2018-01-05</td>\n",
       "    </tr>\n",
       "    <tr>\n",
       "      <th>Physics 1i</th>\n",
       "      <td>3</td>\n",
       "      <td>J. Smith</td>\n",
       "      <td>1</td>\n",
       "      <td>2018-01-21</td>\n",
       "    </tr>\n",
       "    <tr>\n",
       "      <th>System modeling</th>\n",
       "      <td>2</td>\n",
       "      <td>M. Jackson</td>\n",
       "      <td>2</td>\n",
       "      <td>2018-06-11</td>\n",
       "    </tr>\n",
       "    <tr>\n",
       "      <th>Basics of Programming 1</th>\n",
       "      <td>5</td>\n",
       "      <td>T. Swift</td>\n",
       "      <td>1</td>\n",
       "      <td>2018-06-01</td>\n",
       "    </tr>\n",
       "    <tr>\n",
       "      <th>System theory</th>\n",
       "      <td>1</td>\n",
       "      <td>A. Grande</td>\n",
       "      <td>3</td>\n",
       "      <td>2018-12-17</td>\n",
       "    </tr>\n",
       "    <tr>\n",
       "      <th>Introduction to the Theory of Computing 1</th>\n",
       "      <td>4</td>\n",
       "      <td>J. Bieber</td>\n",
       "      <td>1</td>\n",
       "      <td>2017-01-01</td>\n",
       "    </tr>\n",
       "    <tr>\n",
       "      <th>Introduction to the Theory of Computing 2</th>\n",
       "      <td>1</td>\n",
       "      <td>C. Cox</td>\n",
       "      <td>2</td>\n",
       "      <td>2018-01-01</td>\n",
       "    </tr>\n",
       "  </tbody>\n",
       "</table>\n",
       "</div>"
      ],
      "text/plain": [
       "                                           grade     teacher  semester  \\\n",
       "subject                                                                  \n",
       "Calculus 1                                     3    A. Smith         1   \n",
       "Digital design 1                               4      J. Doe         1   \n",
       "Physics 1i                                     3    J. Smith         1   \n",
       "System modeling                                2  M. Jackson         2   \n",
       "Basics of Programming 1                        5    T. Swift         1   \n",
       "System theory                                  1   A. Grande         3   \n",
       "Introduction to the Theory of Computing 1      4   J. Bieber         1   \n",
       "Introduction to the Theory of Computing 2      1      C. Cox         2   \n",
       "\n",
       "                                          completion_date  \n",
       "subject                                                    \n",
       "Calculus 1                                     2017-12-18  \n",
       "Digital design 1                               2018-01-05  \n",
       "Physics 1i                                     2018-01-21  \n",
       "System modeling                                2018-06-11  \n",
       "Basics of Programming 1                        2018-06-01  \n",
       "System theory                                  2018-12-17  \n",
       "Introduction to the Theory of Computing 1      2017-01-01  \n",
       "Introduction to the Theory of Computing 2      2018-01-01  "
      ]
     },
     "execution_count": 28,
     "metadata": {},
     "output_type": "execute_result"
    }
   ],
   "source": [
    "grades.index = old_index\n",
    "grades"
   ]
  },
  {
   "cell_type": "markdown",
   "metadata": {},
   "source": [
    "## Vectorized string operations\n",
    "\n",
    "String columns have a `.str` namespace with many string operations:"
   ]
  },
  {
   "cell_type": "code",
   "execution_count": 29,
   "metadata": {},
   "outputs": [
    {
     "data": {
      "text/plain": [
       "<pandas.core.strings.StringMethods at 0x7faac2187a10>"
      ]
     },
     "execution_count": 29,
     "metadata": {},
     "output_type": "execute_result"
    }
   ],
   "source": [
    "grades['teacher'].str"
   ]
  },
  {
   "cell_type": "code",
   "execution_count": 30,
   "metadata": {},
   "outputs": [
    {
     "data": {
      "text/plain": [
       "subject\n",
       "Calculus 1                                    True\n",
       "Digital design 1                             False\n",
       "Physics 1i                                    True\n",
       "System modeling                              False\n",
       "Basics of Programming 1                      False\n",
       "System theory                                False\n",
       "Introduction to the Theory of Computing 1    False\n",
       "Introduction to the Theory of Computing 2    False\n",
       "Name: teacher, dtype: bool"
      ]
     },
     "execution_count": 30,
     "metadata": {},
     "output_type": "execute_result"
    }
   ],
   "source": [
    "grades['teacher'].str.contains('Smith')"
   ]
  },
  {
   "cell_type": "markdown",
   "metadata": {},
   "source": [
    "It also provides access to the character array:"
   ]
  },
  {
   "cell_type": "code",
   "execution_count": 31,
   "metadata": {},
   "outputs": [
    {
     "data": {
      "text/plain": [
       "subject\n",
       "Calculus 1                                   A. Sm\n",
       "Digital design 1                             J. Do\n",
       "Physics 1i                                   J. Sm\n",
       "System modeling                              M. Ja\n",
       "Basics of Programming 1                      T. Sw\n",
       "System theory                                A. Gr\n",
       "Introduction to the Theory of Computing 1    J. Bi\n",
       "Introduction to the Theory of Computing 2    C. Co\n",
       "Name: teacher, dtype: object"
      ]
     },
     "execution_count": 31,
     "metadata": {},
     "output_type": "execute_result"
    }
   ],
   "source": [
    "grades['teacher'].str[:5]"
   ]
  },
  {
   "cell_type": "markdown",
   "metadata": {},
   "source": [
    "## `apply`\n",
    "\n",
    "`.apply` allows running arbitrary functions on each element of a Series (or a DataFrame):"
   ]
  },
  {
   "cell_type": "code",
   "execution_count": 32,
   "metadata": {},
   "outputs": [
    {
     "data": {
      "text/plain": [
       "subject\n",
       "Calculus 1                                     Smith\n",
       "Digital design 1                                 Doe\n",
       "Physics 1i                                     Smith\n",
       "System modeling                              Jackson\n",
       "Basics of Programming 1                        Swift\n",
       "System theory                                 Grande\n",
       "Introduction to the Theory of Computing 1     Bieber\n",
       "Introduction to the Theory of Computing 2        Cox\n",
       "Name: teacher, dtype: object"
      ]
     },
     "execution_count": 32,
     "metadata": {},
     "output_type": "execute_result"
    }
   ],
   "source": [
    "def get_last_name(name):\n",
    "    return name.split(\" \")[1]\n",
    "\n",
    "\n",
    "grades['teacher'].apply(get_last_name)"
   ]
  },
  {
   "cell_type": "markdown",
   "metadata": {},
   "source": [
    "The same with a lambda function:"
   ]
  },
  {
   "cell_type": "code",
   "execution_count": 33,
   "metadata": {},
   "outputs": [
    {
     "data": {
      "text/plain": [
       "subject\n",
       "Calculus 1                                     Smith\n",
       "Digital design 1                                 Doe\n",
       "Physics 1i                                     Smith\n",
       "System modeling                              Jackson\n",
       "Basics of Programming 1                        Swift\n",
       "System theory                                 Grande\n",
       "Introduction to the Theory of Computing 1     Bieber\n",
       "Introduction to the Theory of Computing 2        Cox\n",
       "Name: teacher, dtype: object"
      ]
     },
     "execution_count": 33,
     "metadata": {},
     "output_type": "execute_result"
    }
   ],
   "source": [
    "grades['teacher'].apply(lambda name: name.split(\" \")[1])"
   ]
  },
  {
   "cell_type": "markdown",
   "metadata": {},
   "source": [
    "## Vectorized date manipulation\n",
    "\n",
    "Date columns can be manipulated through the `dt` namespace:"
   ]
  },
  {
   "cell_type": "code",
   "execution_count": 34,
   "metadata": {},
   "outputs": [
    {
     "data": {
      "text/plain": [
       "<pandas.core.indexes.accessors.DatetimeProperties object at 0x7faac21e6050>"
      ]
     },
     "execution_count": 34,
     "metadata": {},
     "output_type": "execute_result"
    }
   ],
   "source": [
    "grades['completion_date'].dt"
   ]
  },
  {
   "cell_type": "code",
   "execution_count": 35,
   "metadata": {},
   "outputs": [
    {
     "data": {
      "text/plain": [
       "subject\n",
       "Calculus 1                                   Monday\n",
       "Digital design 1                             Friday\n",
       "Physics 1i                                   Sunday\n",
       "System modeling                              Monday\n",
       "Basics of Programming 1                      Friday\n",
       "System theory                                Monday\n",
       "Introduction to the Theory of Computing 1    Sunday\n",
       "Introduction to the Theory of Computing 2    Monday\n",
       "Name: completion_date, dtype: object"
      ]
     },
     "execution_count": 35,
     "metadata": {},
     "output_type": "execute_result"
    }
   ],
   "source": [
    "grades['completion_date'].dt.day_name()"
   ]
  },
  {
   "cell_type": "code",
   "execution_count": 36,
   "metadata": {},
   "outputs": [
    {
     "data": {
      "text/plain": [
       "subject\n",
       "Calculus 1                                   2017\n",
       "Digital design 1                             2018\n",
       "Physics 1i                                   2018\n",
       "System modeling                              2018\n",
       "Basics of Programming 1                      2018\n",
       "System theory                                2018\n",
       "Introduction to the Theory of Computing 1    2017\n",
       "Introduction to the Theory of Computing 2    2018\n",
       "Name: completion_date, dtype: int64"
      ]
     },
     "execution_count": 36,
     "metadata": {},
     "output_type": "execute_result"
    }
   ],
   "source": [
    "grades['completion_date'].dt.year"
   ]
  },
  {
   "cell_type": "markdown",
   "metadata": {},
   "source": [
    "# Filtering\n",
    "\n",
    "Comparisons return a Series of True/False values"
   ]
  },
  {
   "cell_type": "code",
   "execution_count": 37,
   "metadata": {},
   "outputs": [
    {
     "data": {
      "text/plain": [
       "subject\n",
       "Calculus 1                                    True\n",
       "Digital design 1                              True\n",
       "Physics 1i                                    True\n",
       "System modeling                              False\n",
       "Basics of Programming 1                       True\n",
       "System theory                                False\n",
       "Introduction to the Theory of Computing 1     True\n",
       "Introduction to the Theory of Computing 2    False\n",
       "Name: semester, dtype: bool"
      ]
     },
     "execution_count": 37,
     "metadata": {},
     "output_type": "execute_result"
    }
   ],
   "source": [
    "grades.semester == 1"
   ]
  },
  {
   "cell_type": "markdown",
   "metadata": {},
   "source": [
    "which can be used for filtering rows:"
   ]
  },
  {
   "cell_type": "code",
   "execution_count": 38,
   "metadata": {},
   "outputs": [
    {
     "data": {
      "text/html": [
       "<div>\n",
       "<style scoped>\n",
       "    .dataframe tbody tr th:only-of-type {\n",
       "        vertical-align: middle;\n",
       "    }\n",
       "\n",
       "    .dataframe tbody tr th {\n",
       "        vertical-align: top;\n",
       "    }\n",
       "\n",
       "    .dataframe thead th {\n",
       "        text-align: right;\n",
       "    }\n",
       "</style>\n",
       "<table border=\"1\" class=\"dataframe\">\n",
       "  <thead>\n",
       "    <tr style=\"text-align: right;\">\n",
       "      <th></th>\n",
       "      <th>grade</th>\n",
       "      <th>teacher</th>\n",
       "      <th>semester</th>\n",
       "      <th>completion_date</th>\n",
       "    </tr>\n",
       "    <tr>\n",
       "      <th>subject</th>\n",
       "      <th></th>\n",
       "      <th></th>\n",
       "      <th></th>\n",
       "      <th></th>\n",
       "    </tr>\n",
       "  </thead>\n",
       "  <tbody>\n",
       "    <tr>\n",
       "      <th>Calculus 1</th>\n",
       "      <td>3</td>\n",
       "      <td>A. Smith</td>\n",
       "      <td>1</td>\n",
       "      <td>2017-12-18</td>\n",
       "    </tr>\n",
       "    <tr>\n",
       "      <th>Digital design 1</th>\n",
       "      <td>4</td>\n",
       "      <td>J. Doe</td>\n",
       "      <td>1</td>\n",
       "      <td>2018-01-05</td>\n",
       "    </tr>\n",
       "    <tr>\n",
       "      <th>Physics 1i</th>\n",
       "      <td>3</td>\n",
       "      <td>J. Smith</td>\n",
       "      <td>1</td>\n",
       "      <td>2018-01-21</td>\n",
       "    </tr>\n",
       "    <tr>\n",
       "      <th>Basics of Programming 1</th>\n",
       "      <td>5</td>\n",
       "      <td>T. Swift</td>\n",
       "      <td>1</td>\n",
       "      <td>2018-06-01</td>\n",
       "    </tr>\n",
       "    <tr>\n",
       "      <th>Introduction to the Theory of Computing 1</th>\n",
       "      <td>4</td>\n",
       "      <td>J. Bieber</td>\n",
       "      <td>1</td>\n",
       "      <td>2017-01-01</td>\n",
       "    </tr>\n",
       "  </tbody>\n",
       "</table>\n",
       "</div>"
      ],
      "text/plain": [
       "                                           grade    teacher  semester  \\\n",
       "subject                                                                 \n",
       "Calculus 1                                     3   A. Smith         1   \n",
       "Digital design 1                               4     J. Doe         1   \n",
       "Physics 1i                                     3   J. Smith         1   \n",
       "Basics of Programming 1                        5   T. Swift         1   \n",
       "Introduction to the Theory of Computing 1      4  J. Bieber         1   \n",
       "\n",
       "                                          completion_date  \n",
       "subject                                                    \n",
       "Calculus 1                                     2017-12-18  \n",
       "Digital design 1                               2018-01-05  \n",
       "Physics 1i                                     2018-01-21  \n",
       "Basics of Programming 1                        2018-06-01  \n",
       "Introduction to the Theory of Computing 1      2017-01-01  "
      ]
     },
     "execution_count": 38,
     "metadata": {},
     "output_type": "execute_result"
    }
   ],
   "source": [
    "grades[grades.semester == 1]"
   ]
  },
  {
   "cell_type": "markdown",
   "metadata": {},
   "source": [
    "We can also use multiple conditions. Note the parentheses:"
   ]
  },
  {
   "cell_type": "code",
   "execution_count": 39,
   "metadata": {},
   "outputs": [
    {
     "data": {
      "text/html": [
       "<div>\n",
       "<style scoped>\n",
       "    .dataframe tbody tr th:only-of-type {\n",
       "        vertical-align: middle;\n",
       "    }\n",
       "\n",
       "    .dataframe tbody tr th {\n",
       "        vertical-align: top;\n",
       "    }\n",
       "\n",
       "    .dataframe thead th {\n",
       "        text-align: right;\n",
       "    }\n",
       "</style>\n",
       "<table border=\"1\" class=\"dataframe\">\n",
       "  <thead>\n",
       "    <tr style=\"text-align: right;\">\n",
       "      <th></th>\n",
       "      <th>grade</th>\n",
       "      <th>teacher</th>\n",
       "      <th>semester</th>\n",
       "      <th>completion_date</th>\n",
       "    </tr>\n",
       "    <tr>\n",
       "      <th>subject</th>\n",
       "      <th></th>\n",
       "      <th></th>\n",
       "      <th></th>\n",
       "      <th></th>\n",
       "    </tr>\n",
       "  </thead>\n",
       "  <tbody>\n",
       "    <tr>\n",
       "      <th>Calculus 1</th>\n",
       "      <td>3</td>\n",
       "      <td>A. Smith</td>\n",
       "      <td>1</td>\n",
       "      <td>2017-12-18</td>\n",
       "    </tr>\n",
       "    <tr>\n",
       "      <th>Physics 1i</th>\n",
       "      <td>3</td>\n",
       "      <td>J. Smith</td>\n",
       "      <td>1</td>\n",
       "      <td>2018-01-21</td>\n",
       "    </tr>\n",
       "  </tbody>\n",
       "</table>\n",
       "</div>"
      ],
      "text/plain": [
       "            grade   teacher  semester completion_date\n",
       "subject                                              \n",
       "Calculus 1      3  A. Smith         1      2017-12-18\n",
       "Physics 1i      3  J. Smith         1      2018-01-21"
      ]
     },
     "execution_count": 39,
     "metadata": {},
     "output_type": "execute_result"
    }
   ],
   "source": [
    "grades[(grades.semester == 1) & (grades.teacher.str.contains('Smith'))]"
   ]
  },
  {
   "cell_type": "markdown",
   "metadata": {},
   "source": [
    "# Handling multiple dataframes, merge\n",
    "\n",
    "Let's define a second Dataframe with the credit values of some classes:"
   ]
  },
  {
   "cell_type": "code",
   "execution_count": 40,
   "metadata": {},
   "outputs": [
    {
     "data": {
      "text/html": [
       "<div>\n",
       "<style scoped>\n",
       "    .dataframe tbody tr th:only-of-type {\n",
       "        vertical-align: middle;\n",
       "    }\n",
       "\n",
       "    .dataframe tbody tr th {\n",
       "        vertical-align: top;\n",
       "    }\n",
       "\n",
       "    .dataframe thead th {\n",
       "        text-align: right;\n",
       "    }\n",
       "</style>\n",
       "<table border=\"1\" class=\"dataframe\">\n",
       "  <thead>\n",
       "    <tr style=\"text-align: right;\">\n",
       "      <th></th>\n",
       "      <th>subject</th>\n",
       "      <th>credit</th>\n",
       "    </tr>\n",
       "  </thead>\n",
       "  <tbody>\n",
       "    <tr>\n",
       "      <th>0</th>\n",
       "      <td>Calculus 1</td>\n",
       "      <td>7</td>\n",
       "    </tr>\n",
       "    <tr>\n",
       "      <th>1</th>\n",
       "      <td>Physics 1i</td>\n",
       "      <td>5</td>\n",
       "    </tr>\n",
       "    <tr>\n",
       "      <th>2</th>\n",
       "      <td>Physics 2i</td>\n",
       "      <td>5</td>\n",
       "    </tr>\n",
       "  </tbody>\n",
       "</table>\n",
       "</div>"
      ],
      "text/plain": [
       "      subject  credit\n",
       "0  Calculus 1       7\n",
       "1  Physics 1i       5\n",
       "2  Physics 2i       5"
      ]
     },
     "execution_count": 40,
     "metadata": {},
     "output_type": "execute_result"
    }
   ],
   "source": [
    "credits = pd.DataFrame(\n",
    "    {\n",
    "        'subject': ['Calculus 1', 'Physics 1i', 'Physics 2i'],\n",
    "        'credit': [7, 5, 5]\n",
    "    }\n",
    ")\n",
    "credits"
   ]
  },
  {
   "cell_type": "markdown",
   "metadata": {},
   "source": [
    "What are the credit values of the classes we have in the `grades` table?"
   ]
  },
  {
   "cell_type": "code",
   "execution_count": 41,
   "metadata": {},
   "outputs": [
    {
     "data": {
      "text/html": [
       "<div>\n",
       "<style scoped>\n",
       "    .dataframe tbody tr th:only-of-type {\n",
       "        vertical-align: middle;\n",
       "    }\n",
       "\n",
       "    .dataframe tbody tr th {\n",
       "        vertical-align: top;\n",
       "    }\n",
       "\n",
       "    .dataframe thead th {\n",
       "        text-align: right;\n",
       "    }\n",
       "</style>\n",
       "<table border=\"1\" class=\"dataframe\">\n",
       "  <thead>\n",
       "    <tr style=\"text-align: right;\">\n",
       "      <th></th>\n",
       "      <th>grade</th>\n",
       "      <th>teacher</th>\n",
       "      <th>semester</th>\n",
       "      <th>completion_date</th>\n",
       "      <th>subject</th>\n",
       "      <th>credit</th>\n",
       "    </tr>\n",
       "  </thead>\n",
       "  <tbody>\n",
       "    <tr>\n",
       "      <th>0.0</th>\n",
       "      <td>3.0</td>\n",
       "      <td>A. Smith</td>\n",
       "      <td>1.0</td>\n",
       "      <td>2017-12-18</td>\n",
       "      <td>Calculus 1</td>\n",
       "      <td>7.0</td>\n",
       "    </tr>\n",
       "    <tr>\n",
       "      <th>NaN</th>\n",
       "      <td>4.0</td>\n",
       "      <td>J. Doe</td>\n",
       "      <td>1.0</td>\n",
       "      <td>2018-01-05</td>\n",
       "      <td>Digital design 1</td>\n",
       "      <td>NaN</td>\n",
       "    </tr>\n",
       "    <tr>\n",
       "      <th>1.0</th>\n",
       "      <td>3.0</td>\n",
       "      <td>J. Smith</td>\n",
       "      <td>1.0</td>\n",
       "      <td>2018-01-21</td>\n",
       "      <td>Physics 1i</td>\n",
       "      <td>5.0</td>\n",
       "    </tr>\n",
       "    <tr>\n",
       "      <th>NaN</th>\n",
       "      <td>2.0</td>\n",
       "      <td>M. Jackson</td>\n",
       "      <td>2.0</td>\n",
       "      <td>2018-06-11</td>\n",
       "      <td>System modeling</td>\n",
       "      <td>NaN</td>\n",
       "    </tr>\n",
       "    <tr>\n",
       "      <th>NaN</th>\n",
       "      <td>5.0</td>\n",
       "      <td>T. Swift</td>\n",
       "      <td>1.0</td>\n",
       "      <td>2018-06-01</td>\n",
       "      <td>Basics of Programming 1</td>\n",
       "      <td>NaN</td>\n",
       "    </tr>\n",
       "    <tr>\n",
       "      <th>NaN</th>\n",
       "      <td>1.0</td>\n",
       "      <td>A. Grande</td>\n",
       "      <td>3.0</td>\n",
       "      <td>2018-12-17</td>\n",
       "      <td>System theory</td>\n",
       "      <td>NaN</td>\n",
       "    </tr>\n",
       "    <tr>\n",
       "      <th>NaN</th>\n",
       "      <td>4.0</td>\n",
       "      <td>J. Bieber</td>\n",
       "      <td>1.0</td>\n",
       "      <td>2017-01-01</td>\n",
       "      <td>Introduction to the Theory of Computing 1</td>\n",
       "      <td>NaN</td>\n",
       "    </tr>\n",
       "    <tr>\n",
       "      <th>NaN</th>\n",
       "      <td>1.0</td>\n",
       "      <td>C. Cox</td>\n",
       "      <td>2.0</td>\n",
       "      <td>2018-01-01</td>\n",
       "      <td>Introduction to the Theory of Computing 2</td>\n",
       "      <td>NaN</td>\n",
       "    </tr>\n",
       "    <tr>\n",
       "      <th>2.0</th>\n",
       "      <td>NaN</td>\n",
       "      <td>NaN</td>\n",
       "      <td>NaN</td>\n",
       "      <td>NaT</td>\n",
       "      <td>Physics 2i</td>\n",
       "      <td>5.0</td>\n",
       "    </tr>\n",
       "  </tbody>\n",
       "</table>\n",
       "</div>"
      ],
      "text/plain": [
       "     grade     teacher  semester completion_date  \\\n",
       "0.0    3.0    A. Smith       1.0      2017-12-18   \n",
       "NaN    4.0      J. Doe       1.0      2018-01-05   \n",
       "1.0    3.0    J. Smith       1.0      2018-01-21   \n",
       "NaN    2.0  M. Jackson       2.0      2018-06-11   \n",
       "NaN    5.0    T. Swift       1.0      2018-06-01   \n",
       "NaN    1.0   A. Grande       3.0      2018-12-17   \n",
       "NaN    4.0   J. Bieber       1.0      2017-01-01   \n",
       "NaN    1.0      C. Cox       2.0      2018-01-01   \n",
       "2.0    NaN         NaN       NaN             NaT   \n",
       "\n",
       "                                       subject  credit  \n",
       "0.0                                 Calculus 1     7.0  \n",
       "NaN                           Digital design 1     NaN  \n",
       "1.0                                 Physics 1i     5.0  \n",
       "NaN                            System modeling     NaN  \n",
       "NaN                    Basics of Programming 1     NaN  \n",
       "NaN                              System theory     NaN  \n",
       "NaN  Introduction to the Theory of Computing 1     NaN  \n",
       "NaN  Introduction to the Theory of Computing 2     NaN  \n",
       "2.0                                 Physics 2i     5.0  "
      ]
     },
     "execution_count": 41,
     "metadata": {},
     "output_type": "execute_result"
    }
   ],
   "source": [
    "d = grades.merge(credits, left_index=True, right_on='subject', how='outer')\n",
    "d"
   ]
  },
  {
   "cell_type": "markdown",
   "metadata": {},
   "source": [
    "## Merge\n",
    "\n",
    "Merge has two operands, a left and a right DataFrame.\n",
    "\n",
    "Parameters:\n",
    "1. `left_index`: merge on the index of the left Dataframe\n",
    "2. `right_on`: merge on one or more columns of the right Dataframe. This column is `credits` in this example.\n",
    "3. `how`: `inner/outer`. Exclude/include all rows even if the key of the merge is unmatched.\n",
    "\n",
    "We can merge on two types of columns, index and non-index. `left_index=True` and `right_index=True` means that we merge on the index. `left_on` and `right_on` means that we merge on a column."
   ]
  },
  {
   "cell_type": "code",
   "execution_count": 42,
   "metadata": {},
   "outputs": [
    {
     "data": {
      "text/html": [
       "<div>\n",
       "<style scoped>\n",
       "    .dataframe tbody tr th:only-of-type {\n",
       "        vertical-align: middle;\n",
       "    }\n",
       "\n",
       "    .dataframe tbody tr th {\n",
       "        vertical-align: top;\n",
       "    }\n",
       "\n",
       "    .dataframe thead th {\n",
       "        text-align: right;\n",
       "    }\n",
       "</style>\n",
       "<table border=\"1\" class=\"dataframe\">\n",
       "  <thead>\n",
       "    <tr style=\"text-align: right;\">\n",
       "      <th></th>\n",
       "      <th>grade</th>\n",
       "      <th>teacher</th>\n",
       "      <th>semester</th>\n",
       "      <th>completion_date</th>\n",
       "      <th>subject</th>\n",
       "      <th>credit</th>\n",
       "    </tr>\n",
       "  </thead>\n",
       "  <tbody>\n",
       "    <tr>\n",
       "      <th>0</th>\n",
       "      <td>3</td>\n",
       "      <td>A. Smith</td>\n",
       "      <td>1</td>\n",
       "      <td>2017-12-18</td>\n",
       "      <td>Calculus 1</td>\n",
       "      <td>7</td>\n",
       "    </tr>\n",
       "    <tr>\n",
       "      <th>1</th>\n",
       "      <td>3</td>\n",
       "      <td>J. Smith</td>\n",
       "      <td>1</td>\n",
       "      <td>2018-01-21</td>\n",
       "      <td>Physics 1i</td>\n",
       "      <td>5</td>\n",
       "    </tr>\n",
       "  </tbody>\n",
       "</table>\n",
       "</div>"
      ],
      "text/plain": [
       "   grade   teacher  semester completion_date     subject  credit\n",
       "0      3  A. Smith         1      2017-12-18  Calculus 1       7\n",
       "1      3  J. Smith         1      2018-01-21  Physics 1i       5"
      ]
     },
     "execution_count": 42,
     "metadata": {},
     "output_type": "execute_result"
    }
   ],
   "source": [
    "grades.merge(credits, left_index=True, right_on='subject', how='inner')"
   ]
  },
  {
   "cell_type": "markdown",
   "metadata": {},
   "source": [
    "We can discard rows with NaN values with `dropna`. Be careful. It discards all rows with any NaN.\n",
    "\n",
    "This has the same effect as an inner join:"
   ]
  },
  {
   "cell_type": "code",
   "execution_count": 43,
   "metadata": {},
   "outputs": [
    {
     "data": {
      "text/html": [
       "<div>\n",
       "<style scoped>\n",
       "    .dataframe tbody tr th:only-of-type {\n",
       "        vertical-align: middle;\n",
       "    }\n",
       "\n",
       "    .dataframe tbody tr th {\n",
       "        vertical-align: top;\n",
       "    }\n",
       "\n",
       "    .dataframe thead th {\n",
       "        text-align: right;\n",
       "    }\n",
       "</style>\n",
       "<table border=\"1\" class=\"dataframe\">\n",
       "  <thead>\n",
       "    <tr style=\"text-align: right;\">\n",
       "      <th></th>\n",
       "      <th>grade</th>\n",
       "      <th>teacher</th>\n",
       "      <th>semester</th>\n",
       "      <th>completion_date</th>\n",
       "      <th>subject</th>\n",
       "      <th>credit</th>\n",
       "    </tr>\n",
       "  </thead>\n",
       "  <tbody>\n",
       "    <tr>\n",
       "      <th>0.0</th>\n",
       "      <td>3.0</td>\n",
       "      <td>A. Smith</td>\n",
       "      <td>1.0</td>\n",
       "      <td>2017-12-18</td>\n",
       "      <td>Calculus 1</td>\n",
       "      <td>7.0</td>\n",
       "    </tr>\n",
       "    <tr>\n",
       "      <th>1.0</th>\n",
       "      <td>3.0</td>\n",
       "      <td>J. Smith</td>\n",
       "      <td>1.0</td>\n",
       "      <td>2018-01-21</td>\n",
       "      <td>Physics 1i</td>\n",
       "      <td>5.0</td>\n",
       "    </tr>\n",
       "  </tbody>\n",
       "</table>\n",
       "</div>"
      ],
      "text/plain": [
       "     grade   teacher  semester completion_date     subject  credit\n",
       "0.0    3.0  A. Smith       1.0      2017-12-18  Calculus 1     7.0\n",
       "1.0    3.0  J. Smith       1.0      2018-01-21  Physics 1i     5.0"
      ]
     },
     "execution_count": 43,
     "metadata": {},
     "output_type": "execute_result"
    }
   ],
   "source": [
    "d = d.dropna()\n",
    "d"
   ]
  },
  {
   "cell_type": "markdown",
   "metadata": {},
   "source": [
    "# Finding min/max rows\n",
    "\n",
    "`max` and `min` return the highest and lowest values for each column. The return value is a Series with the column names as indices and the maximum/minimum values as the Series values:"
   ]
  },
  {
   "cell_type": "code",
   "execution_count": 44,
   "metadata": {},
   "outputs": [
    {
     "name": "stdout",
     "output_type": "stream",
     "text": [
      "<class 'pandas.core.series.Series'>\n"
     ]
    },
    {
     "data": {
      "text/plain": [
       "grade                                5\n",
       "teacher                       T. Swift\n",
       "semester                             3\n",
       "completion_date    2018-12-17 00:00:00\n",
       "dtype: object"
      ]
     },
     "execution_count": 44,
     "metadata": {},
     "output_type": "execute_result"
    }
   ],
   "source": [
    "print(type(grades.max()))\n",
    "grades.max()"
   ]
  },
  {
   "cell_type": "markdown",
   "metadata": {},
   "source": [
    "The location of the maximum/minimum is often more interesting. `idxmax` and `idxmin` return where the maximum is:"
   ]
  },
  {
   "cell_type": "code",
   "execution_count": 45,
   "metadata": {},
   "outputs": [
    {
     "data": {
      "text/plain": [
       "grade       Basics of Programming 1\n",
       "semester              System theory\n",
       "dtype: object"
      ]
     },
     "execution_count": 45,
     "metadata": {},
     "output_type": "execute_result"
    }
   ],
   "source": [
    "# grades.idxmax()  # we get an error because of the string and the date column\n",
    "grades[['grade', 'semester']].idxmax()"
   ]
  },
  {
   "cell_type": "markdown",
   "metadata": {},
   "source": [
    "The return value(s) of `idxmax` can directly be used with `loc`:"
   ]
  },
  {
   "cell_type": "code",
   "execution_count": 46,
   "metadata": {},
   "outputs": [
    {
     "data": {
      "text/html": [
       "<div>\n",
       "<style scoped>\n",
       "    .dataframe tbody tr th:only-of-type {\n",
       "        vertical-align: middle;\n",
       "    }\n",
       "\n",
       "    .dataframe tbody tr th {\n",
       "        vertical-align: top;\n",
       "    }\n",
       "\n",
       "    .dataframe thead th {\n",
       "        text-align: right;\n",
       "    }\n",
       "</style>\n",
       "<table border=\"1\" class=\"dataframe\">\n",
       "  <thead>\n",
       "    <tr style=\"text-align: right;\">\n",
       "      <th></th>\n",
       "      <th>grade</th>\n",
       "      <th>teacher</th>\n",
       "      <th>semester</th>\n",
       "      <th>completion_date</th>\n",
       "    </tr>\n",
       "    <tr>\n",
       "      <th>subject</th>\n",
       "      <th></th>\n",
       "      <th></th>\n",
       "      <th></th>\n",
       "      <th></th>\n",
       "    </tr>\n",
       "  </thead>\n",
       "  <tbody>\n",
       "    <tr>\n",
       "      <th>Basics of Programming 1</th>\n",
       "      <td>5</td>\n",
       "      <td>T. Swift</td>\n",
       "      <td>1</td>\n",
       "      <td>2018-06-01</td>\n",
       "    </tr>\n",
       "    <tr>\n",
       "      <th>System theory</th>\n",
       "      <td>1</td>\n",
       "      <td>A. Grande</td>\n",
       "      <td>3</td>\n",
       "      <td>2018-12-17</td>\n",
       "    </tr>\n",
       "  </tbody>\n",
       "</table>\n",
       "</div>"
      ],
      "text/plain": [
       "                         grade    teacher  semester completion_date\n",
       "subject                                                            \n",
       "Basics of Programming 1      5   T. Swift         1      2018-06-01\n",
       "System theory                1  A. Grande         3      2018-12-17"
      ]
     },
     "execution_count": 46,
     "metadata": {},
     "output_type": "execute_result"
    }
   ],
   "source": [
    "grades.loc[grades[['grade', 'semester']].idxmax()]"
   ]
  },
  {
   "cell_type": "markdown",
   "metadata": {},
   "source": [
    "`idxmax` works similarly for Series but the return value is a single scalar, the index of the maximum:"
   ]
  },
  {
   "cell_type": "code",
   "execution_count": 47,
   "metadata": {},
   "outputs": [
    {
     "data": {
      "text/plain": [
       "'Basics of Programming 1'"
      ]
     },
     "execution_count": 47,
     "metadata": {},
     "output_type": "execute_result"
    }
   ],
   "source": [
    "grades.grade.idxmax()"
   ]
  },
  {
   "cell_type": "markdown",
   "metadata": {},
   "source": [
    "# `groupby`"
   ]
  },
  {
   "cell_type": "markdown",
   "metadata": {},
   "source": [
    "Groupby allows grouping the rows of the Dataframe along any column(s):"
   ]
  },
  {
   "cell_type": "code",
   "execution_count": 48,
   "metadata": {},
   "outputs": [],
   "source": [
    "g = credits.groupby('credit')"
   ]
  },
  {
   "cell_type": "code",
   "execution_count": 49,
   "metadata": {},
   "outputs": [
    {
     "data": {
      "text/plain": [
       "{5: [1, 2], 7: [0]}"
      ]
     },
     "execution_count": 49,
     "metadata": {},
     "output_type": "execute_result"
    }
   ],
   "source": [
    "g.groups"
   ]
  },
  {
   "cell_type": "markdown",
   "metadata": {},
   "source": [
    "Or on multiple columns:"
   ]
  },
  {
   "cell_type": "code",
   "execution_count": 50,
   "metadata": {},
   "outputs": [
    {
     "data": {
      "text/plain": [
       "{(1, 2): ['Introduction to the Theory of Computing 2'], (1, 3): ['System theory'], (2, 2): ['System modeling'], (3, 1): ['Calculus 1', 'Physics 1i'], (4, 1): ['Digital design 1', 'Introduction to the Theory of Computing 1'], (5, 1): ['Basics of Programming 1']}"
      ]
     },
     "execution_count": 50,
     "metadata": {},
     "output_type": "execute_result"
    }
   ],
   "source": [
    "grades.groupby(['grade', 'semester']).groups"
   ]
  },
  {
   "cell_type": "markdown",
   "metadata": {},
   "source": [
    "Or even on conditions:"
   ]
  },
  {
   "cell_type": "code",
   "execution_count": 51,
   "metadata": {},
   "outputs": [
    {
     "data": {
      "text/plain": [
       "{0: ['System modeling', 'Introduction to the Theory of Computing 2'], 1: ['Calculus 1', 'Digital design 1', 'Physics 1i', 'Basics of Programming 1', 'System theory', 'Introduction to the Theory of Computing 1']}"
      ]
     },
     "execution_count": 51,
     "metadata": {},
     "output_type": "execute_result"
    }
   ],
   "source": [
    "grades.groupby(grades['semester'] % 2).groups"
   ]
  },
  {
   "cell_type": "markdown",
   "metadata": {},
   "source": [
    "We can perform operations on the groups:"
   ]
  },
  {
   "cell_type": "code",
   "execution_count": 52,
   "metadata": {},
   "outputs": [
    {
     "data": {
      "text/html": [
       "<div>\n",
       "<style scoped>\n",
       "    .dataframe tbody tr th:only-of-type {\n",
       "        vertical-align: middle;\n",
       "    }\n",
       "\n",
       "    .dataframe tbody tr th {\n",
       "        vertical-align: top;\n",
       "    }\n",
       "\n",
       "    .dataframe thead th {\n",
       "        text-align: right;\n",
       "    }\n",
       "</style>\n",
       "<table border=\"1\" class=\"dataframe\">\n",
       "  <thead>\n",
       "    <tr style=\"text-align: right;\">\n",
       "      <th></th>\n",
       "      <th>grade</th>\n",
       "    </tr>\n",
       "    <tr>\n",
       "      <th>semester</th>\n",
       "      <th></th>\n",
       "    </tr>\n",
       "  </thead>\n",
       "  <tbody>\n",
       "    <tr>\n",
       "      <th>1</th>\n",
       "      <td>3.8</td>\n",
       "    </tr>\n",
       "    <tr>\n",
       "      <th>2</th>\n",
       "      <td>1.5</td>\n",
       "    </tr>\n",
       "    <tr>\n",
       "      <th>3</th>\n",
       "      <td>1.0</td>\n",
       "    </tr>\n",
       "  </tbody>\n",
       "</table>\n",
       "</div>"
      ],
      "text/plain": [
       "          grade\n",
       "semester       \n",
       "1           3.8\n",
       "2           1.5\n",
       "3           1.0"
      ]
     },
     "execution_count": 52,
     "metadata": {},
     "output_type": "execute_result"
    }
   ],
   "source": [
    "grades.groupby('semester').mean()"
   ]
  },
  {
   "cell_type": "code",
   "execution_count": 53,
   "metadata": {},
   "outputs": [
    {
     "data": {
      "text/html": [
       "<div>\n",
       "<style scoped>\n",
       "    .dataframe tbody tr th:only-of-type {\n",
       "        vertical-align: middle;\n",
       "    }\n",
       "\n",
       "    .dataframe tbody tr th {\n",
       "        vertical-align: top;\n",
       "    }\n",
       "\n",
       "    .dataframe thead th {\n",
       "        text-align: right;\n",
       "    }\n",
       "</style>\n",
       "<table border=\"1\" class=\"dataframe\">\n",
       "  <thead>\n",
       "    <tr style=\"text-align: right;\">\n",
       "      <th></th>\n",
       "      <th>grade</th>\n",
       "    </tr>\n",
       "    <tr>\n",
       "      <th>semester</th>\n",
       "      <th></th>\n",
       "    </tr>\n",
       "  </thead>\n",
       "  <tbody>\n",
       "    <tr>\n",
       "      <th>1</th>\n",
       "      <td>0.836660</td>\n",
       "    </tr>\n",
       "    <tr>\n",
       "      <th>2</th>\n",
       "      <td>0.707107</td>\n",
       "    </tr>\n",
       "    <tr>\n",
       "      <th>3</th>\n",
       "      <td>NaN</td>\n",
       "    </tr>\n",
       "  </tbody>\n",
       "</table>\n",
       "</div>"
      ],
      "text/plain": [
       "             grade\n",
       "semester          \n",
       "1         0.836660\n",
       "2         0.707107\n",
       "3              NaN"
      ]
     },
     "execution_count": 53,
     "metadata": {},
     "output_type": "execute_result"
    }
   ],
   "source": [
    "grades.groupby('semester').std()"
   ]
  },
  {
   "cell_type": "markdown",
   "metadata": {},
   "source": [
    "`size` returns the number of elements in each group:"
   ]
  },
  {
   "cell_type": "code",
   "execution_count": 54,
   "metadata": {},
   "outputs": [
    {
     "data": {
      "text/plain": [
       "semester\n",
       "1    5\n",
       "2    2\n",
       "3    1\n",
       "dtype: int64"
      ]
     },
     "execution_count": 54,
     "metadata": {},
     "output_type": "execute_result"
    }
   ],
   "source": [
    "grades.groupby('semester').size()"
   ]
  },
  {
   "cell_type": "markdown",
   "metadata": {},
   "source": [
    "# Sorting\n",
    "\n",
    "\n",
    "We can sort Dataframes by their index:"
   ]
  },
  {
   "cell_type": "code",
   "execution_count": 55,
   "metadata": {},
   "outputs": [
    {
     "data": {
      "text/html": [
       "<div>\n",
       "<style scoped>\n",
       "    .dataframe tbody tr th:only-of-type {\n",
       "        vertical-align: middle;\n",
       "    }\n",
       "\n",
       "    .dataframe tbody tr th {\n",
       "        vertical-align: top;\n",
       "    }\n",
       "\n",
       "    .dataframe thead th {\n",
       "        text-align: right;\n",
       "    }\n",
       "</style>\n",
       "<table border=\"1\" class=\"dataframe\">\n",
       "  <thead>\n",
       "    <tr style=\"text-align: right;\">\n",
       "      <th></th>\n",
       "      <th>grade</th>\n",
       "      <th>teacher</th>\n",
       "      <th>semester</th>\n",
       "      <th>completion_date</th>\n",
       "    </tr>\n",
       "    <tr>\n",
       "      <th>subject</th>\n",
       "      <th></th>\n",
       "      <th></th>\n",
       "      <th></th>\n",
       "      <th></th>\n",
       "    </tr>\n",
       "  </thead>\n",
       "  <tbody>\n",
       "    <tr>\n",
       "      <th>Basics of Programming 1</th>\n",
       "      <td>5</td>\n",
       "      <td>T. Swift</td>\n",
       "      <td>1</td>\n",
       "      <td>2018-06-01</td>\n",
       "    </tr>\n",
       "    <tr>\n",
       "      <th>Calculus 1</th>\n",
       "      <td>3</td>\n",
       "      <td>A. Smith</td>\n",
       "      <td>1</td>\n",
       "      <td>2017-12-18</td>\n",
       "    </tr>\n",
       "    <tr>\n",
       "      <th>Digital design 1</th>\n",
       "      <td>4</td>\n",
       "      <td>J. Doe</td>\n",
       "      <td>1</td>\n",
       "      <td>2018-01-05</td>\n",
       "    </tr>\n",
       "    <tr>\n",
       "      <th>Introduction to the Theory of Computing 1</th>\n",
       "      <td>4</td>\n",
       "      <td>J. Bieber</td>\n",
       "      <td>1</td>\n",
       "      <td>2017-01-01</td>\n",
       "    </tr>\n",
       "    <tr>\n",
       "      <th>Introduction to the Theory of Computing 2</th>\n",
       "      <td>1</td>\n",
       "      <td>C. Cox</td>\n",
       "      <td>2</td>\n",
       "      <td>2018-01-01</td>\n",
       "    </tr>\n",
       "    <tr>\n",
       "      <th>Physics 1i</th>\n",
       "      <td>3</td>\n",
       "      <td>J. Smith</td>\n",
       "      <td>1</td>\n",
       "      <td>2018-01-21</td>\n",
       "    </tr>\n",
       "    <tr>\n",
       "      <th>System modeling</th>\n",
       "      <td>2</td>\n",
       "      <td>M. Jackson</td>\n",
       "      <td>2</td>\n",
       "      <td>2018-06-11</td>\n",
       "    </tr>\n",
       "    <tr>\n",
       "      <th>System theory</th>\n",
       "      <td>1</td>\n",
       "      <td>A. Grande</td>\n",
       "      <td>3</td>\n",
       "      <td>2018-12-17</td>\n",
       "    </tr>\n",
       "  </tbody>\n",
       "</table>\n",
       "</div>"
      ],
      "text/plain": [
       "                                           grade     teacher  semester  \\\n",
       "subject                                                                  \n",
       "Basics of Programming 1                        5    T. Swift         1   \n",
       "Calculus 1                                     3    A. Smith         1   \n",
       "Digital design 1                               4      J. Doe         1   \n",
       "Introduction to the Theory of Computing 1      4   J. Bieber         1   \n",
       "Introduction to the Theory of Computing 2      1      C. Cox         2   \n",
       "Physics 1i                                     3    J. Smith         1   \n",
       "System modeling                                2  M. Jackson         2   \n",
       "System theory                                  1   A. Grande         3   \n",
       "\n",
       "                                          completion_date  \n",
       "subject                                                    \n",
       "Basics of Programming 1                        2018-06-01  \n",
       "Calculus 1                                     2017-12-18  \n",
       "Digital design 1                               2018-01-05  \n",
       "Introduction to the Theory of Computing 1      2017-01-01  \n",
       "Introduction to the Theory of Computing 2      2018-01-01  \n",
       "Physics 1i                                     2018-01-21  \n",
       "System modeling                                2018-06-11  \n",
       "System theory                                  2018-12-17  "
      ]
     },
     "execution_count": 55,
     "metadata": {},
     "output_type": "execute_result"
    }
   ],
   "source": [
    "grades.sort_index()"
   ]
  },
  {
   "cell_type": "markdown",
   "metadata": {},
   "source": [
    "Or by one or more columns:"
   ]
  },
  {
   "cell_type": "code",
   "execution_count": 56,
   "metadata": {},
   "outputs": [
    {
     "data": {
      "text/html": [
       "<div>\n",
       "<style scoped>\n",
       "    .dataframe tbody tr th:only-of-type {\n",
       "        vertical-align: middle;\n",
       "    }\n",
       "\n",
       "    .dataframe tbody tr th {\n",
       "        vertical-align: top;\n",
       "    }\n",
       "\n",
       "    .dataframe thead th {\n",
       "        text-align: right;\n",
       "    }\n",
       "</style>\n",
       "<table border=\"1\" class=\"dataframe\">\n",
       "  <thead>\n",
       "    <tr style=\"text-align: right;\">\n",
       "      <th></th>\n",
       "      <th>grade</th>\n",
       "      <th>teacher</th>\n",
       "      <th>semester</th>\n",
       "      <th>completion_date</th>\n",
       "    </tr>\n",
       "    <tr>\n",
       "      <th>subject</th>\n",
       "      <th></th>\n",
       "      <th></th>\n",
       "      <th></th>\n",
       "      <th></th>\n",
       "    </tr>\n",
       "  </thead>\n",
       "  <tbody>\n",
       "    <tr>\n",
       "      <th>Introduction to the Theory of Computing 2</th>\n",
       "      <td>1</td>\n",
       "      <td>C. Cox</td>\n",
       "      <td>2</td>\n",
       "      <td>2018-01-01</td>\n",
       "    </tr>\n",
       "    <tr>\n",
       "      <th>System theory</th>\n",
       "      <td>1</td>\n",
       "      <td>A. Grande</td>\n",
       "      <td>3</td>\n",
       "      <td>2018-12-17</td>\n",
       "    </tr>\n",
       "    <tr>\n",
       "      <th>System modeling</th>\n",
       "      <td>2</td>\n",
       "      <td>M. Jackson</td>\n",
       "      <td>2</td>\n",
       "      <td>2018-06-11</td>\n",
       "    </tr>\n",
       "    <tr>\n",
       "      <th>Calculus 1</th>\n",
       "      <td>3</td>\n",
       "      <td>A. Smith</td>\n",
       "      <td>1</td>\n",
       "      <td>2017-12-18</td>\n",
       "    </tr>\n",
       "    <tr>\n",
       "      <th>Physics 1i</th>\n",
       "      <td>3</td>\n",
       "      <td>J. Smith</td>\n",
       "      <td>1</td>\n",
       "      <td>2018-01-21</td>\n",
       "    </tr>\n",
       "    <tr>\n",
       "      <th>Digital design 1</th>\n",
       "      <td>4</td>\n",
       "      <td>J. Doe</td>\n",
       "      <td>1</td>\n",
       "      <td>2018-01-05</td>\n",
       "    </tr>\n",
       "    <tr>\n",
       "      <th>Introduction to the Theory of Computing 1</th>\n",
       "      <td>4</td>\n",
       "      <td>J. Bieber</td>\n",
       "      <td>1</td>\n",
       "      <td>2017-01-01</td>\n",
       "    </tr>\n",
       "    <tr>\n",
       "      <th>Basics of Programming 1</th>\n",
       "      <td>5</td>\n",
       "      <td>T. Swift</td>\n",
       "      <td>1</td>\n",
       "      <td>2018-06-01</td>\n",
       "    </tr>\n",
       "  </tbody>\n",
       "</table>\n",
       "</div>"
      ],
      "text/plain": [
       "                                           grade     teacher  semester  \\\n",
       "subject                                                                  \n",
       "Introduction to the Theory of Computing 2      1      C. Cox         2   \n",
       "System theory                                  1   A. Grande         3   \n",
       "System modeling                                2  M. Jackson         2   \n",
       "Calculus 1                                     3    A. Smith         1   \n",
       "Physics 1i                                     3    J. Smith         1   \n",
       "Digital design 1                               4      J. Doe         1   \n",
       "Introduction to the Theory of Computing 1      4   J. Bieber         1   \n",
       "Basics of Programming 1                        5    T. Swift         1   \n",
       "\n",
       "                                          completion_date  \n",
       "subject                                                    \n",
       "Introduction to the Theory of Computing 2      2018-01-01  \n",
       "System theory                                  2018-12-17  \n",
       "System modeling                                2018-06-11  \n",
       "Calculus 1                                     2017-12-18  \n",
       "Physics 1i                                     2018-01-21  \n",
       "Digital design 1                               2018-01-05  \n",
       "Introduction to the Theory of Computing 1      2017-01-01  \n",
       "Basics of Programming 1                        2018-06-01  "
      ]
     },
     "execution_count": 56,
     "metadata": {},
     "output_type": "execute_result"
    }
   ],
   "source": [
    "grades.sort_values(['grade', 'semester'])"
   ]
  },
  {
   "cell_type": "markdown",
   "metadata": {},
   "source": [
    "In ascending order:"
   ]
  },
  {
   "cell_type": "code",
   "execution_count": 57,
   "metadata": {},
   "outputs": [
    {
     "data": {
      "text/html": [
       "<div>\n",
       "<style scoped>\n",
       "    .dataframe tbody tr th:only-of-type {\n",
       "        vertical-align: middle;\n",
       "    }\n",
       "\n",
       "    .dataframe tbody tr th {\n",
       "        vertical-align: top;\n",
       "    }\n",
       "\n",
       "    .dataframe thead th {\n",
       "        text-align: right;\n",
       "    }\n",
       "</style>\n",
       "<table border=\"1\" class=\"dataframe\">\n",
       "  <thead>\n",
       "    <tr style=\"text-align: right;\">\n",
       "      <th></th>\n",
       "      <th>grade</th>\n",
       "      <th>teacher</th>\n",
       "      <th>semester</th>\n",
       "      <th>completion_date</th>\n",
       "    </tr>\n",
       "    <tr>\n",
       "      <th>subject</th>\n",
       "      <th></th>\n",
       "      <th></th>\n",
       "      <th></th>\n",
       "      <th></th>\n",
       "    </tr>\n",
       "  </thead>\n",
       "  <tbody>\n",
       "    <tr>\n",
       "      <th>System theory</th>\n",
       "      <td>1</td>\n",
       "      <td>A. Grande</td>\n",
       "      <td>3</td>\n",
       "      <td>2018-12-17</td>\n",
       "    </tr>\n",
       "    <tr>\n",
       "      <th>System modeling</th>\n",
       "      <td>2</td>\n",
       "      <td>M. Jackson</td>\n",
       "      <td>2</td>\n",
       "      <td>2018-06-11</td>\n",
       "    </tr>\n",
       "    <tr>\n",
       "      <th>Physics 1i</th>\n",
       "      <td>3</td>\n",
       "      <td>J. Smith</td>\n",
       "      <td>1</td>\n",
       "      <td>2018-01-21</td>\n",
       "    </tr>\n",
       "    <tr>\n",
       "      <th>Introduction to the Theory of Computing 2</th>\n",
       "      <td>1</td>\n",
       "      <td>C. Cox</td>\n",
       "      <td>2</td>\n",
       "      <td>2018-01-01</td>\n",
       "    </tr>\n",
       "    <tr>\n",
       "      <th>Introduction to the Theory of Computing 1</th>\n",
       "      <td>4</td>\n",
       "      <td>J. Bieber</td>\n",
       "      <td>1</td>\n",
       "      <td>2017-01-01</td>\n",
       "    </tr>\n",
       "    <tr>\n",
       "      <th>Digital design 1</th>\n",
       "      <td>4</td>\n",
       "      <td>J. Doe</td>\n",
       "      <td>1</td>\n",
       "      <td>2018-01-05</td>\n",
       "    </tr>\n",
       "    <tr>\n",
       "      <th>Calculus 1</th>\n",
       "      <td>3</td>\n",
       "      <td>A. Smith</td>\n",
       "      <td>1</td>\n",
       "      <td>2017-12-18</td>\n",
       "    </tr>\n",
       "    <tr>\n",
       "      <th>Basics of Programming 1</th>\n",
       "      <td>5</td>\n",
       "      <td>T. Swift</td>\n",
       "      <td>1</td>\n",
       "      <td>2018-06-01</td>\n",
       "    </tr>\n",
       "  </tbody>\n",
       "</table>\n",
       "</div>"
      ],
      "text/plain": [
       "                                           grade     teacher  semester  \\\n",
       "subject                                                                  \n",
       "System theory                                  1   A. Grande         3   \n",
       "System modeling                                2  M. Jackson         2   \n",
       "Physics 1i                                     3    J. Smith         1   \n",
       "Introduction to the Theory of Computing 2      1      C. Cox         2   \n",
       "Introduction to the Theory of Computing 1      4   J. Bieber         1   \n",
       "Digital design 1                               4      J. Doe         1   \n",
       "Calculus 1                                     3    A. Smith         1   \n",
       "Basics of Programming 1                        5    T. Swift         1   \n",
       "\n",
       "                                          completion_date  \n",
       "subject                                                    \n",
       "System theory                                  2018-12-17  \n",
       "System modeling                                2018-06-11  \n",
       "Physics 1i                                     2018-01-21  \n",
       "Introduction to the Theory of Computing 2      2018-01-01  \n",
       "Introduction to the Theory of Computing 1      2017-01-01  \n",
       "Digital design 1                               2018-01-05  \n",
       "Calculus 1                                     2017-12-18  \n",
       "Basics of Programming 1                        2018-06-01  "
      ]
     },
     "execution_count": 57,
     "metadata": {},
     "output_type": "execute_result"
    }
   ],
   "source": [
    "grades.sort_index(ascending=False)"
   ]
  },
  {
   "cell_type": "markdown",
   "metadata": {},
   "source": [
    "# Visualization\n",
    "\n",
    "Pandas is integrated with matplotlib, the main plotting module of Python."
   ]
  },
  {
   "cell_type": "code",
   "execution_count": 58,
   "metadata": {},
   "outputs": [
    {
     "name": "stderr",
     "output_type": "stream",
     "text": [
      "/home/judit/miniconda3/lib/python3.7/site-packages/pandas/plotting/_matplotlib/core.py:1235: UserWarning: FixedFormatter should only be used together with FixedLocator\n",
      "  ax.set_xticklabels(xticklabels)\n"
     ]
    },
    {
     "data": {
      "text/plain": [
       "<AxesSubplot:xlabel='subject'>"
      ]
     },
     "execution_count": 58,
     "metadata": {},
     "output_type": "execute_result"
    },
    {
     "data": {
      "image/png": "[encoded data removed]",
      "text/plain": [
       "<Figure size 1080x216 with 1 Axes>"
      ]
     },
     "metadata": {},
     "output_type": "display_data"
    }
   ],
   "source": [
    "grades.plot(y='grade')"
   ]
  },
  {
   "cell_type": "markdown",
   "metadata": {},
   "source": [
    "Or as a bar chart:"
   ]
  },
  {
   "cell_type": "code",
   "execution_count": 59,
   "metadata": {},
   "outputs": [
    {
     "data": {
      "text/plain": [
       "<AxesSubplot:xlabel='subject'>"
      ]
     },
     "execution_count": 59,
     "metadata": {},
     "output_type": "execute_result"
    },
    {
     "data": {
      "image/png": "[encoded data removed]",
      "text/plain": [
       "<Figure size 1080x216 with 1 Axes>"
      ]
     },
     "metadata": {},
     "output_type": "display_data"
    }
   ],
   "source": [
    "grades.plot(y='grade', kind='bar')"
   ]
  },
  {
   "cell_type": "markdown",
   "metadata": {},
   "source": [
    "We can also specify both axes:"
   ]
  },
  {
   "cell_type": "code",
   "execution_count": 60,
   "metadata": {},
   "outputs": [
    {
     "data": {
      "text/plain": [
       "<AxesSubplot:xlabel='semester', ylabel='grade'>"
      ]
     },
     "execution_count": 60,
     "metadata": {},
     "output_type": "execute_result"
    },
    {
     "data": {
      "image/png": "[encoded data removed]",
      "text/plain": [
       "<Figure size 1080x216 with 1 Axes>"
      ]
     },
     "metadata": {},
     "output_type": "display_data"
    }
   ],
   "source": [
    "grades.plot(x='semester', y='grade', kind='scatter')"
   ]
  },
  {
   "cell_type": "markdown",
   "metadata": {},
   "source": [
    "# GOTCHAs\n",
    "\n",
    "Note that some operations work in a suprising way.\n",
    "\n",
    "1. Every pandas operation returns a new Dataframe unless it's explicitly in place.\n",
    "2. Jupyter outputs the return value of the last line unless it's None. This is not the same as printing."
   ]
  }
 ],
 "metadata": {
  "kernelspec": {
   "display_name": "Python 3",
   "language": "python",
   "name": "python3"
  },
  "language_info": {
   "codemirror_mode": {
    "name": "ipython",
    "version": 3
   },
   "file_extension": ".py",
   "mimetype": "text/x-python",
   "name": "python",
   "nbconvert_exporter": "python",
   "pygments_lexer": "ipython3",
   "version": "3.7.9"
  },
  "toc": {
   "base_numbering": 1,
   "nav_menu": {},
   "number_sections": true,
   "sideBar": true,
   "skip_h1_title": false,
   "title_cell": "Table of Contents",
   "title_sidebar": "Contents",
   "toc_cell": false,
   "toc_position": {},
   "toc_section_display": true,
   "toc_window_display": true
  }
 },
 "nbformat": 4,
 "nbformat_minor": 1
}
