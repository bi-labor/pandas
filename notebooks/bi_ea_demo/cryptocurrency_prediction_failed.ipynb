{
 "cells": [
  {
   "cell_type": "markdown",
   "metadata": {},
   "source": [
    "# Cryptocurrency prediction - DEMO\n",
    "\n",
    "This is a simple demo for cryptocurrency prediction based on daily data. It does not work, so don't blame me if you lose your money.\n",
    "\n",
    "Created by [Judit Acs](https://github.com/juditacs)\n",
    "\n",
    "[Data source on kaggle.com](https://www.kaggle.com/sudalairajkumar/cryptocurrencypricehistory)"
   ]
  },
  {
   "cell_type": "code",
   "execution_count": 1,
   "metadata": {},
   "outputs": [
    {
     "name": "stderr",
     "output_type": "stream",
     "text": [
      "Using TensorFlow backend.\n"
     ]
    }
   ],
   "source": [
    "import os\n",
    "import pandas as pd\n",
    "import matplotlib.pyplot as plt\n",
    "%matplotlib inline\n",
    "\n",
    "from keras.layers import Input, Dense, Bidirectional, Dropout\n",
    "from keras.layers.recurrent import LSTM\n",
    "from keras.models import Model\n",
    "from keras.callbacks import EarlyStopping\n",
    "\n",
    "import numpy as np"
   ]
  },
  {
   "cell_type": "code",
   "execution_count": 2,
   "metadata": {},
   "outputs": [
    {
     "data": {
      "text/plain": [
       "['bitcoin_cash_price.csv',\n",
       " 'bitcoin_dataset.csv',\n",
       " 'bitcoin_price.csv',\n",
       " 'bitconnect_price.csv',\n",
       " 'dash_price.csv',\n",
       " 'ethereum_classic_price.csv',\n",
       " 'ethereum_dataset.csv',\n",
       " 'ethereum_price.csv',\n",
       " 'iota_price.csv',\n",
       " 'litecoin_price.csv',\n",
       " 'monero_price.csv',\n",
       " 'nem_price.csv',\n",
       " 'neo_price.csv',\n",
       " 'numeraire_price.csv',\n",
       " 'omisego_price.csv',\n",
       " 'qtum_price.csv',\n",
       " 'ripple_price.csv',\n",
       " 'stratis_price.csv',\n",
       " 'waves_price.csv']"
      ]
     },
     "execution_count": 2,
     "metadata": {},
     "output_type": "execute_result"
    }
   ],
   "source": [
    "os.listdir(\"data/cryptocurrency/\")"
   ]
  },
  {
   "cell_type": "markdown",
   "metadata": {},
   "source": [
    "# Load data\n",
    "\n",
    "We load each currency into a separate dataframe and store the dataframes in a dictionary."
   ]
  },
  {
   "cell_type": "code",
   "execution_count": 3,
   "metadata": {
    "collapsed": true
   },
   "outputs": [],
   "source": [
    "coin_dataframes = {}\n",
    "\n",
    "def convert_comma_int(field):\n",
    "    try:\n",
    "        return int(field.replace(',', ''))\n",
    "    except ValueError:\n",
    "        return None\n",
    "    \n",
    "for fn in os.listdir(\"data/cryptocurrency/\"):\n",
    "    if \"bitcoin_cache\" in fn:\n",
    "        continue\n",
    "    if fn.endswith(\"_price.csv\"):\n",
    "        coin_name = fn.split(\"_\")[0]\n",
    "        df = pd.read_csv(os.path.join(\"data\", \"cryptocurrency\", fn), parse_dates=[\"Date\"])\n",
    "        df['Market Cap'] = df['Market Cap'].map(convert_comma_int)\n",
    "        coin_dataframes[coin_name] = df.sort_values('Date')"
   ]
  },
  {
   "cell_type": "code",
   "execution_count": 4,
   "metadata": {},
   "outputs": [
    {
     "data": {
      "text/plain": [
       "dict_keys(['bitcoin', 'bitconnect', 'dash', 'ethereum', 'iota', 'litecoin', 'monero', 'nem', 'neo', 'numeraire', 'omisego', 'qtum', 'ripple', 'stratis', 'waves'])"
      ]
     },
     "execution_count": 4,
     "metadata": {},
     "output_type": "execute_result"
    }
   ],
   "source": [
    "coin_dataframes.keys()"
   ]
  },
  {
   "cell_type": "markdown",
   "metadata": {},
   "source": [
    "Each dataframe looks like this:"
   ]
  },
  {
   "cell_type": "code",
   "execution_count": 5,
   "metadata": {},
   "outputs": [
    {
     "data": {
      "text/html": [
       "<div>\n",
       "<style>\n",
       "    .dataframe thead tr:only-child th {\n",
       "        text-align: right;\n",
       "    }\n",
       "\n",
       "    .dataframe thead th {\n",
       "        text-align: left;\n",
       "    }\n",
       "\n",
       "    .dataframe tbody tr th {\n",
       "        vertical-align: top;\n",
       "    }\n",
       "</style>\n",
       "<table border=\"1\" class=\"dataframe\">\n",
       "  <thead>\n",
       "    <tr style=\"text-align: right;\">\n",
       "      <th></th>\n",
       "      <th>Date</th>\n",
       "      <th>Open</th>\n",
       "      <th>High</th>\n",
       "      <th>Low</th>\n",
       "      <th>Close</th>\n",
       "      <th>Volume</th>\n",
       "      <th>Market Cap</th>\n",
       "    </tr>\n",
       "  </thead>\n",
       "  <tbody>\n",
       "    <tr>\n",
       "      <th>916</th>\n",
       "      <td>2015-04-01</td>\n",
       "      <td>0.000400</td>\n",
       "      <td>0.000458</td>\n",
       "      <td>0.000170</td>\n",
       "      <td>0.000242</td>\n",
       "      <td>65,525</td>\n",
       "      <td>3604110</td>\n",
       "    </tr>\n",
       "    <tr>\n",
       "      <th>915</th>\n",
       "      <td>2015-04-02</td>\n",
       "      <td>0.000242</td>\n",
       "      <td>0.000323</td>\n",
       "      <td>0.000227</td>\n",
       "      <td>0.000314</td>\n",
       "      <td>28,549</td>\n",
       "      <td>2179320</td>\n",
       "    </tr>\n",
       "    <tr>\n",
       "      <th>914</th>\n",
       "      <td>2015-04-03</td>\n",
       "      <td>0.000309</td>\n",
       "      <td>0.000330</td>\n",
       "      <td>0.000291</td>\n",
       "      <td>0.000310</td>\n",
       "      <td>20,678</td>\n",
       "      <td>2778750</td>\n",
       "    </tr>\n",
       "    <tr>\n",
       "      <th>913</th>\n",
       "      <td>2015-04-04</td>\n",
       "      <td>0.000310</td>\n",
       "      <td>0.000318</td>\n",
       "      <td>0.000251</td>\n",
       "      <td>0.000277</td>\n",
       "      <td>23,550</td>\n",
       "      <td>2792120</td>\n",
       "    </tr>\n",
       "    <tr>\n",
       "      <th>912</th>\n",
       "      <td>2015-04-05</td>\n",
       "      <td>0.000272</td>\n",
       "      <td>0.000283</td>\n",
       "      <td>0.000218</td>\n",
       "      <td>0.000232</td>\n",
       "      <td>26,800</td>\n",
       "      <td>2443720</td>\n",
       "    </tr>\n",
       "  </tbody>\n",
       "</table>\n",
       "</div>"
      ],
      "text/plain": [
       "          Date      Open      High       Low     Close  Volume  Market Cap\n",
       "916 2015-04-01  0.000400  0.000458  0.000170  0.000242  65,525     3604110\n",
       "915 2015-04-02  0.000242  0.000323  0.000227  0.000314  28,549     2179320\n",
       "914 2015-04-03  0.000309  0.000330  0.000291  0.000310  20,678     2778750\n",
       "913 2015-04-04  0.000310  0.000318  0.000251  0.000277  23,550     2792120\n",
       "912 2015-04-05  0.000272  0.000283  0.000218  0.000232  26,800     2443720"
      ]
     },
     "execution_count": 5,
     "metadata": {},
     "output_type": "execute_result"
    }
   ],
   "source": [
    "coin_dataframes['nem'].head()"
   ]
  },
  {
   "cell_type": "markdown",
   "metadata": {},
   "source": [
    "## Bitcoin value growth\n",
    "\n",
    "Just for fun."
   ]
  },
  {
   "cell_type": "code",
   "execution_count": 6,
   "metadata": {},
   "outputs": [
    {
     "data": {
      "text/plain": [
       "<matplotlib.axes._subplots.AxesSubplot at 0x7f73fab9f320>"
      ]
     },
     "execution_count": 6,
     "metadata": {},
     "output_type": "execute_result"
    },
    {
     "data": {
      "image/png": "[encoded data removed]",
      "text/plain": [
       "<matplotlib.figure.Figure at 0x7f73fab8a9e8>"
      ]
     },
     "metadata": {},
     "output_type": "display_data"
    }
   ],
   "source": [
    "coin_dataframes['bitcoin'].plot(x='Date', y='Close')"
   ]
  },
  {
   "cell_type": "markdown",
   "metadata": {},
   "source": [
    "# Compute relative growth and other relative values\n",
    "\n",
    "We add these values as new columns to the dataframes:"
   ]
  },
  {
   "cell_type": "code",
   "execution_count": 7,
   "metadata": {},
   "outputs": [
    {
     "data": {
      "text/html": [
       "<div>\n",
       "<style>\n",
       "    .dataframe thead tr:only-child th {\n",
       "        text-align: right;\n",
       "    }\n",
       "\n",
       "    .dataframe thead th {\n",
       "        text-align: left;\n",
       "    }\n",
       "\n",
       "    .dataframe tbody tr th {\n",
       "        vertical-align: top;\n",
       "    }\n",
       "</style>\n",
       "<table border=\"1\" class=\"dataframe\">\n",
       "  <thead>\n",
       "    <tr style=\"text-align: right;\">\n",
       "      <th></th>\n",
       "      <th>Date</th>\n",
       "      <th>Open</th>\n",
       "      <th>High</th>\n",
       "      <th>Low</th>\n",
       "      <th>Close</th>\n",
       "      <th>Volume</th>\n",
       "      <th>Market Cap</th>\n",
       "      <th>rel_close</th>\n",
       "      <th>high_low_ratio</th>\n",
       "      <th>rel_high</th>\n",
       "      <th>rel_low</th>\n",
       "    </tr>\n",
       "  </thead>\n",
       "  <tbody>\n",
       "    <tr>\n",
       "      <th>916</th>\n",
       "      <td>2015-04-01</td>\n",
       "      <td>0.000400</td>\n",
       "      <td>0.000458</td>\n",
       "      <td>0.000170</td>\n",
       "      <td>0.000242</td>\n",
       "      <td>65,525</td>\n",
       "      <td>3604110</td>\n",
       "      <td>-0.395000</td>\n",
       "      <td>2.694118</td>\n",
       "      <td>1.892562</td>\n",
       "      <td>0.702479</td>\n",
       "    </tr>\n",
       "    <tr>\n",
       "      <th>915</th>\n",
       "      <td>2015-04-02</td>\n",
       "      <td>0.000242</td>\n",
       "      <td>0.000323</td>\n",
       "      <td>0.000227</td>\n",
       "      <td>0.000314</td>\n",
       "      <td>28,549</td>\n",
       "      <td>2179320</td>\n",
       "      <td>0.297521</td>\n",
       "      <td>1.422907</td>\n",
       "      <td>1.028662</td>\n",
       "      <td>0.722930</td>\n",
       "    </tr>\n",
       "    <tr>\n",
       "      <th>914</th>\n",
       "      <td>2015-04-03</td>\n",
       "      <td>0.000309</td>\n",
       "      <td>0.000330</td>\n",
       "      <td>0.000291</td>\n",
       "      <td>0.000310</td>\n",
       "      <td>20,678</td>\n",
       "      <td>2778750</td>\n",
       "      <td>0.003236</td>\n",
       "      <td>1.134021</td>\n",
       "      <td>1.064516</td>\n",
       "      <td>0.938710</td>\n",
       "    </tr>\n",
       "    <tr>\n",
       "      <th>913</th>\n",
       "      <td>2015-04-04</td>\n",
       "      <td>0.000310</td>\n",
       "      <td>0.000318</td>\n",
       "      <td>0.000251</td>\n",
       "      <td>0.000277</td>\n",
       "      <td>23,550</td>\n",
       "      <td>2792120</td>\n",
       "      <td>-0.106452</td>\n",
       "      <td>1.266932</td>\n",
       "      <td>1.148014</td>\n",
       "      <td>0.906137</td>\n",
       "    </tr>\n",
       "    <tr>\n",
       "      <th>912</th>\n",
       "      <td>2015-04-05</td>\n",
       "      <td>0.000272</td>\n",
       "      <td>0.000283</td>\n",
       "      <td>0.000218</td>\n",
       "      <td>0.000232</td>\n",
       "      <td>26,800</td>\n",
       "      <td>2443720</td>\n",
       "      <td>-0.147059</td>\n",
       "      <td>1.298165</td>\n",
       "      <td>1.219828</td>\n",
       "      <td>0.939655</td>\n",
       "    </tr>\n",
       "  </tbody>\n",
       "</table>\n",
       "</div>"
      ],
      "text/plain": [
       "          Date      Open      High       Low     Close  Volume  Market Cap  \\\n",
       "916 2015-04-01  0.000400  0.000458  0.000170  0.000242  65,525     3604110   \n",
       "915 2015-04-02  0.000242  0.000323  0.000227  0.000314  28,549     2179320   \n",
       "914 2015-04-03  0.000309  0.000330  0.000291  0.000310  20,678     2778750   \n",
       "913 2015-04-04  0.000310  0.000318  0.000251  0.000277  23,550     2792120   \n",
       "912 2015-04-05  0.000272  0.000283  0.000218  0.000232  26,800     2443720   \n",
       "\n",
       "     rel_close  high_low_ratio  rel_high   rel_low  \n",
       "916  -0.395000        2.694118  1.892562  0.702479  \n",
       "915   0.297521        1.422907  1.028662  0.722930  \n",
       "914   0.003236        1.134021  1.064516  0.938710  \n",
       "913  -0.106452        1.266932  1.148014  0.906137  \n",
       "912  -0.147059        1.298165  1.219828  0.939655  "
      ]
     },
     "execution_count": 7,
     "metadata": {},
     "output_type": "execute_result"
    }
   ],
   "source": [
    "def add_relative_columns(df):\n",
    "    day_diff = df['Close'] - df['Open']\n",
    "    df['rel_close'] = day_diff / df['Open']\n",
    "    df['high_low_ratio'] = df['High'] / df['Low']\n",
    "    df['rel_high'] = df['High'] / df['Close']\n",
    "    df['rel_low'] = df['Low'] / df['Close']\n",
    "    \n",
    "    \n",
    "for df in coin_dataframes.values():\n",
    "    add_relative_columns(df)\n",
    "    \n",
    "coin_dataframes[\"nem\"].head()"
   ]
  },
  {
   "cell_type": "markdown",
   "metadata": {},
   "source": [
    "## Create historical training data\n",
    "\n",
    "The history tables will have values for the last 10 days for each day."
   ]
  },
  {
   "cell_type": "code",
   "execution_count": 8,
   "metadata": {
    "collapsed": true
   },
   "outputs": [],
   "source": [
    "def create_history_frames(coin_dataframes):\n",
    "    history_frames = {}\n",
    "    for coin_name, df in coin_dataframes.items():\n",
    "        history_frames[coin_name], x_cols = create_history_frame(df)\n",
    "    return history_frames, x_cols\n",
    "        \n",
    "\n",
    "def create_history_frame(df):\n",
    "    feature_cols = ['rel_close', 'rel_high', 'rel_low', 'high_low_ratio']\n",
    "    y_col = ['rel_close']\n",
    "    x_cols = []\n",
    "    days = 10\n",
    "    history = df[['Date'] + y_col].copy()\n",
    "    for n in range(1, days+1):\n",
    "        for feat_col in feature_cols:\n",
    "            colname = '{}_{}'.format(feat_col, n)\n",
    "            history[colname] = df[feat_col].shift(n)\n",
    "            x_cols.append(colname)\n",
    "    history = history[days:]\n",
    "    return history, x_cols\n",
    "\n",
    "y_col = 'rel_close'\n",
    "coin_history, x_cols = create_history_frames(coin_dataframes)"
   ]
  },
  {
   "cell_type": "markdown",
   "metadata": {
    "collapsed": true
   },
   "source": [
    "# Define model\n",
    "\n",
    "We will train a separate model for each currency. The models' architecture  identical."
   ]
  },
  {
   "cell_type": "code",
   "execution_count": 9,
   "metadata": {
    "collapsed": true
   },
   "outputs": [],
   "source": [
    "def create_model():\n",
    "    input_layer = Input(batch_shape=(None, len(x_cols), 1))\n",
    "    layer = Bidirectional(LSTM(128, return_sequences=True))(input_layer)\n",
    "    layer = Bidirectional(LSTM(128))(layer)\n",
    "    out = Dense(1, activation=\"sigmoid\")(layer)\n",
    "    m = Model(inputs=input_layer, outputs=out)\n",
    "    m.compile(\"rmsprop\", loss='mean_squared_error')\n",
    "    return m\n",
    "\n",
    "def create_train_test_mtx(history):\n",
    "    X = history[x_cols].as_matrix()\n",
    "    y = history[y_col].as_matrix()\n",
    "    X = X.reshape(X.shape[0], X.shape[1], 1)\n",
    "    rand_mtx = np.random.permutation(X.shape[0])\n",
    "    train_split = int(X.shape[0] * 0.9)\n",
    "    train_indices = rand_mtx[:train_split]\n",
    "    test_indices = rand_mtx[train_split:]\n",
    "\n",
    "    X_train = X[train_indices]\n",
    "    X_test = X[test_indices]\n",
    "    y_train = y[train_indices]\n",
    "    y_test = y[test_indices]\n",
    "    \n",
    "    return X_train, X_test, y_train, y_test\n",
    "\n",
    "def train_model(model, X, y):\n",
    "    ea = EarlyStopping(monitor='val_loss', patience=2)\n",
    "    val_loss = model.fit(X, y, epochs=500, batch_size=64, callbacks=[ea], verbose=0, validation_split=.1)\n",
    "    return val_loss"
   ]
  },
  {
   "cell_type": "markdown",
   "metadata": {},
   "source": [
    "## Train a model for each currency\n",
    "\n",
    "We save RMSE as well as the predictions on each test set."
   ]
  },
  {
   "cell_type": "code",
   "execution_count": 10,
   "metadata": {},
   "outputs": [
    {
     "name": "stdout",
     "output_type": "stream",
     "text": [
      "bitcoin 0.0395829767904\n",
      "bitconnect 0.105878993163\n",
      "dash 0.067239614115\n",
      "ethereum 0.0779520952451\n",
      "iota 0.116951050119\n",
      "litecoin 0.120207499218\n",
      "monero 0.05655138178\n",
      "nem 0.0749458345141\n",
      "neo 0.081203570008\n",
      "numeraire 0.143091012434\n",
      "omisego 0.100255266302\n",
      "qtum 0.0939036685546\n",
      "ripple 0.165650145426\n",
      "stratis 0.103679609164\n",
      "waves 0.0830779387789\n"
     ]
    }
   ],
   "source": [
    "rmse = {}\n",
    "pred = {}\n",
    "test = {}\n",
    "\n",
    "for coin_name, history in coin_history.items():\n",
    "    model = create_model()\n",
    "    X_train, X_test, y_train, y_test = create_train_test_mtx(history)\n",
    "    train_model(model, X_train, y_train)\n",
    "    test[coin_name] = y_test\n",
    "    \n",
    "    # run prediction on test set\n",
    "    pred[coin_name] = model.predict(X_test)\n",
    "    # compute test loss\n",
    "    rmse[coin_name] = np.sqrt(np.mean((pred[coin_name] - y_test)**2))\n",
    "    print(coin_name, rmse[coin_name])"
   ]
  },
  {
   "cell_type": "markdown",
   "metadata": {},
   "source": [
    "## Do our models predict the signum of the value change correctly?"
   ]
  },
  {
   "cell_type": "code",
   "execution_count": 13,
   "metadata": {},
   "outputs": [
    {
     "name": "stdout",
     "output_type": "stream",
     "text": [
      "[bitcoin] pos/neg change guessed correctly: 11914, incorrectly: 14007, correct%: 45.962732919254655\n",
      "[bitconnect] pos/neg change guessed correctly: 350, incorrectly: 275, correct%: 56.00000000000001\n",
      "[dash] pos/neg change guessed correctly: 7524, incorrectly: 396, correct%: 95.0\n",
      "[ethereum] pos/neg change guessed correctly: 3120, incorrectly: 2964, correct%: 51.28205128205128\n",
      "[iota] pos/neg change guessed correctly: 66, incorrectly: 55, correct%: 54.54545454545454\n",
      "[litecoin] pos/neg change guessed correctly: 13041, incorrectly: 1449, correct%: 90.0\n",
      "[monero] pos/neg change guessed correctly: 6765, incorrectly: 8364, correct%: 44.71544715447154\n",
      "[nem] pos/neg change guessed correctly: 4914, incorrectly: 3367, correct%: 59.34065934065934\n",
      "[neo] pos/neg change guessed correctly: 760, incorrectly: 684, correct%: 52.63157894736842\n",
      "[numeraire] pos/neg change guessed correctly: 50, incorrectly: 50, correct%: 50.0\n",
      "[omisego] pos/neg change guessed correctly: 16, incorrectly: 48, correct%: 25.0\n",
      "[qtum] pos/neg change guessed correctly: 91, incorrectly: 78, correct%: 53.84615384615385\n",
      "[ripple] pos/neg change guessed correctly: 12616, incorrectly: 152, correct%: 98.80952380952381\n",
      "[stratis] pos/neg change guessed correctly: 1025, incorrectly: 656, correct%: 60.97560975609756\n",
      "[waves] pos/neg change guessed correctly: 1104, incorrectly: 1200, correct%: 47.91666666666667\n"
     ]
    }
   ],
   "source": [
    "pred_sign = {coin_name: np.sign(pred[coin_name]) * np.sign(test[coin_name]) for coin_name in pred.keys()}\n",
    "for coin, val in sorted(pred_sign.items()):\n",
    "    cnt = np.unique(pred_sign[coin], return_counts=True)[1]\n",
    "    print(\"[{}] pos/neg change guessed correctly: {}, incorrectly: {}, correct%: {}\".format(\n",
    "        coin, cnt[0], cnt[1], cnt[0]/ (cnt[0]+cnt[1]) * 100))"
   ]
  },
  {
   "cell_type": "markdown",
   "metadata": {},
   "source": [
    "## Did we guess anything useful at all?"
   ]
  },
  {
   "cell_type": "code",
   "execution_count": 12,
   "metadata": {},
   "outputs": [
    {
     "name": "stdout",
     "output_type": "stream",
     "text": [
      "[bitcoin] guesses: {1.0: 161}\n",
      "[bitconnect] guesses: {1.0: 25}\n",
      "[dash] guesses: {1.0: 132}\n",
      "[ethereum] guesses: {1.0: 78}\n",
      "[iota] guesses: {1.0: 11}\n",
      "[litecoin] guesses: {1.0: 161}\n",
      "[monero] guesses: {1.0: 123}\n",
      "[nem] guesses: {1.0: 91}\n",
      "[neo] guesses: {1.0: 38}\n",
      "[numeraire] guesses: {1.0: 10}\n",
      "[omisego] guesses: {1.0: 8}\n",
      "[qtum] guesses: {1.0: 13}\n",
      "[ripple] guesses: {1.0: 152}\n",
      "[stratis] guesses: {1.0: 41}\n",
      "[waves] guesses: {1.0: 48}\n"
     ]
    }
   ],
   "source": [
    "pred_sign = {coin_name: np.sign(pred[coin_name]) for coin_name in pred.keys()}\n",
    "for coin, val in sorted(pred_sign.items()):\n",
    "    e, cnt = np.unique(val, return_counts=True)\n",
    "    print(\"[{}] guesses: {}\".format(coin, dict(zip(e, cnt))))"
   ]
  }
 ],
 "metadata": {
  "kernelspec": {
   "display_name": "Python 3",
   "language": "python",
   "name": "python3"
  },
  "language_info": {
   "codemirror_mode": {
    "name": "ipython",
    "version": 3
   },
   "file_extension": ".py",
   "mimetype": "text/x-python",
   "name": "python",
   "nbconvert_exporter": "python",
   "pygments_lexer": "ipython3",
   "version": "3.6.2"
  }
 },
 "nbformat": 4,
 "nbformat_minor": 2
}
