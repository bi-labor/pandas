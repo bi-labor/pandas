{
 "cells": [
  {
   "cell_type": "markdown",
   "metadata": {},
   "source": [
    "# Gipsz Jakab (ABC123)"
   ]
  },
  {
   "cell_type": "markdown",
   "metadata": {},
   "source": [
    "# A labor célja\n",
    "\n",
    "A labor célja egy rövid bevezetőt adni a manapság oly népszerű \"data science\" Python eszközeibe.\n",
    "A labor feladatai előtt mindenképp meg kell ismerkedni a Python nyelv alapjaival. A laborhoz tartozó rövid magyar Python bevezetőt [itt](https://github.com/juditacs/labor/blob/master/uzleti_intelligencia/Python_alapok.ipynb) találod.\n",
    "\n",
    "A pandashoz egy rövid magyar bevezető [itt](https://github.com/juditacs/labor/blob/master/uzleti_intelligencia/Pandas_alapok.ipynb).\n",
    "\n",
    "A labort összeállította: Ács Judit"
   ]
  },
  {
   "cell_type": "markdown",
   "metadata": {},
   "source": [
    "# A labor menete\n",
    "\n",
    "A labor elején együtt fogunk dolgozni az első feladatokon. A labor második részében önállóan kell megoldanotok a notebookban található kérdéseket. 5 feladat van, amelyek 5 kérdést tartalmaznak. A kérdések sorszámozva vannak és Q-val kezdődnek: Q1.1-Q5.5-ig. Néhány szorgalmi kérdés is van, ezekkel kiválthatók a hiányzó kérdések a kötelezők közül.\n",
    "\n",
    "Egy feladat sikeres teljesítéséhez legalább 3 kérdésre kell helyesen válaszolni.\n",
    "\n",
    "A laborhoz külön jegyzőkönyvet nem kell készíteni, ezt a notebookot kell vasárnap estig az AUT portálra feltölteni. A fájlrendszerben `uzleti_intelligencia.ipynb` néven megtaláljátok a notebookot abban a könyvtárban, ahonnan indítottátok a jupytert."
   ]
  },
  {
   "cell_type": "code",
   "execution_count": null,
   "metadata": {
    "collapsed": false
   },
   "outputs": [],
   "source": [
    "import pandas as pd  # konvenció szerint pd aliast használunk\n",
    "%matplotlib inline\n",
    "import matplotlib\n",
    "import numpy as np\n",
    "\n",
    "# tegyük szebbé a grafikonokat\n",
    "matplotlib.style.use('ggplot')\n",
    "#pd.set_option('display.mpl_style', 'default')\n",
    "matplotlib.pyplot.rcParams['figure.figsize'] = (15, 3)\n",
    "matplotlib.pyplot.rcParams['font.family'] = 'sans-serif'"
   ]
  },
  {
   "cell_type": "markdown",
   "metadata": {},
   "source": [
    "A MovieLens adatsorral fogunk dolgozni, de először le kell töltenünk. http://grouplens.org/datasets/movielens/\n",
    "\n",
    "Csak akkor töltjük le a fájlt, ha még nem létezik."
   ]
  },
  {
   "cell_type": "code",
   "execution_count": null,
   "metadata": {
    "collapsed": false
   },
   "outputs": [],
   "source": [
    "import os\n",
    "\n",
    "if not os.path.exists('ml.zip'):\n",
    "    import urllib\n",
    "    u = urllib.request.URLopener()\n",
    "    u.retrieve(\"http://files.grouplens.org/datasets/movielens/ml-100k.zip\", \"ml.zip\")"
   ]
  },
  {
   "cell_type": "markdown",
   "metadata": {},
   "source": [
    "Kicsomagoljuk:"
   ]
  },
  {
   "cell_type": "code",
   "execution_count": null,
   "metadata": {
    "collapsed": false
   },
   "outputs": [],
   "source": [
    "if not os.path.exists('ml-100k'):\n",
    "    from zipfile import ZipFile\n",
    "    with ZipFile('ml.zip') as myzip:\n",
    "        myzip.extractall()"
   ]
  },
  {
   "cell_type": "markdown",
   "metadata": {},
   "source": [
    "## Adat betöltése és normalizálása\n",
    "\n",
    "A pd.read_table függvény táblázatos adatok betöltésére alkalmas. Több tucat paraméterrel [rendelkezik](http://pandas.pydata.org/pandas-docs/stable/generated/pandas.read_table.html), de csak egy kötelező paramétere van: a fájl, amit beolvasunk.\n",
    "A karakterkódolást is meg kell adnunk, mert a fájl nem az alapértelmezett (utf-8) kódolást használja, hanem az ISO-8859-1-et, vagy köznéven a latin1-et."
   ]
  },
  {
   "cell_type": "code",
   "execution_count": null,
   "metadata": {
    "collapsed": false,
    "scrolled": true
   },
   "outputs": [],
   "source": [
    "# df = pd.read_table(\"ml-100k/u.item\")  # UnicodeDecodeErrort kapunk, mert rossz dekódert használ\n",
    "df = pd.read_table(\"ml-100k/u.item\", encoding=\"latin1\")\n",
    "df.head()"
   ]
  },
  {
   "cell_type": "markdown",
   "metadata": {},
   "source": [
    "Ez még elég rosszul néz ki. Hogyan tudnánk javítani?\n",
    "1. Rossz szeparátort használt a függvény (tab az alapértelmezett). A fájlban | a szeparátor. Ezt a `sep` paraméterrel tudjuk megadni.\n",
    "1. A fájl első sora került az oszlopnevek helyére. Az oszlopok valódi nevei a README fájlból derülnek ki, amit kézzel megadhatjuk a read_table-nek a `names` paraméterben.\n",
    "1. A read_table automatikusan generált egy id-t minden sornak, azonban az adatfájlban a filmek már rendelkeznek egy egyedi azonosítóval (movie_id), használjuk ezt a DataFrame indexeként (`index_col` paraméter). Célszerű szóköz nélküli, kisbetűs oszlopneveket használni, mert akkor attribútumként is elérjük őket (df.release_date)."
   ]
  },
  {
   "cell_type": "code",
   "execution_count": null,
   "metadata": {
    "collapsed": false
   },
   "outputs": [],
   "source": [
    "column_names = [\n",
    "    \"movie_id\", \"title\", \"release_date\", \"video_release_date\", \"imdb_url\", \"unknown\", \"action\", \"adventure\", \"animation\",\n",
    "    \"children\", \"comedy\", \"crime\", \"documentary\", \"drama\", \"fantasy\", \"film_noir\", \"horror\", \"musical\", \"mystery\",\n",
    "    \"romance\", \"sci_fi\", \"thriller\", \"war\", \"western\"]"
   ]
  },
  {
   "cell_type": "code",
   "execution_count": null,
   "metadata": {
    "collapsed": false,
    "scrolled": true
   },
   "outputs": [],
   "source": [
    "df = pd.read_table(\"ml-100k/u.item\", sep=\"|\", names=column_names, encoding=\"latin1\", index_col='movie_id')\n",
    "df.head()"
   ]
  },
  {
   "cell_type": "markdown",
   "metadata": {},
   "source": [
    "Két oszlop is van, amik dátumot jelölnek: `release_date, video_release_date`. A pandas parszolni tudja a dátumokat többféle népszerű formátumban, ehhez csak a `parse_dates` paraméterben kell megadnunk a dátumot tartalmazó oszlopokat. Figyeljük meg, hogy ahol nincs dátum, az Nan (not a number)-ről NaT-ra változik."
   ]
  },
  {
   "cell_type": "code",
   "execution_count": null,
   "metadata": {
    "collapsed": false
   },
   "outputs": [],
   "source": [
    "df = pd.read_table(\"ml-100k/u.item\", sep=\"|\", names=column_names, encoding=\"latin1\", parse_dates=[2,3], index_col='movie_id')\n",
    "df.head()"
   ]
  },
  {
   "cell_type": "markdown",
   "metadata": {},
   "source": [
    "Még mindig nem tökéletes, hiszen a filmek címei után szerepel az évszám zárójelben, ami egyrészt redundáns, másrészt zaj. Tüntessük el!\n",
    "\n",
    "A szokásos `str` műveletek egy része elérhető DataSeries objektumokra is (minden elemre végrehajtja). A függvényeket az `str` névtérben találjuk."
   ]
  },
  {
   "cell_type": "code",
   "execution_count": null,
   "metadata": {
    "collapsed": false
   },
   "outputs": [],
   "source": [
    "df.title.str"
   ]
  },
  {
   "cell_type": "markdown",
   "metadata": {},
   "source": [
    "Egy reguláris kifejezéssel eltüntetjük a két zárójel közti részt, majd eltávolítjuk az ott maradt whitespace-eket (a strip függvény a stringek elejéről és végéről is eltávolítja).\n",
    "Végül adjuk értékül a régi title oszlopnak a kezdő és záró whitespace-ektől megfosztott változatát."
   ]
  },
  {
   "cell_type": "code",
   "execution_count": null,
   "metadata": {
    "collapsed": false
   },
   "outputs": [],
   "source": [
    "df.title = df.title.str.replace(r'\\(.*\\)', '').str.strip()"
   ]
  },
  {
   "cell_type": "code",
   "execution_count": null,
   "metadata": {
    "collapsed": false,
    "scrolled": true
   },
   "outputs": [],
   "source": [
    "df.head()"
   ]
  },
  {
   "cell_type": "markdown",
   "metadata": {},
   "source": [
    "A `video_release_date` mező az első néhány sorban csak érvénytelen mezőket tartalmaz. Vajon igaz ez az egész DataFrame-re? Listázzuk ki azokat a mezőket, ahol nem NaT a video_release_date értéke, vagyis érvénytelen dátum."
   ]
  },
  {
   "cell_type": "code",
   "execution_count": null,
   "metadata": {
    "collapsed": false
   },
   "outputs": [],
   "source": [
    "df[df.video_release_date.notnull()]"
   ]
  },
  {
   "cell_type": "markdown",
   "metadata": {},
   "source": [
    "Nincs ilyen mező, ezért elhagyhatjuk az oszlopot."
   ]
  },
  {
   "cell_type": "code",
   "execution_count": null,
   "metadata": {
    "collapsed": false
   },
   "outputs": [],
   "source": [
    "df = df.drop('video_release_date', axis=1)\n",
    "df.head()"
   ]
  },
  {
   "cell_type": "markdown",
   "metadata": {},
   "source": [
    "Van egy `unknown` oszlop, ettől is szabaduljunk meg!"
   ]
  },
  {
   "cell_type": "code",
   "execution_count": null,
   "metadata": {
    "collapsed": true
   },
   "outputs": [],
   "source": [
    "df = df.drop('unknown', axis=1)"
   ]
  },
  {
   "cell_type": "markdown",
   "metadata": {},
   "source": [
    "## Adatok felszínes vizsgálata\n",
    "\n",
    "Nézzük meg, hogy milyen információkat tudhatunk könnyedén meg a DataFrame-ről."
   ]
  },
  {
   "cell_type": "markdown",
   "metadata": {},
   "source": [
    "A `describe` függvény oszloponként szolgáltat alapvető infomációkkal: darabszám, átlag, szórás stb.\n",
    "Mivel a legtöbb mező bináris, most nem tudunk meg sok hasznos információt a mezőkről."
   ]
  },
  {
   "cell_type": "code",
   "execution_count": null,
   "metadata": {
    "collapsed": false
   },
   "outputs": [],
   "source": [
    "df.describe()"
   ]
  },
  {
   "cell_type": "markdown",
   "metadata": {},
   "source": [
    "### Átlag, szórás, variancia stb.\n",
    "\n",
    "Egyenként is lekérdezhetőek:\n",
    "\n",
    "1. count()\n",
    "1. átlag: mean()\n",
    "1. szórás: std()\n",
    "1. variancia: var()\n",
    "1. 50% kvantilis: quantile(.5)\n",
    "1. min-max"
   ]
  },
  {
   "cell_type": "code",
   "execution_count": null,
   "metadata": {
    "collapsed": false
   },
   "outputs": [],
   "source": [
    "df.quantile(.9).head()"
   ]
  },
  {
   "cell_type": "markdown",
   "metadata": {},
   "source": [
    "# 1. feladat: Egyszerű lekérdezések "
   ]
  },
  {
   "cell_type": "markdown",
   "metadata": {},
   "source": [
    "## Melyik filmek jelentek meg 1956-ban? "
   ]
  },
  {
   "cell_type": "code",
   "execution_count": null,
   "metadata": {
    "collapsed": false
   },
   "outputs": [],
   "source": [
    "df[df.release_date.dt.year == 1956]"
   ]
  },
  {
   "cell_type": "markdown",
   "metadata": {},
   "source": [
    "## Több feltétel\n",
    "\n",
    "A szűrési feltételeket tudjuk kombinálni az & és a | operátorokkal. Az operátorok a Boole algebra szerint működnek igazságértékekre:"
   ]
  },
  {
   "cell_type": "code",
   "execution_count": null,
   "metadata": {
    "collapsed": false
   },
   "outputs": [],
   "source": [
    "print(True & False)\n",
    "print(True | False | False)\n",
    "print(True | False & False)"
   ]
  },
  {
   "cell_type": "markdown",
   "metadata": {},
   "source": [
    "Az & precedenciája magasabb, mint a |-é. Mindkét operátor precedenciája magasabb, mint az összehasonlító operátoroké (==, <, >), ezért mindig zárójelezzünk!"
   ]
  },
  {
   "cell_type": "markdown",
   "metadata": {},
   "source": [
    "## Melyik filmek jelentek meg a 80-as években?"
   ]
  },
  {
   "cell_type": "code",
   "execution_count": null,
   "metadata": {
    "collapsed": false
   },
   "outputs": [],
   "source": [
    "d = df[(df.release_date.dt.year >=  1980) & (df.release_date.dt.year < 1990)]\n",
    "d.shape"
   ]
  },
  {
   "cell_type": "markdown",
   "metadata": {},
   "source": [
    "107 film jelent meg a 80-as években, ezt már nem praktikus kiíni. Nézzük meg csak az első 3-at."
   ]
  },
  {
   "cell_type": "code",
   "execution_count": null,
   "metadata": {
    "collapsed": false
   },
   "outputs": [],
   "source": [
    "d.head(3)"
   ]
  },
  {
   "cell_type": "markdown",
   "metadata": {},
   "source": [
    "### A megjelenítési év legyen külön oszlop\n",
    "\n",
    "Többször fogjuk még használni a megjelenési évet, ezért praktikus külön év oszlopot létrehozni.\n",
    "\n",
    "A DateTime mezőhöz használható metódusok és attribútumok a dt névtérben vannak, így tudjuk minden oszlopra egyszerre meghívni. Az eredményt egy új oszlopban tároljuk."
   ]
  },
  {
   "cell_type": "code",
   "execution_count": null,
   "metadata": {
    "collapsed": true
   },
   "outputs": [],
   "source": [
    "df['year'] = df.release_date.dt.year"
   ]
  },
  {
   "cell_type": "markdown",
   "metadata": {},
   "source": [
    "## Mikor jelentek meg a Die Hard filmek? "
   ]
  },
  {
   "cell_type": "code",
   "execution_count": null,
   "metadata": {
    "collapsed": false
   },
   "outputs": [],
   "source": [
    "df[df.title == 'Die Hard']"
   ]
  },
  {
   "cell_type": "markdown",
   "metadata": {},
   "source": [
    "Sajnos csak teljes egyezésre tudunk így szűrni.\n",
    "\n",
    "A szöveges mezőkre a pandas nyújt egy csomó műveletet, amik az str névtérben vannak (ahogy a dátum mezőkre a dt-ben voltak)."
   ]
  },
  {
   "cell_type": "code",
   "execution_count": null,
   "metadata": {
    "collapsed": false
   },
   "outputs": [],
   "source": [
    "df[df.title.str.contains('Die Hard')]"
   ]
  },
  {
   "cell_type": "markdown",
   "metadata": {},
   "source": [
    "A Die Hard 4 és 5 hiányzik. Kilógnának az adatsorból? Nézzük meg még egyszer, hogy mikori filmek szerepelnek."
   ]
  },
  {
   "cell_type": "code",
   "execution_count": null,
   "metadata": {
    "collapsed": false
   },
   "outputs": [],
   "source": [
    "df.release_date.describe()"
   ]
  },
  {
   "cell_type": "markdown",
   "metadata": {},
   "source": [
    "A Die Hard 4 és 5 2007-ben, illetve 2013-ban jelentek meg, ezért nem szerepelnek az adatban."
   ]
  },
  {
   "cell_type": "markdown",
   "metadata": {},
   "source": [
    "### Melyik filmek tartoznak egyszerre az akció és romantikus kategóriába?"
   ]
  },
  {
   "cell_type": "code",
   "execution_count": null,
   "metadata": {
    "collapsed": false
   },
   "outputs": [],
   "source": [
    "d = df[(df.action==1) & (df.romance==1)]\n",
    "print(len(d))\n",
    "d.head()"
   ]
  },
  {
   "cell_type": "markdown",
   "metadata": {},
   "source": [
    "### Melyik filmek tartoznak az akció VAGY a romantikus kategóriába?\n",
    "\n",
    "Itt a Boole vagyra gondolunk."
   ]
  },
  {
   "cell_type": "code",
   "execution_count": null,
   "metadata": {
    "collapsed": false
   },
   "outputs": [],
   "source": [
    "d = df[(df.action==1) | (df.romance==1)]\n",
    "print(len(d))\n",
    "d.head()"
   ]
  },
  {
   "cell_type": "markdown",
   "metadata": {},
   "source": [
    "## Q1.1. Hány akciófilm jelent meg 1985 előtt, illetve 1985-ben vagy később?"
   ]
  },
  {
   "cell_type": "code",
   "execution_count": null,
   "metadata": {
    "collapsed": false
   },
   "outputs": [],
   "source": []
  },
  {
   "cell_type": "markdown",
   "metadata": {
    "collapsed": true
   },
   "source": [
    "## Q1.2. Létezik-e gyerekeknek szóló thriller? Ha igen, melyek azok?"
   ]
  },
  {
   "cell_type": "code",
   "execution_count": null,
   "metadata": {
    "collapsed": false
   },
   "outputs": [],
   "source": []
  },
  {
   "cell_type": "markdown",
   "metadata": {
    "collapsed": true
   },
   "source": [
    "## Q1.3. Hány filmnek hosszabb a címe, mint 30 karakter?"
   ]
  },
  {
   "cell_type": "code",
   "execution_count": null,
   "metadata": {
    "collapsed": false
   },
   "outputs": [],
   "source": [
    "\n"
   ]
  },
  {
   "cell_type": "markdown",
   "metadata": {},
   "source": [
    "## Rendezés"
   ]
  },
  {
   "cell_type": "markdown",
   "metadata": {},
   "source": [
    "A DataFrame-eket rendezésére gazdag eszköztárat kínál a pandas. A legegyszerűbb rendezés az index szerinti:"
   ]
  },
  {
   "cell_type": "code",
   "execution_count": null,
   "metadata": {
    "collapsed": false
   },
   "outputs": [],
   "source": [
    "df.sort_index().head()"
   ]
  },
  {
   "cell_type": "markdown",
   "metadata": {},
   "source": [
    "Bármelyik oszlop szerint is rendezhetünk:"
   ]
  },
  {
   "cell_type": "code",
   "execution_count": null,
   "metadata": {
    "collapsed": false
   },
   "outputs": [],
   "source": [
    "print(df.sort_values('title').title.head())\n",
    "print(df.sort_values('title').title.tail())"
   ]
  },
  {
   "cell_type": "markdown",
   "metadata": {},
   "source": [
    "## Q1.4. Melyik a legrégebbi és a legújabb film?\n",
    "\n",
    "A megjelenésnek nem csak éve van!"
   ]
  },
  {
   "cell_type": "code",
   "execution_count": null,
   "metadata": {
    "collapsed": false
   },
   "outputs": [],
   "source": []
  },
  {
   "cell_type": "markdown",
   "metadata": {},
   "source": [
    "## Q1.5. Melyik a legrégebbi és a legújabb horrorfilm?\n",
    "\n",
    "Elég egy megfelelő DataFrame head/tail függvényével listázni."
   ]
  },
  {
   "cell_type": "code",
   "execution_count": null,
   "metadata": {
    "collapsed": true
   },
   "outputs": [],
   "source": []
  },
  {
   "cell_type": "markdown",
   "metadata": {},
   "source": [
    "# 2. feladat: Csoportosítás és vizualizáció"
   ]
  },
  {
   "cell_type": "markdown",
   "metadata": {},
   "source": [
    "## Hány filmet adtak ki évente?\n",
    "\n",
    "A kérdést két lépésben tudjuk megválaszolni:\n",
    "\n",
    "1. csoportosítás évenként\n",
    "2. összesítés 1-1 évre\n"
   ]
  },
  {
   "cell_type": "code",
   "execution_count": null,
   "metadata": {
    "collapsed": false,
    "scrolled": true
   },
   "outputs": [],
   "source": [
    "df.groupby('year').count().plot(y='title')"
   ]
  },
  {
   "cell_type": "markdown",
   "metadata": {},
   "source": [
    "Vonaldiagram az alapértelmezett, de oszlopdiagramként informatívabb lenne."
   ]
  },
  {
   "cell_type": "code",
   "execution_count": null,
   "metadata": {
    "collapsed": false
   },
   "outputs": [],
   "source": [
    "df.groupby('year').count().plot(y='title', kind='bar')"
   ]
  },
  {
   "cell_type": "markdown",
   "metadata": {},
   "source": [
    "Lásztik, hogy a 80-as évek végén nőtt meg a kiadott filmek száma, kicsit közelítsünk rá. Ehhez először szűrni fogjuk a 1985 utáni filmeket, majd csoportosítva ábrázolni."
   ]
  },
  {
   "cell_type": "code",
   "execution_count": null,
   "metadata": {
    "collapsed": false
   },
   "outputs": [],
   "source": [
    "d = df[df.year > 1985]\n",
    "d.groupby('year').count().plot(y='title', kind='bar')\n",
    "# df[df.year > 1985].groupby('year').count().plot(y='title', kind='bar')  # vagy egy sorban"
   ]
  },
  {
   "cell_type": "markdown",
   "metadata": {},
   "source": [
    "## Groupby tetszőleges feltétel szerint\n",
    "\n",
    "Nem csak egy kategóriaértékű oszlop szerint csoportosíthatunk, hanem tetszőleges kifejezés szerint. Ezt kihasználva fogunk évtizedenként csoportosítani. A groupby-nak bármilyen kifejezést megadhatunk, ami diszkrét értékekre képezi le a sorokat, tehát véges sok csoport egyikébe helyezi (mint egy hash függvény).\n",
    "\n",
    "Az évtizedet úgy kaphatjuk meg, ha az évet 10-zel osztjuk és csak az egészrészt tartjuk meg, hiszen 1983/10 és 1984/10 egészrésze ugyanúgy 198. Használjuk a Python egészosztás operátorát (//)."
   ]
  },
  {
   "cell_type": "code",
   "execution_count": null,
   "metadata": {
    "collapsed": false
   },
   "outputs": [],
   "source": [
    "d = df.groupby(df.year // 10 * 10)\n",
    "d.groups.keys()  # létrejött csoportok listázása"
   ]
  },
  {
   "cell_type": "code",
   "execution_count": null,
   "metadata": {
    "collapsed": false
   },
   "outputs": [],
   "source": [
    "d.count().plot(y='title', kind='bar')"
   ]
  },
  {
   "cell_type": "markdown",
   "metadata": {
    "collapsed": true
   },
   "source": [
    "## Q2.1. Hány vígjátékot (comedy) adtak ki évente?"
   ]
  },
  {
   "cell_type": "code",
   "execution_count": null,
   "metadata": {
    "collapsed": false
   },
   "outputs": [],
   "source": []
  },
  {
   "cell_type": "markdown",
   "metadata": {
    "collapsed": true
   },
   "source": [
    "## Gyerekfilmet vagy krimit adnak ki többet évtizedenként?"
   ]
  },
  {
   "cell_type": "code",
   "execution_count": null,
   "metadata": {
    "collapsed": false
   },
   "outputs": [],
   "source": [
    "col1 = 'children'\n",
    "col2 = 'crime'\n",
    "d = df[['year', col1, col2]].copy()\n",
    "d['diff'] = d[col1] - d[col2]\n",
    "d.groupby(d.year // 10 * 10).sum()  #.plot(y='diff', kind='bar')"
   ]
  },
  {
   "cell_type": "markdown",
   "metadata": {
    "collapsed": true
   },
   "source": [
    "A 90-es években több filmet adtak ki, mint előtte összesen, nézzük meg azt az évtizedet közelebbről!"
   ]
  },
  {
   "cell_type": "markdown",
   "metadata": {},
   "source": [
    "## Q2.2. Mennyivel adtak ki több gyerekfilmet, mint krimit évente a 90-es években? Ábrázold."
   ]
  },
  {
   "cell_type": "code",
   "execution_count": null,
   "metadata": {
    "collapsed": false
   },
   "outputs": [],
   "source": []
  },
  {
   "cell_type": "markdown",
   "metadata": {},
   "source": [
    "## Q2.3. Melyik műfajból hányat adtak ki? "
   ]
  },
  {
   "cell_type": "code",
   "execution_count": null,
   "metadata": {
    "collapsed": false
   },
   "outputs": [],
   "source": []
  },
  {
   "cell_type": "markdown",
   "metadata": {},
   "source": [
    "Az évnek nyilván nincs értelme.\n",
    "Messze drámából volt a legtöbb."
   ]
  },
  {
   "cell_type": "markdown",
   "metadata": {},
   "source": [
    "## Q2.4. Hagyományos lexikont szeretnénk készíteni a filmekből. Melyik kezdőbetű hányszor fordul elő a filmek címében? Ábrázold tortadiagramon.\n",
    "\n",
    "\n",
    "A tortadiagramhoz érdemes megváltoztatni a diagram képarányát, amit a plot függvény `figsize` paraméterének megadásával tehetsz meg. `figsize=(10,10)`. Százalékokat a `autopct=\"%.0lf%%\"` opcióval lehet a diagramra írni.\n",
    "\n",
    "A tortadiagramot szebbé teheted másik colormap választásával: [dokumentáció](http://pandas.pydata.org/pandas-docs/stable/visualization.html#colormaps) és a [colormapek listája](http://scipy.github.io/old-wiki/pages/Cookbook/Matplotlib/Show_colormaps)."
   ]
  },
  {
   "cell_type": "code",
   "execution_count": null,
   "metadata": {
    "collapsed": false
   },
   "outputs": [],
   "source": []
  },
  {
   "cell_type": "markdown",
   "metadata": {},
   "source": [
    "## Q2.5. Ábrázold a kiadási hónapok eloszlását egy tortadiagramon!\n"
   ]
  },
  {
   "cell_type": "code",
   "execution_count": null,
   "metadata": {
    "collapsed": false
   },
   "outputs": [],
   "source": []
  },
  {
   "cell_type": "markdown",
   "metadata": {},
   "source": [
    "# 3. feladat: pd.merge"
   ]
  },
  {
   "cell_type": "markdown",
   "metadata": {},
   "source": [
    "Az adathalmaz lényegi része a 100000 értékelés, amit az u.data fájlból tudunk beolvasni. A README-ből kiolvashatjuk a fájl oszlopait."
   ]
  },
  {
   "cell_type": "code",
   "execution_count": null,
   "metadata": {
    "collapsed": true
   },
   "outputs": [],
   "source": [
    "cols = ['user', 'movie_id', 'rating', 'timestamp']\n",
    "ratings = pd.read_table('ml-100k/u.data', names=cols)"
   ]
  },
  {
   "cell_type": "code",
   "execution_count": null,
   "metadata": {
    "collapsed": false
   },
   "outputs": [],
   "source": [
    "ratings.head()"
   ]
  },
  {
   "cell_type": "markdown",
   "metadata": {},
   "source": [
    "A timestamp oszlop Unix timestampeket tartalmaz, konvertáljuk DateTime-má."
   ]
  },
  {
   "cell_type": "code",
   "execution_count": null,
   "metadata": {
    "collapsed": false
   },
   "outputs": [],
   "source": [
    "ratings['timestamp'] = pd.to_datetime(ratings.timestamp, unit='s')\n",
    "ratings.head()"
   ]
  },
  {
   "cell_type": "markdown",
   "metadata": {
    "collapsed": true
   },
   "source": [
    "## Merge a film táblával"
   ]
  },
  {
   "cell_type": "markdown",
   "metadata": {},
   "source": [
    "Mivel már több DataFrame-mel dolgozunk, érdemes a filmeket tartalmazó táblának beszédesebb nevet adni."
   ]
  },
  {
   "cell_type": "code",
   "execution_count": null,
   "metadata": {
    "collapsed": true
   },
   "outputs": [],
   "source": [
    "movies = df"
   ]
  },
  {
   "cell_type": "markdown",
   "metadata": {},
   "source": [
    "A pd.merge függvény képes mindenféle join műveletre. Ennek is rengeteg paramétere van, de most csak néhány alapvető művelettel fogunk megismerkedni.\n",
    "\n",
    "A merge-nek van egy bal és egy jobb DataFrame-je, ami most legyen a ratings, illetve a movies. A ratings DataFrame-ben a movie_id oszlophoz kell megkeresni a movies DataFrame megfelelő indexű sorát. A merge megkülönbözteti azt, hogy index vagy nem index oszlop mentén egyesít:\n",
    "1. a left_on/right_on paraméterrel adhatjuk meg azt a bal/jobboldali nem index oszlopot, ami mentén merge-ölünk,\n",
    "2. a left_index/right_index=True flaggel jelezhetjük, ha index mentén akarunk merge-ölni."
   ]
  },
  {
   "cell_type": "code",
   "execution_count": null,
   "metadata": {
    "collapsed": false
   },
   "outputs": [],
   "source": [
    "r = pd.merge(ratings, movies, left_on='movie_id', right_index=True)"
   ]
  },
  {
   "cell_type": "markdown",
   "metadata": {},
   "source": [
    "Meghívhatjuk a baloldali DataFrame metódusaként is:"
   ]
  },
  {
   "cell_type": "code",
   "execution_count": null,
   "metadata": {
    "collapsed": false
   },
   "outputs": [],
   "source": [
    "r = ratings.merge(movies, left_on=['movie_id'], right_index=True)"
   ]
  },
  {
   "cell_type": "markdown",
   "metadata": {},
   "source": [
    "Csak néhány oszlop érdekel minket a movies DataFrame-ből:"
   ]
  },
  {
   "cell_type": "code",
   "execution_count": null,
   "metadata": {
    "collapsed": false
   },
   "outputs": [],
   "source": [
    "r = ratings.merge(movies[['title', 'year', 'release_date']], left_on=['movie_id'], right_index=True)"
   ]
  },
  {
   "cell_type": "markdown",
   "metadata": {},
   "source": [
    "## Hány értékelés érkezett a film megjelenése előtt?"
   ]
  },
  {
   "cell_type": "code",
   "execution_count": null,
   "metadata": {
    "collapsed": false
   },
   "outputs": [],
   "source": [
    "len(r[r.timestamp <= r.release_date])"
   ]
  },
  {
   "cell_type": "markdown",
   "metadata": {},
   "source": [
    "## Hogy oszlik meg ez a szám a filmek között? "
   ]
  },
  {
   "cell_type": "code",
   "execution_count": null,
   "metadata": {
    "collapsed": false
   },
   "outputs": [],
   "source": [
    "r[r.timestamp <= r.release_date].title.value_counts()"
   ]
  },
  {
   "cell_type": "code",
   "execution_count": null,
   "metadata": {
    "collapsed": false
   },
   "outputs": [],
   "source": [
    "movies[movies.title == 'Apt Pupil']"
   ]
  },
  {
   "cell_type": "markdown",
   "metadata": {},
   "source": [
    "## Q3.1. Hány film kapott legalább egyszer 4 fölötti értékelést?"
   ]
  },
  {
   "cell_type": "code",
   "execution_count": null,
   "metadata": {
    "collapsed": false
   },
   "outputs": [],
   "source": []
  },
  {
   "cell_type": "markdown",
   "metadata": {},
   "source": [
    "## Hisztogram készítése az egyes értékelésekről\n",
    "\n",
    "Hisztogram készítésére (melyik érték hányszor szerepelt), a hist függvény áll rendelkezésünkre:"
   ]
  },
  {
   "cell_type": "code",
   "execution_count": null,
   "metadata": {
    "collapsed": false
   },
   "outputs": [],
   "source": [
    "ratings.hist('rating')"
   ]
  },
  {
   "cell_type": "markdown",
   "metadata": {},
   "source": [
    "## Q3.2. Ábrázold hisztogramon a thrillerek értékeléseit!\n",
    "\n",
    "Vigyázat: az előzőleg merge-ölt táblázat nem tartalmaz műfaji információkat."
   ]
  },
  {
   "cell_type": "code",
   "execution_count": null,
   "metadata": {
    "collapsed": false
   },
   "outputs": [],
   "source": []
  },
  {
   "cell_type": "markdown",
   "metadata": {},
   "source": [
    "## Q3.3. Mi az értékelések átlaga évtizedenként (film megjelenési éve)? "
   ]
  },
  {
   "cell_type": "code",
   "execution_count": null,
   "metadata": {
    "collapsed": false
   },
   "outputs": [],
   "source": []
  },
  {
   "cell_type": "markdown",
   "metadata": {},
   "source": [
    "## Q3.4. Az értékelésekhez tartozik egy timestamp. Mi az értékelések átlaga hónapokra bontva?\n",
    "\n",
    "Tehát melyik hónapban jószívűbbek az emberek?"
   ]
  },
  {
   "cell_type": "code",
   "execution_count": null,
   "metadata": {
    "collapsed": false
   },
   "outputs": [],
   "source": []
  },
  {
   "cell_type": "markdown",
   "metadata": {},
   "source": [
    "## Q3.5. Melyik hónapban legnagyobb a gyerekfilmek értékeléseinek szórása? "
   ]
  },
  {
   "cell_type": "code",
   "execution_count": null,
   "metadata": {
    "collapsed": false
   },
   "outputs": [],
   "source": []
  },
  {
   "cell_type": "markdown",
   "metadata": {},
   "source": [
    "# 4. feladat: Users DataFrame"
   ]
  },
  {
   "cell_type": "markdown",
   "metadata": {},
   "source": [
    "## Q4.1 Olvasd be a u.user fájlt egy users DataFrame-be!\n",
    "\n",
    "Segítségképpen az oszlopok: user_id, age, gender, occupation, zip"
   ]
  },
  {
   "cell_type": "code",
   "execution_count": null,
   "metadata": {
    "collapsed": true
   },
   "outputs": [],
   "source": []
  },
  {
   "cell_type": "markdown",
   "metadata": {},
   "source": [
    "## Q4.2. Hogy oszlanak el az értékelések a különböző foglalkozású emberek között? Ábrázold tortadiagramon.\n",
    "\n",
    "Pl. az értékelések 13%-át az írók adják (nem ez a valódi érték)."
   ]
  },
  {
   "cell_type": "code",
   "execution_count": null,
   "metadata": {
    "collapsed": false
   },
   "outputs": [],
   "source": []
  },
  {
   "cell_type": "markdown",
   "metadata": {},
   "source": [
    "## Q4.3. Korcsoportonként hány értékelést adtak le? 10 évet veszünk egy korcsoportnak, tehát 10-19, 20-29 stb. Ábrázold oszlopdiagramon."
   ]
  },
  {
   "cell_type": "code",
   "execution_count": null,
   "metadata": {
    "collapsed": true
   },
   "outputs": [],
   "source": []
  },
  {
   "cell_type": "markdown",
   "metadata": {},
   "source": [
    "## Q4.4. Milyen átlagos értékelést adnak az egyes szakmák képviselői?"
   ]
  },
  {
   "cell_type": "code",
   "execution_count": null,
   "metadata": {
    "collapsed": false
   },
   "outputs": [],
   "source": []
  },
  {
   "cell_type": "markdown",
   "metadata": {},
   "source": [
    "## Q4.5. Készíts hisztogramot az értékelési kedvről! Hány user adott le N értékelést?"
   ]
  },
  {
   "cell_type": "code",
   "execution_count": null,
   "metadata": {
    "collapsed": false
   },
   "outputs": [],
   "source": []
  },
  {
   "cell_type": "markdown",
   "metadata": {},
   "source": [
    "## Q4.6. (Szorgalmi) Milyen volt a nemek eloszlása a romantikus filmet, illetve az akciófilmeket értékelők között? Készíts két tortadiagramot!"
   ]
  },
  {
   "cell_type": "code",
   "execution_count": null,
   "metadata": {
    "collapsed": false
   },
   "outputs": [],
   "source": []
  },
  {
   "cell_type": "markdown",
   "metadata": {},
   "source": [
    "## Q4.7. (Szorgalmi) Jóval több férfi adott le értékelést. Hogy alakulnak ezek az arányok, ha normálunk az összes értékelésre jellemző nemek arányával?"
   ]
  },
  {
   "cell_type": "code",
   "execution_count": null,
   "metadata": {
    "collapsed": true
   },
   "outputs": [],
   "source": []
  },
  {
   "cell_type": "markdown",
   "metadata": {},
   "source": [
    "# 5. feladat: K legközelebbi szomszéd\n",
    "\n",
    "Ebben a feladatban a műfajok alapján fogjuk megkeresni minden filmhez a hozzá leghasonlóbb K filmet. Az eljárás neve k-nearest neighbor (KNN). A scikit-learn tartalmaz több KNN implementációt is, mi most a ball_tree-t fogjuk használni. Az osztály dokumentációja itt található: http://scikit-learn.org/stable/modules/neighbors.html"
   ]
  },
  {
   "cell_type": "markdown",
   "metadata": {},
   "source": [
    "## Q5.1. Nyerd ki a movies adattáblából a műfaji címkéket mátrixként!\n",
    "\n",
    "A DataFrame as_matrix függvényével készíthetünk mátrixot a DataFrame-ből. Az as_matrixnak megadható, hogy melyik oszlopok kerüljenek bele a mátrixba. Most csak a műfajokat tartalmazó oszlopokat kell megtartani. Vigyázz, az utolsó oszlop az évet tartalmazza!\n",
    "\n",
    "A mátrix neve legyen X."
   ]
  },
  {
   "cell_type": "code",
   "execution_count": null,
   "metadata": {
    "collapsed": false
   },
   "outputs": [],
   "source": []
  },
  {
   "cell_type": "markdown",
   "metadata": {},
   "source": [
    "## Q5.2. Futtasd le a KNN-t az X mátrixon!\n",
    "\n",
    "Ehhez bele kell nézned a NearestNeighbors [dokumentációjába](http://scikit-learn.org/stable/modules/neighbors.html).\n",
    "\n",
    "Az indexeket az indices változóban tárold.\n",
    "\n",
    "A legközelebbi szomszédok számát a K változóban tárold. Először állítsd 4-re a K-t, később kísérletezhetsz más értékekkel is."
   ]
  },
  {
   "cell_type": "code",
   "execution_count": null,
   "metadata": {
    "collapsed": false
   },
   "outputs": [],
   "source": []
  },
  {
   "cell_type": "markdown",
   "metadata": {},
   "source": [
    "Az indices változó tartalmazza az indexeket, ebből készítsünk DataFrame-et:"
   ]
  },
  {
   "cell_type": "code",
   "execution_count": null,
   "metadata": {
    "collapsed": false
   },
   "outputs": [],
   "source": [
    "ind = pd.DataFrame(indices)\n",
    "ind.head()"
   ]
  },
  {
   "cell_type": "markdown",
   "metadata": {},
   "source": [
    "Értelmezzük a táblázatot!\n",
    "Az index oszlop (első oszlop) azt mondja meg, hogy az X mátrix hányadik sorához tartozó szomszédok találhatók meg a sorban. A 0-3. nevű oszlopok a legközelebbi szomszédokat adják meg. Legtöbb film esetén saját maga a legközelebbi szomszédja, hiszen 0 a távolságuk, azonban nincs mindenhol így. Mit gondolsz, miért?\n",
    "\n",
    "A táblázat indexe 0-val kezdődik, de a movies táblában a movie_id 1-től indul."
   ]
  },
  {
   "cell_type": "markdown",
   "metadata": {},
   "source": [
    "## Q5.3. Állítsd át az ind DataFrame indexét úgy, hogy 1-től indexeljen! Az összes mezőt is növeld meg eggyel!\n",
    "\n",
    "Segítség: a Pandas alapok [Vektoros műveletvégzés](http://github.com/juditacs/labor/tree/master/uzleti_intelligencia/Pandas_alapok.ipynb#Vektoros-műveletvégzés) részét érdemes megnézni."
   ]
  },
  {
   "cell_type": "code",
   "execution_count": null,
   "metadata": {
    "collapsed": false
   },
   "outputs": [],
   "source": []
  },
  {
   "cell_type": "markdown",
   "metadata": {},
   "source": [
    "## Q5.4. Keresd meg az indexekhez tartozó filmcímeket!\n",
    "\n",
    "Itt több merge-re lesz szükségünk, K db szomszéd címeit kell megkeresnünk. Hány merge hívás kell?\n",
    "\n",
    "Segítség: a merge-ölések sorozatát meg lehet oldani egy 4 soros rekurzív függvénnyel."
   ]
  },
  {
   "cell_type": "code",
   "execution_count": null,
   "metadata": {
    "collapsed": true
   },
   "outputs": [],
   "source": []
  },
  {
   "cell_type": "markdown",
   "metadata": {},
   "source": [
    "## Q5.5. Jelenjen meg a táblázatban az a film is, aminek a szomszédjai a sorban vannak! A címeken kívül más oszlopa ne legyen a táblázatnak!\n",
    "\n",
    "Most olyanok a soraink, hogy: movie_id | nearest1 | nearest 2 stb.\n",
    "\n",
    "A movie_id mellett jó lenne az eredeti címet is látni."
   ]
  },
  {
   "cell_type": "code",
   "execution_count": null,
   "metadata": {
    "collapsed": false
   },
   "outputs": [],
   "source": []
  },
  {
   "cell_type": "markdown",
   "metadata": {},
   "source": [
    "## Q5.6. (Szorgalmi) Mik a Die Hardhoz leghasonlóbb filmek?"
   ]
  },
  {
   "cell_type": "code",
   "execution_count": null,
   "metadata": {
    "collapsed": false
   },
   "outputs": [],
   "source": []
  },
  {
   "cell_type": "markdown",
   "metadata": {},
   "source": [
    "# Beadás\n",
    "\n",
    "Amennyiben nem sikerült a végére érned, de szeretnéd befejezni, vasárnapig megteheted a saját gépeden. Telepítési instrukciókat a Python alapok notebookban találsz.\n",
    "\n",
    "Mielőtt feltöltöd a fájlt:\n",
    "1. próbáld ki, hogy újraindított kernellel is működik-e. Ezt a Kernel->Restart & Run All opcióval teheted meg.\n",
    "1. Ügyelj, hogy ne maradjanak hosszú táblázatok kiírva. Helyette használd a head függvényt.\n",
    "\n",
    "A laborhoz jegyzőkönyvként ez a notebook fájl szolgál. Az `uzleti_intelligencia.ipynb` fájlt csomagold be és töltsd fel az AUT portálra vasárnapig."
   ]
  },
  {
   "cell_type": "markdown",
   "metadata": {},
   "source": [
    "# Visszajelzés\n",
    "\n",
    "Köszönöm, hogy végigcsináltad a labort, remélem, hogy hasznosnak találtad.\n",
    "\n",
    "Minden visszajelzés fontos és be fogom építeni következő alkalmakba. Kérlek töltsd ki ezt a rövid [kérdőívet](https://docs.google.com/forms/d/1QKKR_qsP0850H0lY_aGPHXnN2YnJgKMvkH37uNGtQ9s/viewform)."
   ]
  },
  {
   "cell_type": "markdown",
   "metadata": {},
   "source": [
    "# Folytatás\n",
    "\n",
    "Ha kedvet kaptál a témához, érdemes megnézni a [kaggle.com](https://www.kaggle.com/) data science oldalt, ahol megnézheted mások kódját, részt vehetsz versenyeken és sokat tanulhatsz a témáról."
   ]
  }
 ],
 "metadata": {
  "kernelspec": {
   "display_name": "Python 3",
   "language": "python",
   "name": "python3"
  },
  "language_info": {
   "codemirror_mode": {
    "name": "ipython",
    "version": 3
   },
   "file_extension": ".py",
   "mimetype": "text/x-python",
   "name": "python",
   "nbconvert_exporter": "python",
   "pygments_lexer": "ipython3",
   "version": "3.5.1"
  }
 },
 "nbformat": 4,
 "nbformat_minor": 0
}
