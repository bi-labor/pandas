{
 "cells": [
  {
   "cell_type": "markdown",
   "metadata": {},
   "source": [
    "# A labor célja\n",
    "\n",
    "A labor célja egy rövid bevezetőt adni a manapság oly népszerű \"data science\" Python eszközeibe.\n",
    "A labor feladatai előtt mindenképp meg kell ismerkedni a Python nyelv alapjaival."
   ]
  },
  {
   "cell_type": "markdown",
   "metadata": {},
   "source": [
    "Gotchas:\n",
    "* dataframe-ben szureskor zarojelezessel meg lehet szivni\n",
    "* figyeljunk az elnevezesekre, beepitett fuggvenyeket felul lehet veletlenul definialni\n",
    "* minden művelet új DataFrame-t eredményez, NEM in-place változtat (kivéve, ha kérjük)\n",
    "  * még a .head() is"
   ]
  },
  {
   "cell_type": "markdown",
   "metadata": {},
   "source": []
  },
  {
   "cell_type": "markdown",
   "metadata": {},
   "source": [
    "# Folytatás\n",
    "\n",
    "Ha kedvet kaptál a témához, érdemes megnézni a [kaggle.com](https://www.kaggle.com/) data science oldalt, ahol megnézheted mások kódját, részt vehetsz versenyeken és sokat tanulhatsz a témáról."
   ]
  }
 ],
 "metadata": {
  "kernelspec": {
   "display_name": "Python 3",
   "language": "python",
   "name": "python3"
  },
  "language_info": {
   "codemirror_mode": {
    "name": "ipython",
    "version": 3
   },
   "file_extension": ".py",
   "mimetype": "text/x-python",
   "name": "python",
   "nbconvert_exporter": "python",
   "pygments_lexer": "ipython3",
   "version": "3.5.1"
  }
 },
 "nbformat": 4,
 "nbformat_minor": 0
}
