{
 "cells": [
  {
   "cell_type": "markdown",
   "metadata": {},
   "source": [
    "# Python alapok\n",
    "\n",
    "Ez a leírás *Python 3.5*-ös verziójához készült, de bármilyen Python 3.3 feletti verzióhoz használható.\n",
    "\n",
    "Az anyag elsajátításához nem szükséges Pythont és Jupytert telepíteni, de teljes értékűbb, ha te is ki tudod próbálni, át tudod írni az itt szereplő kódrészleteket. Amennyiben nem szeretnéd kipróbálni, ugorj a [Python gyorstalpalóra](#Python-gyorstalpal%C3%B3)."
   ]
  },
  {
   "cell_type": "markdown",
   "metadata": {},
   "source": [
    "## Előkészületek\n",
    "\n",
    "Két lehetőségünk van:\n",
    "\n",
    "1. [Anaconda](https://www.continuum.io/downloads) telepítése: az Anaconda egy nagyméretű Python disztribúció, több mint 300 csomaggal.\n",
    "2. Kézi telepítés: 6-8 csomagot fogunk használni, ezeket kézzel is fel lehet telepíteni a *pip* (python package installer) segítségével\n",
    "\n",
    "### 1. Anaconda telepítése\n",
    "\n",
    "https://www.continuum.io/downloads\n",
    "\n",
    "### 2. Kézi telepítés\n",
    "\n",
    "#### Python telepítése\n",
    "\n",
    "https://wiki.python.org/moin/BeginnersGuide/Download\n",
    "\n",
    "IDE-t (PyCharm) nem szükséges telepíteni, mert a felkészüléshez szükséges feladatokat ebben a notebookban lehet futtatni.\n",
    "\n",
    "#### Jupyter (IPython notebok telepítése)\n",
    "\n",
    "http://jupyter.readthedocs.org/en/latest/install.html (a Python telepítését is tartalmazza)\n",
    "\n",
    "#### További csomagok\n",
    "\n",
    "A Pythonnal együtt feltelepült a *pip* nevű csomagkezelő, amellyel minden további csomag telepíthető az alábbi paranccsal:\n",
    "\n",
    "    pip install csomagnév\n",
    "    \n",
    "A következő csomagokra mindenképp szükségünk lesz:\n",
    "\n",
    "1. Ehhez a notebookhoz: jupyter\n",
    "2. A pandas laborhoz: jupyter numpy scipy scikit-learn pandas matplotlib\n",
    "\n",
    "\n",
    "## Notebook betöltése\n",
    "\n",
    "Most pedig ezt a notebookot fogjuk megnyitni és szerkeszteni.\n",
    "\n",
    "1. Töltsük le a git repositoryt (zip fájlként vagy git klienssel): https://github.com/juditacs/labor\n",
    "2. Nyissunk egy terminált/Command Line-t és navigáljunk el a letöltött (és kicsomagolt) repóhoz\n",
    "3. írjuk be a ``jupyter notebook`` parancsot, aminek hatására az alapértelmezett böngészőben megnyílik a jupyter fájlnézegetője. Ha mégsem nyílna meg, akkor a http://localhost:8888 -on találjuk alapértelmezetten (a port felüldefiniálható).\n",
    "4. Navigáljunk el a ``Python_alapok.ipynb`` nevű fájlhoz és indítsuk el\n"
   ]
  },
  {
   "cell_type": "markdown",
   "metadata": {},
   "source": [
    "# Jupyter notebook alapok\n",
    "\n",
    "A Jupyter notebookban cellákba rendezve keverhető a forráskód (Python, de más nyelvek is támogatottak), a Markdown szöveg és képek, illetve grafikonok. A Jupyter egyre népszerűbb kutatási és oktatási projektekben, a gravitációs hullámok felfedezői is ezt használták [tutorial](https://www.reddit.com/r/programming/comments/45hov9/the_ligo_collaboration_releases_data_for/)\n",
    "\n",
    "Minden notebook cellákból épül fel, amik többfélék lehetnek:\n",
    "1. <b>code</b>: forráskód cella. A cellák melletti szögletes zárójelek üresek, ha a cellában lévő kód még nem futott le, \\*-ot tartalmaznak, ha éppen fut és egy számot, ha már lefutott a cella. A kiíró utasítások és az utolsó utasítás eredménye megjelenik a cella alatt.\n",
    "2. <b>markdown</b>: Markdown szöveges cella. LateX-es képleteket is tartalmazhat. A Markdownhoz egy rövid ismertető [itt](http://jupyter-notebook.readthedocs.org/en/latest/examples/Notebook/rstversions/Working%20With%20Markdown%20Cells.html).\n",
    "3. <b>raw</b>: nyers szövegmező.\n",
    "\n",
    "Kiválaszthatunk egy vagy több szomszédos cellát, egy választása esetén kékkel jelöli a választottat. Ekkor <b>Command mode</b>-ban vagyunk. Az Enter lenyomásával vagy dupla kattintással léphetünk <b>Edit mode</b>-ba. Edit módból Esc-pel tudunk Command módba lépni.\n",
    "Command módban érhető el a Help a H gomb megnyomásával, ami tartalmazza az összes gyorsbillentyűt. Ezeket érdemes tanulmányozni és kipróbálni.\n",
    "\n",
    "A cellákat többféle módon futtathatjuk:\n",
    "1. Ctrl+Enter: lefuttatja az aktuális cellát.\n",
    "2. Alt+Enter: lefuttatja az aktuális cellát és létrehoz alatta egy újat.\n",
    "3. Shift+Enter: lefuttatja az aktuális cellát és kiválasztja az alatta lévőt, de nem hoz létre újat.\n",
    "4. Cell/Run all menü: lefuttatja az összes cellát.\n",
    "\n",
    "A notebook mögött egy ún. kernel fut, ami azt jelenti, hogy a cellák közös interpretert használnak, tehát a változók közösek.\n",
    "\n",
    "További hasznos információk:\n",
    "* Command módban az A megnyomásával szúrhatunk be az aktuális cella fölé egy újat, B-vel alá.\n",
    "* tab completion az első mélységig működik\n",
    "* létre lehet hozni checkpointot\n",
    "* cellánként külön lehet visszavonni Ctrl+Z-vel Edit módban\n",
    "* autosave funkció van, de érdemes menteni is\n",
    "* egy notebook valójában egyetlen XML fájl\n",
    "* tab completion a fájlrendszerre is vonatkozik"
   ]
  },
  {
   "cell_type": "markdown",
   "metadata": {},
   "source": [
    "# Python gyorstalpaló"
   ]
  },
  {
   "cell_type": "markdown",
   "metadata": {},
   "source": [
    "## Hello world"
   ]
  },
  {
   "cell_type": "code",
   "execution_count": 19,
   "metadata": {
    "collapsed": false
   },
   "outputs": [
    {
     "name": "stdout",
     "output_type": "stream",
     "text": [
      "Hello world\n",
      "vagy magyarul: Szia világ\n"
     ]
    }
   ],
   "source": [
    "print(\"Hello world\\nvagy magyarul: Szia világ\")"
   ]
  },
  {
   "cell_type": "markdown",
   "metadata": {},
   "source": [
    "## Szintaxis"
   ]
  },
  {
   "cell_type": "markdown",
   "metadata": {},
   "source": [
    "Kötelező az indentálás, 4 space a konvenció. Az indentálás jelöli a blokkok elejét és végét.\n",
    "A Jupyter automatikusan indentálja a következő sort, ha :-vel végződik az előző."
   ]
  },
  {
   "cell_type": "code",
   "execution_count": 20,
   "metadata": {
    "collapsed": false
   },
   "outputs": [
    {
     "name": "stdout",
     "output_type": "stream",
     "text": [
      "0\n",
      "1\n",
      "2\n"
     ]
    }
   ],
   "source": [
    "for x in range(3):\n",
    "    print(x)"
   ]
  },
  {
   "cell_type": "markdown",
   "metadata": {},
   "source": [
    "A \\#-kal kezdődő sorok kommentek, többsoros komment \"\"\"-pal kezdődik és végződik."
   ]
  },
  {
   "cell_type": "code",
   "execution_count": 60,
   "metadata": {
    "collapsed": false
   },
   "outputs": [
    {
     "data": {
      "text/plain": [
       "'én egy többsoros komment vagyok\\nitt az újsor\\n'"
      ]
     },
     "execution_count": 60,
     "metadata": {},
     "output_type": "execute_result"
    }
   ],
   "source": [
    "# én egy egysoros komment vagyok\n",
    "\"\"\"\n",
    "én egy többsoros komment vagyok\n",
    "\"\"\""
   ]
  },
  {
   "cell_type": "markdown",
   "metadata": {},
   "source": [
    "Az értékadás és az összehasonlítás szintaxisa megegyezik a C-s szintaxissal:\n",
    "1. = értékadás\n",
    "2. == összehasonlítás"
   ]
  },
  {
   "cell_type": "code",
   "execution_count": 22,
   "metadata": {
    "collapsed": false
   },
   "outputs": [
    {
     "name": "stdout",
     "output_type": "stream",
     "text": [
      "6 True False\n"
     ]
    }
   ],
   "source": [
    "x = 6\n",
    "print(x, x == 6, x == 3)"
   ]
  },
  {
   "cell_type": "markdown",
   "metadata": {},
   "source": [
    "## Típuskezelés\n",
    "\n",
    "Erősen típusos, tehát az interpreter számon tartja, hogy melyik változó milyen típusú. A típus lekérdezhető."
   ]
  },
  {
   "cell_type": "code",
   "execution_count": 23,
   "metadata": {
    "collapsed": false
   },
   "outputs": [
    {
     "data": {
      "text/plain": [
       "(int, True)"
      ]
     },
     "execution_count": 23,
     "metadata": {},
     "output_type": "execute_result"
    }
   ],
   "source": [
    "type(x), isinstance(x, int)"
   ]
  },
  {
   "cell_type": "markdown",
   "metadata": {},
   "source": [
    "Nincs implicit cast"
   ]
  },
  {
   "cell_type": "code",
   "execution_count": 24,
   "metadata": {
    "collapsed": false
   },
   "outputs": [
    {
     "name": "stdout",
     "output_type": "stream",
     "text": [
      "x: 6\n",
      "x: 6\n"
     ]
    }
   ],
   "source": [
    "# print(\"x: \" + x) # TypeErrort ad\n",
    "print(\"x: \" + str(x)) # ez már helyes\n",
    "print(\"x: {0}\".format(x))  # python format string, automatikusan meghívja a paraméterekre az str függvényt"
   ]
  },
  {
   "cell_type": "markdown",
   "metadata": {},
   "source": [
    "Dinamikus típusok"
   ]
  },
  {
   "cell_type": "code",
   "execution_count": 25,
   "metadata": {
    "collapsed": false
   },
   "outputs": [
    {
     "name": "stdout",
     "output_type": "stream",
     "text": [
      "x típusa:  <class 'int'>\n",
      "x típusa:  <class 'str'>\n"
     ]
    }
   ],
   "source": [
    "x = 6\n",
    "print(\"x típusa: \", type(x))\n",
    "x = \"foo\"\n",
    "print(\"x típusa: \", type(x))"
   ]
  },
  {
   "cell_type": "markdown",
   "metadata": {},
   "source": [
    "Miért nem kellett str(type(x))-et használni? Mert a print függvény a vesszővel elválasztott tetszőleges számú paraméterét kiírja. Az előző példában a + operátor hívásakor szükség lett volna az int paraméter implicit konverziójára."
   ]
  },
  {
   "cell_type": "markdown",
   "metadata": {},
   "source": [
    "Egyéb:\n",
    "* A paraméterek nevei case-sensitive-ek.\n",
    "* Minden osztály."
   ]
  },
  {
   "cell_type": "markdown",
   "metadata": {},
   "source": [
    "## Típusok\n",
    "\n",
    "### Immutable típusok\n",
    "\n",
    "1. int\n",
    "2. float\n",
    "3. str\n",
    "4. tuple\n",
    "5. bool"
   ]
  },
  {
   "cell_type": "code",
   "execution_count": 69,
   "metadata": {
    "collapsed": false
   },
   "outputs": [
    {
     "data": {
      "text/plain": [
       "(int, float, str, tuple, bool)"
      ]
     },
     "execution_count": 69,
     "metadata": {},
     "output_type": "execute_result"
    }
   ],
   "source": [
    "i = 2\n",
    "f = 3.2\n",
    "s = 'abc'  # s[1] = 'a' hibát adna\n",
    "t = (i, f, s)\n",
    "b = True  # False\n",
    "type(i), type(f), type(s), type(t), type(b)"
   ]
  },
  {
   "cell_type": "markdown",
   "metadata": {},
   "source": [
    "A tuple elemei indexelhetők."
   ]
  },
  {
   "cell_type": "code",
   "execution_count": 27,
   "metadata": {
    "collapsed": false
   },
   "outputs": [
    {
     "data": {
      "text/plain": [
       "3.2"
      ]
     },
     "execution_count": 27,
     "metadata": {},
     "output_type": "execute_result"
    }
   ],
   "source": [
    "t[1]"
   ]
  },
  {
   "cell_type": "markdown",
   "metadata": {},
   "source": [
    "## Mutable típusok"
   ]
  },
  {
   "cell_type": "markdown",
   "metadata": {},
   "source": [
    "3. str: string alaptípus. Alapértelmezetten unicode, ami kiíráskor kódolódik a rendszer default karakterkódolásába. Ez Python2-ben még nem így volt, kézzel kellett kódolni és dekódolni.\n",
    "4. dict: hash tábla alapú adattípus\n",
    "5. set: halmaz. Értelmezettek a halmaz alapműveletek, mint a metszet (set1 & set2), az unió (set1 | set2) vagy a különbség (set1 - set2)\n",
    "6. list: alapvető tároló. Nem láncolt lista, hanem dinamikus tömb."
   ]
  },
  {
   "cell_type": "markdown",
   "metadata": {},
   "source": [
    "## Null objektum\n",
    "\n",
    "Egy ilyen objektum létezik None néven. Ez a függények visszatérési értéke, ha nincs valami mást visszaadó return utasítás.\n",
    "Lehet rá külön vizsgálni:"
   ]
  },
  {
   "cell_type": "code",
   "execution_count": 3,
   "metadata": {
    "collapsed": false
   },
   "outputs": [
    {
     "name": "stdout",
     "output_type": "stream",
     "text": [
      "A None None-e: True\n",
      "A False None-e: False\n",
      "A 0 None-e: False\n"
     ]
    }
   ],
   "source": [
    "print('A None None-e: {}'.format(None is None))\n",
    "print('A False None-e: {}'.format(False is None))\n",
    "print('A 0 None-e: {}'.format(0 is None))"
   ]
  },
  {
   "cell_type": "markdown",
   "metadata": {},
   "source": [
    "## Stringkezelés\n",
    "\n",
    "Alapértelmezetten unicode, ami kiíráskor kódolódik a rendszer default karakterkódolásába. Ez Python2-ben még nem így volt, kézzel kellett kódolni és dekódolni.\n",
    "\n",
    "Rengeteg beépített stringkezelő függvény és rendkívül rugalmas címzési lehetőségek állnak rendelkezésünkre."
   ]
  },
  {
   "cell_type": "code",
   "execution_count": 28,
   "metadata": {
    "collapsed": false
   },
   "outputs": [
    {
     "name": "stdout",
     "output_type": "stream",
     "text": [
      "30\n",
      "False True\n",
      "Assignment failed\n",
      "A 20. karaktertől: g egy Álma\n",
      "A 5-19. karakterig: y alma, az pedi\n",
      "A legutolsó karakter: a\n"
     ]
    }
   ],
   "source": [
    "s = 'ez egy alma, az pedig egy Álma'\n",
    "print(len(s))\n",
    "print(s.startswith('abc'), s.endswith('a'))\n",
    "try:\n",
    "    s[1] = 'n'\n",
    "except TypeError:\n",
    "    print(\"Assignment failed\")\n",
    "\n",
    "print(\"A 20. karaktertől: {0}\".format(s[20:]))\n",
    "print(\"A 5-19. karakterig: {0}\".format(s[5:20]))  # a záróindex nincs benne!\n",
    "print(\"A legutolsó karakter: {0}\".format(s[-1:]))\n"
   ]
  },
  {
   "cell_type": "markdown",
   "metadata": {},
   "source": [
    "## Dictionary\n",
    "\n",
    "A beépített dict típus egy kulcs-érték párokat tartalmazó adatszerkezet. A kulcsok csak olyan objektumok lehetnek, amikből hash számolható (de ezt a hash függvényt mi magunk is definiálhatjuk), az értékekre nincs megkötés."
   ]
  },
  {
   "cell_type": "code",
   "execution_count": 35,
   "metadata": {
    "collapsed": false
   },
   "outputs": [
    {
     "data": {
      "text/plain": [
       "{'a': 1, 'b': 2, 'c': 3}"
      ]
     },
     "execution_count": 35,
     "metadata": {},
     "output_type": "execute_result"
    }
   ],
   "source": [
    "d = {'a': 1, 'b': 2}\n",
    "d['c'] = 3\n",
    "d"
   ]
  },
  {
   "cell_type": "code",
   "execution_count": 36,
   "metadata": {
    "collapsed": false
   },
   "outputs": [
    {
     "name": "stdout",
     "output_type": "stream",
     "text": [
      "Upsz\n"
     ]
    }
   ],
   "source": [
    "try:\n",
    "    d['d']\n",
    "except KeyError:\n",
    "    print(\"Upsz\")"
   ]
  },
  {
   "cell_type": "markdown",
   "metadata": {},
   "source": [
    "## Lista\n",
    "\n",
    "A list típus az STL vectorhoz hasonló listát implementál, tehát a háttérben tömb van, nem pedig láncolt lista.\n",
    "\n",
    "Lista létrehozása:"
   ]
  },
  {
   "cell_type": "code",
   "execution_count": 62,
   "metadata": {
    "collapsed": true
   },
   "outputs": [],
   "source": [
    "l = [1, 2, 3, 'négy', 'öt']  # az elemek tetszőleges típusúak lehetnek"
   ]
  },
  {
   "cell_type": "markdown",
   "metadata": {},
   "source": [
    "Az str-hez hasonlóan címezhető:"
   ]
  },
  {
   "cell_type": "code",
   "execution_count": 67,
   "metadata": {
    "collapsed": false
   },
   "outputs": [
    {
     "name": "stdout",
     "output_type": "stream",
     "text": [
      "Az első két elem: [1, 2]\n",
      "A kettes indexű elem: 3\n",
      "Az 1-3-as indexű elem: [2, 3, 'négy']\n"
     ]
    }
   ],
   "source": [
    "print(\"Az első két elem: {}\".format(l[:2]))\n",
    "print(\"A kettes indexű elem: {}\".format(l[2]))\n",
    "print(\"Az 1-3-as indexű elem: {}\".format(l[1:4]))"
   ]
  },
  {
   "cell_type": "markdown",
   "metadata": {},
   "source": [
    "Hatékonyan tudunk a végéhez új elemet fűzni:"
   ]
  },
  {
   "cell_type": "code",
   "execution_count": 68,
   "metadata": {
    "collapsed": false
   },
   "outputs": [
    {
     "data": {
      "text/plain": [
       "[1, 2, 3, 'négy', 'öt', 6]"
      ]
     },
     "execution_count": 68,
     "metadata": {},
     "output_type": "execute_result"
    }
   ],
   "source": [
    "l.append(6)\n",
    "l"
   ]
  },
  {
   "cell_type": "markdown",
   "metadata": {},
   "source": [
    "## Számsorozatok\n",
    "\n",
    "A beépített range függvénnyel lehet számsorozatokat generálni. Egy kötelező paramétere van: a tartomány vége."
   ]
  },
  {
   "cell_type": "code",
   "execution_count": 6,
   "metadata": {
    "collapsed": false
   },
   "outputs": [
    {
     "name": "stdout",
     "output_type": "stream",
     "text": [
      "[0, 1, 2, 3, 4]\n"
     ]
    }
   ],
   "source": [
    "print(list(range(5)))"
   ]
  },
  {
   "cell_type": "markdown",
   "metadata": {},
   "source": [
    "Két dolgot is megfigyelhetünk:\n",
    "1. jobbról nyitott intervallumot generál, tehát a range(a) 0-tól a-1-ig generálja le az egészeket.\n",
    "2. list-té kellett konvertálni, mert range egy generátorral tér vissza. Részletekre most nem térünk ki.\n",
    "\n",
    "További lehetőségek:"
   ]
  },
  {
   "cell_type": "code",
   "execution_count": 11,
   "metadata": {
    "collapsed": false
   },
   "outputs": [
    {
     "name": "stdout",
     "output_type": "stream",
     "text": [
      "Számok -5-től 2-ig: [-5, -4, -3, -2, -1, 0, 1, 2]\n",
      "Számok kettesével: [0, 2, 4, 6, 8, 10, 12, 14, 16, 18]\n"
     ]
    }
   ],
   "source": [
    "print(\"Számok -5-től 2-ig: {}\".format(list(range(-5, 3))))\n",
    "print(\"Számok kettesével: {}\".format(list(range(0, 20, 2))))"
   ]
  },
  {
   "cell_type": "markdown",
   "metadata": {},
   "source": [
    "## Operátorok\n",
    "\n",
    "Az operátorok nem sokban térnek el a C/C++-ban megszokott operátoroktól, kivéve a következőket:\n",
    "\n",
    "* a logikai vagy és a logikai és ||, illetve && helyett az *or* és az *end* kulcsszavakkal használható"
   ]
  },
  {
   "cell_type": "code",
   "execution_count": 29,
   "metadata": {
    "collapsed": false
   },
   "outputs": [
    {
     "name": "stdout",
     "output_type": "stream",
     "text": [
      "True\n",
      "False\n"
     ]
    }
   ],
   "source": [
    "a = 2\n",
    "b = 3\n",
    "print(a == 2 and b == 3)\n",
    "print(a == 1 or b < 2)"
   ]
  },
  {
   "cell_type": "markdown",
   "metadata": {},
   "source": [
    "* létezik egész osztás, ami két float hányadosának az egészrészét adja meg"
   ]
  },
  {
   "cell_type": "code",
   "execution_count": 30,
   "metadata": {
    "collapsed": false
   },
   "outputs": [
    {
     "data": {
      "text/plain": [
       "(2.909090909090909, 2.0)"
      ]
     },
     "execution_count": 30,
     "metadata": {},
     "output_type": "execute_result"
    }
   ],
   "source": [
    "3.2 / 1.1, 3.2 // 1.1"
   ]
  },
  {
   "cell_type": "markdown",
   "metadata": {},
   "source": [
    "Létezik hatványozó-operátor"
   ]
  },
  {
   "cell_type": "code",
   "execution_count": 38,
   "metadata": {
    "collapsed": false
   },
   "outputs": [
    {
     "data": {
      "text/plain": [
       "16"
      ]
     },
     "execution_count": 38,
     "metadata": {},
     "output_type": "execute_result"
    }
   ],
   "source": [
    "2 ** 4"
   ]
  },
  {
   "cell_type": "markdown",
   "metadata": {},
   "source": [
    "A bitwise ÉS és VAGY megegyezik a C-s operátorokkal."
   ]
  },
  {
   "cell_type": "markdown",
   "metadata": {},
   "source": [
    "## Függvények\n",
    "\n",
    "Függvényt a def kulcsszóval hozhatunk létre. A visszatérési érték típusát nem kell deklarálni és explicit return utasítás elhagyása esetén None-nal térnek vissza a függvények. Alapértelmezett értékek adhatók a paramétereknek, ahogy C++-ban megszoktuk:"
   ]
  },
  {
   "cell_type": "code",
   "execution_count": 31,
   "metadata": {
    "collapsed": true
   },
   "outputs": [],
   "source": [
    "def print_my_name(firstname, lastname, title='Ms.'):\n",
    "    print('Hello {0} {1} {2}!'.format(title, firstname, lastname))  # format string, részletesebben ld. dokumentáció"
   ]
  },
  {
   "cell_type": "markdown",
   "metadata": {},
   "source": [
    "Függvény hívásakor kétféleképpen adhatunk át paramétert:\n",
    "1. pozíciónálisan\n",
    "2. név szerint"
   ]
  },
  {
   "cell_type": "code",
   "execution_count": 32,
   "metadata": {
    "collapsed": false
   },
   "outputs": [
    {
     "name": "stdout",
     "output_type": "stream",
     "text": [
      "Hello Mr Jakab Gipsz!\n",
      "Hello Ms. Rita Marga!\n"
     ]
    }
   ],
   "source": [
    "print_my_name('Jakab', 'Gipsz', 'Mr')\n",
    "print_my_name(lastname='Marga', firstname='Rita')"
   ]
  },
  {
   "cell_type": "markdown",
   "metadata": {},
   "source": [
    "## Osztályok\n",
    "\n",
    "A Python támogatja a megszokott OOP funkciókat. Osztályok létrehozása a class kulcsszóval történik:"
   ]
  },
  {
   "cell_type": "code",
   "execution_count": 39,
   "metadata": {
    "collapsed": true
   },
   "outputs": [],
   "source": [
    "class A:\n",
    "    pass  # ez a pythonos NOP"
   ]
  },
  {
   "cell_type": "markdown",
   "metadata": {},
   "source": [
    "Konstruktort a __init__ magic (tényleg!) függvénnyel írhatunk. Destruktort - garbage collectoros nyelv lévén - nincs. A __del__ hívódik az objektum begyűjtésekor, azonban nem tudjuk, mikor fut le ez a függvény."
   ]
  },
  {
   "cell_type": "code",
   "execution_count": 40,
   "metadata": {
    "collapsed": true
   },
   "outputs": [],
   "source": [
    "class A:\n",
    "    def __init__(self, param=42):\n",
    "        self.p = param"
   ]
  },
  {
   "cell_type": "markdown",
   "metadata": {},
   "source": [
    "Minden metódusnak kötelező átvennie explicit a self paramétert, ezen keresztül fogja elérni az objektum attribútumait."
   ]
  },
  {
   "cell_type": "code",
   "execution_count": 54,
   "metadata": {
    "collapsed": true
   },
   "outputs": [],
   "source": [
    "class NamePrinter:\n",
    "    def __init__(self, firstname, lastname, title='Ms.'):\n",
    "        self.firstname = firstname\n",
    "        self.lastname = lastname\n",
    "        self.title = title\n",
    "        \n",
    "    def greet_with_title(self):\n",
    "        print('Hello {0} {1} {2}'.format(self.title, self.firstname, self.lastname, self.title))\n",
    "        \n",
    "        \n",
    "    def greet_without_title(self):\n",
    "        print('Hello {0} {1}'.format(self.firstname, self.lastname))"
   ]
  },
  {
   "cell_type": "markdown",
   "metadata": {},
   "source": [
    "A példányosítás ugyanúgy paraméterezhető, mint a függvényhívás."
   ]
  },
  {
   "cell_type": "code",
   "execution_count": 59,
   "metadata": {
    "collapsed": false
   },
   "outputs": [
    {
     "name": "stdout",
     "output_type": "stream",
     "text": [
      "Hello Mr Jakab Gipsz\n",
      "Hello Rita Marga\n"
     ]
    }
   ],
   "source": [
    "nm1 = NamePrinter('Jakab', 'Gipsz', 'Mr')\n",
    "nm2 = NamePrinter(lastname='Marga', firstname='Rita')\n",
    "nm1.greet_with_title()\n",
    "nm2.greet_without_title()"
   ]
  },
  {
   "cell_type": "markdown",
   "metadata": {},
   "source": [
    "# Disclaimer\n",
    "\n",
    "A Python nyelv funkcióinak gazdagsága miatt nincs lehetőség minden részletet bemutatni, nem is erre törekedtem. Igyekeztem a laborhoz hasznos információkra felhívni a figyelmeteket.\n",
    "\n",
    "Az anyag folyamatosan bővül. Ha érdekel, kövesd a repositoryt (Watch gomb).\n",
    "\n",
    "Az esetleges hibákat kérlek jelezd nekem a emailben [keresztnevem] at aut_bme-hu email címen vagy GitHub issue-ban."
   ]
  }
 ],
 "metadata": {
  "kernelspec": {
   "display_name": "Python 3",
   "language": "python",
   "name": "python3"
  },
  "language_info": {
   "codemirror_mode": {
    "name": "ipython",
    "version": 3
   },
   "file_extension": ".py",
   "mimetype": "text/x-python",
   "name": "python",
   "nbconvert_exporter": "python",
   "pygments_lexer": "ipython3",
   "version": "3.5.1"
  }
 },
 "nbformat": 4,
 "nbformat_minor": 0
}
