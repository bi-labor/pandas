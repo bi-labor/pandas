{
 "cells": [
  {
   "cell_type": "markdown",
   "metadata": {},
   "source": [
    "# Python alapok\n",
    "\n",
    "Ez a leírás *Python 3.5*-ös verziójához készült, de bármilyen Python 3.3 feletti verzióhoz használható."
   ]
  },
  {
   "cell_type": "markdown",
   "metadata": {},
   "source": [
    "## Előkészületek\n",
    "\n",
    "Két lehetőségünk van:\n",
    "\n",
    "1. [Anaconda](https://www.continuum.io/downloads) telepítése: az Anaconda egy nagyméretű Python disztribúció, több mint 300 csomaggal. Cserébe elég nagyméretű.\n",
    "2. Kézi telepítés: 6-8 csomagot fogunk használni, ezeket kézzel is fel lehet telepíteni a *pip* (python package installer) segítségével\n",
    "\n",
    "### Kézi telepítés\n",
    "\n",
    "#### Python telepítése\n",
    "\n",
    "https://wiki.python.org/moin/BeginnersGuide/Download\n",
    "\n",
    "IDE-t (PyCharm) nem szükséges telepíteni, mert a felkészüléshez szükséges feladatokat ebben a notebookban lehet futtatni.\n",
    "\n",
    "#### Jupyter (IPython notebok telepítése)\n",
    "\n",
    "http://jupyter.readthedocs.org/en/latest/install.html (a Python telepítését is tartalmazza)\n",
    "\n",
    "#### További csomagok\n",
    "\n",
    "A Pythonnal együtt feltelepült a *pip* nevű csomagkezelő, amellyel minden további csomag telepíthető az alábbi paranccsal:\n",
    "\n",
    "    pip install csomagnév\n",
    "    \n",
    "A következő csomagokra mindenképp szükségünk lesz:\n",
    "\n",
    "## Notebook betöltése\n",
    "\n",
    "Most pedig ezt a notebookot fogjuk megnyitni és szerkeszteni.\n",
    "\n",
    "1. Töltsük le a git repositoryt (zip fájlként vagy git klienssel): https://github.com/juditacs/labor\n",
    "2. Nyissunk egy terminált/Command Line-t és navigáljunk el a letöltött (és kicsomagolt) repóhoz\n",
    "3. írjuk be a ``jupyter notebook`` parancsot, aminek hatására az alapértelmezett böngészőben megnyílik a jupyter fájlnézegetője\n",
    "4. A böngésző \n"
   ]
  },
  {
   "cell_type": "markdown",
   "metadata": {},
   "source": [
    "## Hello world"
   ]
  },
  {
   "cell_type": "code",
   "execution_count": 2,
   "metadata": {
    "collapsed": false
   },
   "outputs": [
    {
     "name": "stdout",
     "output_type": "stream",
     "text": [
      "Hello world\n",
      "vagy magyarul: Szia világ\n"
     ]
    }
   ],
   "source": [
    "print(\"Hello world\\nvagy magyarul: Szia világ\")"
   ]
  }
 ],
 "metadata": {
  "kernelspec": {
   "display_name": "Python 3",
   "language": "python",
   "name": "python3"
  },
  "language_info": {
   "codemirror_mode": {
    "name": "ipython",
    "version": 3
   },
   "file_extension": ".py",
   "mimetype": "text/x-python",
   "name": "python",
   "nbconvert_exporter": "python",
   "pygments_lexer": "ipython3",
   "version": "3.5.1"
  }
 },
 "nbformat": 4,
 "nbformat_minor": 0
}
