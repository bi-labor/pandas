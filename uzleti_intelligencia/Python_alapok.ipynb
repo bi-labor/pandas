{
 "cells": [
  {
   "cell_type": "markdown",
   "metadata": {},
   "source": [
    "# Python alapok\n",
    "\n",
    "Ez a leírás *Python 3.5*-ös verziójához készült, de bármilyen Python 3.3 feletti verzióhoz használható."
   ]
  },
  {
   "cell_type": "markdown",
   "metadata": {},
   "source": [
    "## Előkészületek\n",
    "\n",
    "Két lehetőségünk van:\n",
    "\n",
    "1. [Anaconda](https://www.continuum.io/downloads) telepítése: az Anaconda egy nagyméretű Python disztribúció, több mint 300 csomaggal.\n",
    "2. Kézi telepítés: 6-8 csomagot fogunk használni, ezeket kézzel is fel lehet telepíteni a *pip* (python package installer) segítségével\n",
    "\n",
    "### 1. Anaconda telepítése\n",
    "\n",
    "https://www.continuum.io/downloads\n",
    "\n",
    "### 2. Kézi telepítés\n",
    "\n",
    "#### Python telepítése\n",
    "\n",
    "https://wiki.python.org/moin/BeginnersGuide/Download\n",
    "\n",
    "IDE-t (PyCharm) nem szükséges telepíteni, mert a felkészüléshez szükséges feladatokat ebben a notebookban lehet futtatni.\n",
    "\n",
    "#### Jupyter (IPython notebok telepítése)\n",
    "\n",
    "http://jupyter.readthedocs.org/en/latest/install.html (a Python telepítését is tartalmazza)\n",
    "\n",
    "#### További csomagok\n",
    "\n",
    "A Pythonnal együtt feltelepült a *pip* nevű csomagkezelő, amellyel minden további csomag telepíthető az alábbi paranccsal:\n",
    "\n",
    "    pip install csomagnév\n",
    "    \n",
    "A következő csomagokra mindenképp szükségünk lesz:\n",
    "\n",
    "TODO\n",
    "\n",
    "## Notebook betöltése\n",
    "\n",
    "Most pedig ezt a notebookot fogjuk megnyitni és szerkeszteni.\n",
    "\n",
    "1. Töltsük le a git repositoryt (zip fájlként vagy git klienssel): https://github.com/juditacs/labor\n",
    "2. Nyissunk egy terminált/Command Line-t és navigáljunk el a letöltött (és kicsomagolt) repóhoz\n",
    "3. írjuk be a ``jupyter notebook`` parancsot, aminek hatására az alapértelmezett böngészőben megnyílik a jupyter fájlnézegetője. Ha mégsem nyílna meg, akkor a http://localhost:8888 -on találjuk alapértelmezetten (a port felüldefiniálható).\n",
    "4. Navigáljunk el a ``Python_alapok.ipynb`` nevű fájlhoz és indítsuk el\n"
   ]
  },
  {
   "cell_type": "markdown",
   "metadata": {},
   "source": [
    "# Jupyter notebook alapok\n",
    "\n",
    "A Jupyter notebookban cellákba rendezve keverhető a forráskód (Python, de más nyelvek is támogatottak), a Markdown szöveg és képek, illetve grafikonok. A Jupyter egyre népszerűbb kutatási és oktatási projektekben, a gravitációs hullámok felfedezői is ezt használták [tutorial](https://www.reddit.com/r/programming/comments/45hov9/the_ligo_collaboration_releases_data_for/)\n",
    "\n",
    "Minden notebook cellákból épül fel, amik többfélék lehetnek:\n",
    "1. <b>code</b>: forráskód cella. A cellák melletti szögletes zárójelek üresek, ha a cellában lévő kód még nem futott le, \\*-ot tartalmaznak, ha éppen fut és egy számot, ha már lefutott a cella. A kiíró utasítások és az utolsó utasítás eredménye megjelenik a cella alatt.\n",
    "2. <b>markdown</b>: Markdown szöveges cella. LateX-es képleteket is tartalmazhat. A Markdownhoz egy rövid ismertető [itt](http://jupyter-notebook.readthedocs.org/en/latest/examples/Notebook/rstversions/Working%20With%20Markdown%20Cells.html).\n",
    "3. <b>raw</b>: nyers szövegmező.\n",
    "\n",
    "Kiválaszthatunk egy vagy több szomszédos cellát, egy választása esetén kékkel jelöli a választottat. Ekkor <b>Command mode</b>-ban vagyunk. Az Enter lenyomásával vagy dupla kattintással léphetünk <b>Edit mode</b>-ba. Edit módból Esc-pel tudunk Command módba lépni.\n",
    "Command módban érhető el a Help a H gomb megnyomásával, ami tartalmazza az összes gyorsbillentyűt. Ezeket érdemes tanulmányozni és kipróbálni.\n",
    "\n",
    "A cellákat többféle módon futtathatjuk:\n",
    "1. Ctrl+Enter: lefuttatja az aktuális cellát.\n",
    "2. Alt+Enter: lefuttatja az aktuális cellát és létrehoz alatta egy újat.\n",
    "3. Shift+Enter: lefuttatja az aktuális cellát és kiválasztja az alatta lévőt, de nem hoz létre újat.\n",
    "4. Cell/Run all menü: lefuttatja az összes cellát.\n",
    "\n",
    "A notebook mögött egy ún. kernel fut, ami azt jelenti, hogy a cellák közös interpretert használnak, tehát a változók közösek.\n",
    "\n",
    "További hasznos információk:\n",
    "1. Command módban az A megnyomásával szúrhatunk be az aktuális cella fölé egy újat, B-vel alá.\n"
   ]
  },
  {
   "cell_type": "markdown",
   "metadata": {},
   "source": [
    "## Hello world"
   ]
  },
  {
   "cell_type": "code",
   "execution_count": 1,
   "metadata": {
    "collapsed": false
   },
   "outputs": [
    {
     "name": "stdout",
     "output_type": "stream",
     "text": [
      "Hello world\n",
      "vagy magyarul: Szia világ\n"
     ]
    }
   ],
   "source": [
    "print(\"Hello world\\nvagy magyarul: Szia világ\")"
   ]
  },
  {
   "cell_type": "markdown",
   "metadata": {},
   "source": [
    "# Jupyter notebook\n",
    "\n",
    "* checkpoint\n",
    "* H - help box with hotkeys\n",
    "* mit jelent a cella szine, mellette a csillag\n",
    "* tab completion csak az elso melysegig mukodik (van ra megoldas?)"
   ]
  }
 ],
 "metadata": {
  "kernelspec": {
   "display_name": "Python 3",
   "language": "python",
   "name": "python3"
  },
  "language_info": {
   "codemirror_mode": {
    "name": "ipython",
    "version": 3
   },
   "file_extension": ".py",
   "mimetype": "text/x-python",
   "name": "python",
   "nbconvert_exporter": "python",
   "pygments_lexer": "ipython3",
   "version": "3.5.1"
  }
 },
 "nbformat": 4,
 "nbformat_minor": 0
}
