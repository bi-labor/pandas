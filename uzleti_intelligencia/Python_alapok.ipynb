{
 "cells": [
  {
   "cell_type": "markdown",
   "metadata": {},
   "source": [
    "# Python alapok\n",
    "\n",
    "Ez a leírás *Python 3.5*-ös verziójához készült, de bármilyen Python 3.3 feletti verzióhoz használható."
   ]
  },
  {
   "cell_type": "markdown",
   "metadata": {},
   "source": [
    "## Előkészületek\n",
    "\n",
    "Két lehetőségünk van:\n",
    "\n",
    "1. [Anaconda](https://www.continuum.io/downloads) telepítése: az Anaconda egy nagyméretű Python disztribúció, több mint 300 csomaggal.\n",
    "2. Kézi telepítés: 6-8 csomagot fogunk használni, ezeket kézzel is fel lehet telepíteni a *pip* (python package installer) segítségével\n",
    "\n",
    "### 1. Anaconda telepítése\n",
    "\n",
    "https://www.continuum.io/downloads\n",
    "\n",
    "### 2. Kézi telepítés\n",
    "\n",
    "#### Python telepítése\n",
    "\n",
    "https://wiki.python.org/moin/BeginnersGuide/Download\n",
    "\n",
    "IDE-t (PyCharm) nem szükséges telepíteni, mert a felkészüléshez szükséges feladatokat ebben a notebookban lehet futtatni.\n",
    "\n",
    "#### Jupyter (IPython notebok telepítése)\n",
    "\n",
    "http://jupyter.readthedocs.org/en/latest/install.html (a Python telepítését is tartalmazza)\n",
    "\n",
    "#### További csomagok\n",
    "\n",
    "A Pythonnal együtt feltelepült a *pip* nevű csomagkezelő, amellyel minden további csomag telepíthető az alábbi paranccsal:\n",
    "\n",
    "    pip install csomagnév\n",
    "    \n",
    "A következő csomagokra mindenképp szükségünk lesz:\n",
    "\n",
    "TODO\n",
    "\n",
    "## Notebook betöltése\n",
    "\n",
    "Most pedig ezt a notebookot fogjuk megnyitni és szerkeszteni.\n",
    "\n",
    "1. Töltsük le a git repositoryt (zip fájlként vagy git klienssel): https://github.com/juditacs/labor\n",
    "2. Nyissunk egy terminált/Command Line-t és navigáljunk el a letöltött (és kicsomagolt) repóhoz\n",
    "3. írjuk be a ``jupyter notebook`` parancsot, aminek hatására az alapértelmezett böngészőben megnyílik a jupyter fájlnézegetője. Ha mégsem nyílna meg, akkor a http://localhost:8888 -on találjuk alapértelmezetten (a port felüldefiniálható).\n",
    "4. Navigáljunk el a ``Python_alapok.ipynb`` nevű fájlhoz és indítsuk el\n"
   ]
  },
  {
   "cell_type": "markdown",
   "metadata": {},
   "source": [
    "# Jupyter notebook alapok\n",
    "\n",
    "A Jupyter notebookban cellákba rendezve keverhető a forráskód (Python, de más nyelvek is támogatottak), a Markdown szöveg és képek, illetve grafikonok. A Jupyter egyre népszerűbb kutatási és oktatási projektekben, a gravitációs hullámok felfedezői is ezt használták [tutorial](https://www.reddit.com/r/programming/comments/45hov9/the_ligo_collaboration_releases_data_for/)\n",
    "\n",
    "Minden notebook cellákból épül fel, amik többfélék lehetnek:\n",
    "1. <b>code</b>: forráskód cella. A cellák melletti szögletes zárójelek üresek, ha a cellában lévő kód még nem futott le, \\*-ot tartalmaznak, ha éppen fut és egy számot, ha már lefutott a cella. A kiíró utasítások és az utolsó utasítás eredménye megjelenik a cella alatt.\n",
    "2. <b>markdown</b>: Markdown szöveges cella. LateX-es képleteket is tartalmazhat. A Markdownhoz egy rövid ismertető [itt](http://jupyter-notebook.readthedocs.org/en/latest/examples/Notebook/rstversions/Working%20With%20Markdown%20Cells.html).\n",
    "3. <b>raw</b>: nyers szövegmező.\n",
    "\n",
    "Kiválaszthatunk egy vagy több szomszédos cellát, egy választása esetén kékkel jelöli a választottat. Ekkor <b>Command mode</b>-ban vagyunk. Az Enter lenyomásával vagy dupla kattintással léphetünk <b>Edit mode</b>-ba. Edit módból Esc-pel tudunk Command módba lépni.\n",
    "Command módban érhető el a Help a H gomb megnyomásával, ami tartalmazza az összes gyorsbillentyűt. Ezeket érdemes tanulmányozni és kipróbálni.\n",
    "\n",
    "A cellákat többféle módon futtathatjuk:\n",
    "1. Ctrl+Enter: lefuttatja az aktuális cellát.\n",
    "2. Alt+Enter: lefuttatja az aktuális cellát és létrehoz alatta egy újat.\n",
    "3. Shift+Enter: lefuttatja az aktuális cellát és kiválasztja az alatta lévőt, de nem hoz létre újat.\n",
    "4. Cell/Run all menü: lefuttatja az összes cellát.\n",
    "\n",
    "A notebook mögött egy ún. kernel fut, ami azt jelenti, hogy a cellák közös interpretert használnak, tehát a változók közösek.\n",
    "\n",
    "További hasznos információk:\n",
    "* Command módban az A megnyomásával szúrhatunk be az aktuális cella fölé egy újat, B-vel alá.\n",
    "* tab completion az első mélységig működik\n",
    "* létre lehet hozni checkpointot\n",
    "* cellánként külön lehet visszavonni Ctrl+Z-vel Edit módban\n",
    "* autosave funkció van, de érdemes menteni is\n",
    "* egy notebook valójában egyetlen XML fájl\n",
    "* tab completion a fájlrendszerre is vonatkozik"
   ]
  },
  {
   "cell_type": "markdown",
   "metadata": {},
   "source": [
    "# Python gyorstalpaló"
   ]
  },
  {
   "cell_type": "markdown",
   "metadata": {},
   "source": [
    "## Hello world"
   ]
  },
  {
   "cell_type": "code",
   "execution_count": 1,
   "metadata": {
    "collapsed": false
   },
   "outputs": [
    {
     "name": "stdout",
     "output_type": "stream",
     "text": [
      "Hello world\n",
      "vagy magyarul: Szia világ\n"
     ]
    }
   ],
   "source": [
    "print(\"Hello world\\nvagy magyarul: Szia világ\")"
   ]
  },
  {
   "cell_type": "markdown",
   "metadata": {},
   "source": [
    "## Szintaxis"
   ]
  },
  {
   "cell_type": "markdown",
   "metadata": {},
   "source": [
    "Kötelező az indentálás, 4 space a konvenció. Az indentálás jelöli a blokkok elejét és végét.\n",
    "A Jupyter automatikusan indentálja a következő sort, ha :-vel végződik az előző."
   ]
  },
  {
   "cell_type": "code",
   "execution_count": 3,
   "metadata": {
    "collapsed": false
   },
   "outputs": [
    {
     "name": "stdout",
     "output_type": "stream",
     "text": [
      "0\n",
      "1\n",
      "2\n"
     ]
    }
   ],
   "source": [
    "for x in range(3):\n",
    "    print(x)"
   ]
  },
  {
   "cell_type": "markdown",
   "metadata": {},
   "source": [
    "A \\#-kal kezdődő sorok kommentek, többsoros komment \"\"\"-pal kezdődik és végződik."
   ]
  },
  {
   "cell_type": "code",
   "execution_count": 4,
   "metadata": {
    "collapsed": false
   },
   "outputs": [
    {
     "data": {
      "text/plain": [
       "'\\nén egy többsoros komment vagyok\\n'"
      ]
     },
     "execution_count": 4,
     "metadata": {},
     "output_type": "execute_result"
    }
   ],
   "source": [
    "# én egy egysoros komment vagyok\n",
    "\"\"\"\n",
    "én egy többsoros komment vagyok\n",
    "\"\"\""
   ]
  },
  {
   "cell_type": "markdown",
   "metadata": {},
   "source": [
    "Az értékadás és az összehasonlítás szintaxisa megegyezik a C-s szintaxissal:\n",
    "1. = értékadás\n",
    "2. == összehasonlítás"
   ]
  },
  {
   "cell_type": "code",
   "execution_count": 7,
   "metadata": {
    "collapsed": false
   },
   "outputs": [
    {
     "name": "stdout",
     "output_type": "stream",
     "text": [
      "6 True False\n"
     ]
    }
   ],
   "source": [
    "x = 6\n",
    "print(x, x == 6, x == 3)"
   ]
  },
  {
   "cell_type": "markdown",
   "metadata": {},
   "source": [
    "## Típuskezelés\n",
    "\n",
    "Erősen típusos, tehát az interpreter számon tartja, hogy melyik változó milyen típusú. A típus lekérdezhető."
   ]
  },
  {
   "cell_type": "code",
   "execution_count": 13,
   "metadata": {
    "collapsed": false
   },
   "outputs": [
    {
     "data": {
      "text/plain": [
       "(int, True)"
      ]
     },
     "execution_count": 13,
     "metadata": {},
     "output_type": "execute_result"
    }
   ],
   "source": [
    "type(x), isinstance(x, int)"
   ]
  },
  {
   "cell_type": "markdown",
   "metadata": {},
   "source": [
    "Nincs implicit cast"
   ]
  },
  {
   "cell_type": "code",
   "execution_count": 17,
   "metadata": {
    "collapsed": false
   },
   "outputs": [
    {
     "name": "stdout",
     "output_type": "stream",
     "text": [
      "x: 6\n"
     ]
    }
   ],
   "source": [
    "# print(\"x: \" + x) # TypeErrort ad\n",
    "print(\"x: \" + str(x)) # ez már helyes"
   ]
  },
  {
   "cell_type": "markdown",
   "metadata": {},
   "source": [
    "Dinamikus típusok"
   ]
  },
  {
   "cell_type": "code",
   "execution_count": 21,
   "metadata": {
    "collapsed": false
   },
   "outputs": [
    {
     "name": "stdout",
     "output_type": "stream",
     "text": [
      "x típusa:  <class 'int'>\n",
      "x típusa:  <class 'str'>\n"
     ]
    }
   ],
   "source": [
    "x = 6\n",
    "print(\"x típusa: \", type(x))\n",
    "x = \"foo\"\n",
    "print(\"x típusa: \", type(x))"
   ]
  },
  {
   "cell_type": "markdown",
   "metadata": {},
   "source": [
    "Miért nem kellett str(type(x))-et használni? Mert a print függvény a vesszővel elválasztott tetszőleges számú paraméterét kiírja. Az előző példában a + operátor hívásakor szükség lett volna az int paraméter implicit konverziójára."
   ]
  },
  {
   "cell_type": "markdown",
   "metadata": {},
   "source": [
    "Egyéb:\n",
    "* A paraméterek nevei case-sensitive-ek.\n",
    "* Minden osztály."
   ]
  },
  {
   "cell_type": "markdown",
   "metadata": {},
   "source": [
    "## Legfontosabb típusok\n",
    "\n",
    "1. int\n",
    "2. float\n",
    "3. str: string alaptípus. Alapértelmezetten unicode, ami kiíráskor kódolódik a rendszer default karakterkódolásába. Ez Python2-ben még nem így volt, kézzel kellett kódolni és dekódolni.\n",
    "4. dict: hash tábla alapú adattípus\n",
    "5. set: halmaz. Értelmezettek a halmaz alapműveletek, mint a metszet (set1 & set2), az unió (set1 | set2) vagy a különbség (set1 - set2)\n",
    "6. list: alapvető tároló. Nem láncolt lista, hanem dinamikus tömb.\n",
    "7. Null objektum: egy ilyen objektum létezik None néven. Ez a függények visszatérési értéke, ha nincs valami mást visszaadó return utasítás.\n"
   ]
  },
  {
   "cell_type": "markdown",
   "metadata": {},
   "source": [
    "## Operátorok\n",
    "\n",
    "Az operátorok nem sokban térnek el a C/C++-ban megszokott operátoroktól, kivéve a következőket:\n",
    "\n",
    "* a logikai vagy és a logikai és ||, illetve && helyett az *or* és az *end* kulcsszavakkal használható"
   ]
  },
  {
   "cell_type": "code",
   "execution_count": 26,
   "metadata": {
    "collapsed": false
   },
   "outputs": [
    {
     "name": "stdout",
     "output_type": "stream",
     "text": [
      "True\n",
      "False\n"
     ]
    }
   ],
   "source": [
    "a = 2\n",
    "b = 3\n",
    "print(a == 2 and b == 3)\n",
    "print(a == 1 or b < 2)"
   ]
  },
  {
   "cell_type": "markdown",
   "metadata": {},
   "source": [
    "* létezik egész osztás, ami két float hányadosának az egészrészét adja meg"
   ]
  },
  {
   "cell_type": "code",
   "execution_count": 24,
   "metadata": {
    "collapsed": false
   },
   "outputs": [
    {
     "data": {
      "text/plain": [
       "(2.909090909090909, 2.0)"
      ]
     },
     "execution_count": 24,
     "metadata": {},
     "output_type": "execute_result"
    }
   ],
   "source": [
    "3.2 / 1.1, 3.2 // 1.1"
   ]
  },
  {
   "cell_type": "markdown",
   "metadata": {},
   "source": [
    "A bitwise ÉS és VAGY megegyezik a C-s operátorokkal."
   ]
  },
  {
   "cell_type": "markdown",
   "metadata": {},
   "source": [
    "## Függvények\n",
    "\n",
    "* keyword argumentumok"
   ]
  },
  {
   "cell_type": "markdown",
   "metadata": {},
   "source": [
    "## Osztályok\n",
    "# Hol folytassam?"
   ]
  },
  {
   "cell_type": "markdown",
   "metadata": {},
   "source": [
    "# Disclaimer\n",
    "\n",
    "A Python nyelv funkcióinak gazdagsága miatt nincs lehetőség minden részletet bemutatni, nem is erre törekedtem. Igyekeztem a laborhoz hasznos információkra felhívni a figyelmeteket.\n",
    "\n",
    "Az esetleges hibákat kérlek jelezd nekem a [keresztnevem] at aut_bme_hu email címen."
   ]
  }
 ],
 "metadata": {
  "kernelspec": {
   "display_name": "Python 3",
   "language": "python",
   "name": "python3"
  },
  "language_info": {
   "codemirror_mode": {
    "name": "ipython",
    "version": 3
   },
   "file_extension": ".py",
   "mimetype": "text/x-python",
   "name": "python",
   "nbconvert_exporter": "python",
   "pygments_lexer": "ipython3",
   "version": "3.5.1"
  }
 },
 "nbformat": 4,
 "nbformat_minor": 0
}
